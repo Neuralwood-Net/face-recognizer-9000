{
 "cells": [
  {
   "cell_type": "code",
   "execution_count": 1,
   "metadata": {},
   "outputs": [
    {
     "name": "stdout",
     "output_type": "stream",
     "text": [
      "cats-vs-dogs/\n",
      "cats-vs-dogs/processed/catsvsdogs.npy\n",
      "cats-vs-dogs/raw-data/\n",
      "cats-vs-dogs/raw-data/catsanddogs.zip\n",
      "cats-vs-dogs/tensors/\n",
      "cats-vs-dogs/tensors/catsdogs_processed_64px_24946_horizontal.torch\n",
      "celeba/\n",
      "celeba/processed/\n",
      "celeba/processed/celebalign_processed1.npy\n",
      "celeba/tensors/\n",
      "celeba/tensors/celebalign_processed_20_000_horizontal.torch\n",
      "celeba/tensors/celebalign_processed_64_100000_horizontal.torch\n",
      "celeba/zips/\n",
      "celeba/zips/celeba.zip\n",
      "celeba/zips/img_align_celeba.zip\n",
      "celeba/zips/img_celeba.7z-20201107T135448Z-002.zip\n",
      "celeba/zips/img_celeba.7z.001\n",
      "checkpoints/FleetwoodNet11V1-1604934154/FleetwoodNet11V1-1604934154-epoch-0.data\n",
      "checkpoints/FleetwoodNet11V1-1604934154/FleetwoodNet11V1-1604934154-epoch-1.data\n",
      "checkpoints/FleetwoodNet11V1-1604934154/FleetwoodNet11V1-1604934154-epoch-2.data\n",
      "checkpoints/FleetwoodNet11V1-1604934154/FleetwoodNet11V1-1604934154-epoch-3.data\n",
      "checkpoints/FleetwoodNet11V1-1604934154/FleetwoodNet11V1-1604934154-epoch-4.data\n",
      "faces/\n",
      "faces/augmented_images/\n",
      "faces/augmented_images/augmented_images_lars_morgan_other_110120.zip\n",
      "faces/images/\n",
      "faces/images/images_lars_morgan_other.zip\n",
      "faces/tensors/\n",
      "faces/tensors/lars_morgan_other_augments_64px_110120.torch\n",
      "faces/tensors/larsmorgan_augments_64px_20280.torch\n",
      "faces/tensors/larsmorgan_augments_64px_5800.torch\n",
      "faces/videos/\n",
      "faces/videos/faces.zip\n",
      "tdt4173-datasets/celeba/processed/celebalign_processed.npy\n"
     ]
    }
   ],
   "source": [
    "from google.cloud import storage\n",
    "\n",
    "\n",
    "client = storage.Client()\n",
    "\n",
    "bucket_name = \"tdt4173-datasets\"\n",
    "bucket = client.get_bucket(bucket_name)\n",
    "\n",
    "blobs = bucket.list_blobs()\n",
    "for blob in blobs:\n",
    "    print(blob.name)"
   ]
  },
  {
   "cell_type": "code",
   "execution_count": 2,
   "metadata": {},
   "outputs": [],
   "source": [
    "zipfilename = \"/home/jupyter/data/celeba/img_align_celeba.zip\""
   ]
  },
  {
   "cell_type": "code",
   "execution_count": 3,
   "metadata": {},
   "outputs": [],
   "source": [
    "zipfilename = \"/home/jupyter/data/celeba/img_align_celeba.zip\"\n",
    "blob_name = \"celeba/zips/img_align_celeba.zip\"\n",
    "blob = bucket.get_blob(blob_name)\n",
    "\n",
    "blob.download_to_filename(zipfilename)"
   ]
  },
  {
   "cell_type": "code",
   "execution_count": null,
   "metadata": {},
   "outputs": [],
   "source": [
    "import zipfile\n",
    "with zipfile.ZipFile(zipfilename, 'r') as zip_ref:\n",
    "    zip_ref.extractall(\"/home/jupyter/data/celeb-align-1\")"
   ]
  },
  {
   "cell_type": "code",
   "execution_count": 4,
   "metadata": {},
   "outputs": [],
   "source": [
    "import os\n",
    "import cv2\n",
    "import numpy as np\n",
    "import matplotlib.pyplot as plt\n",
    "from tqdm import tqdm\n",
    "from collections import Counter\n",
    "from glob import glob"
   ]
  },
  {
   "cell_type": "code",
   "execution_count": null,
   "metadata": {},
   "outputs": [],
   "source": [
    "os.listdir(\"/home/jupyter/data/celeb-align-1/img_align_celeba\")\n",
    "img = cv2.imread(\"/home/jupyter/data/celeb-align-1/img_align_celeba/003656.jpg\", cv2.IMREAD_GRAYSCALE)\n",
    "h, w = img.shape\n",
    "img = cv2.copyMakeBorder(\n",
    "    img,\n",
    "    top=int((224-h) / 2),\n",
    "    right=int((224-w) / 2),\n",
    "    bottom=int((224-h) / 2),\n",
    "    left=int((224-w) / 2),\n",
    "    borderType=cv2.BORDER_CONSTANT,\n",
    ")\n",
    "print(img.shape)\n",
    "plt.imshow(img, cmap=\"gray\");"
   ]
  },
  {
   "cell_type": "code",
   "execution_count": null,
   "metadata": {},
   "outputs": [],
   "source": [
    "class CelebAlign:\n",
    "    IMG_SIZE = 224\n",
    "    BASE_PATH = \"/home/jupyter/data/celeb-align-1\"\n",
    "    training_data = []\n",
    "\n",
    "    counts = Counter()\n",
    "\n",
    "    def __init__(self):\n",
    "        self.labels = {}\n",
    "        unique = set()\n",
    "        with open(os.path.join(self.BASE_PATH, \"identity_CelebA.txt\"), \"r\") as f:\n",
    "            for line in f.readlines():\n",
    "                name, label = line.split()\n",
    "                self.labels[name] = int(label)\n",
    "                unique.add(label)\n",
    "        \n",
    "        self.num_labels = len(unique)\n",
    "        print(\"Number of labels:\", self.num_labels)\n",
    "    \n",
    "    def make_training_data(self):\n",
    "        for i, path in enumerate(tqdm(glob(os.path.join(self.BASE_PATH, \"img_align_celeba\", \"*.jpg\")))):\n",
    "            img = cv2.imread(path, cv2.IMREAD_GRAYSCALE)\n",
    "            h, w = img.shape\n",
    "            img = cv2.copyMakeBorder(\n",
    "                img,\n",
    "                top=int((self.IMG_SIZE-h) / 2),\n",
    "                right=int((self.IMG_SIZE-w) / 2),\n",
    "                bottom=int((self.IMG_SIZE-h) / 2),\n",
    "                left=int((self.IMG_SIZE-w) / 2),\n",
    "                borderType=cv2.BORDER_CONSTANT,\n",
    "            )\n",
    "            label = self.labels[path.split(os.path.sep)[-1]]\n",
    "            self.training_data.append([img, label])\n",
    "\n",
    "            self.counts[label] += 1\n",
    "                \n",
    "\n",
    "        np.random.shuffle(self.training_data)\n",
    "        np.save(os.path.join(self.BASE_PATH, \"processed/celebalign_processed.npy\"), self.training_data)\n",
    "\n",
    "celeb = CelebAlign()\n",
    "celeb.make_training_data()"
   ]
  },
  {
   "cell_type": "code",
   "execution_count": null,
   "metadata": {},
   "outputs": [],
   "source": [
    "blob_name = \"celeba/processed/celebalign_processed.npy\"\n",
    "blob = bucket.blob(blob_name)\n",
    "\n",
    "source_file_name = os.path.join(CelebAlign.BASE_PATH, \"processed/celebalign_processed.npy\")\n",
    "blob.upload_from_filename(source_file_name)"
   ]
  },
  {
   "cell_type": "markdown",
   "metadata": {},
   "source": [
    "## Convert from numpy-data to tensor"
   ]
  },
  {
   "cell_type": "code",
   "execution_count": 1,
   "metadata": {},
   "outputs": [],
   "source": [
    "import numpy as np\n",
    "import torch"
   ]
  },
  {
   "cell_type": "code",
   "execution_count": 5,
   "metadata": {},
   "outputs": [],
   "source": [
    "data_file = \"/home/jupyter/data/celeb-align-1/processed/celebalign_processed1.npy\"\n",
    "data = np.load(data_file, allow_pickle=True)"
   ]
  },
  {
   "cell_type": "code",
   "execution_count": 6,
   "metadata": {},
   "outputs": [],
   "source": [
    "IMAGE_SIZE = 224\n",
    "x = torch.Tensor(list(data[0])).view(-1, IMAGE_SIZE, IMAGE_SIZE)\n",
    "x /= 255.0"
   ]
  },
  {
   "cell_type": "code",
   "execution_count": 7,
   "metadata": {},
   "outputs": [],
   "source": [
    "unique = set(data[1])\n",
    "class_mapping = {elem: idx for idx, elem in enumerate(unique)}"
   ]
  },
  {
   "cell_type": "code",
   "execution_count": 8,
   "metadata": {},
   "outputs": [],
   "source": [
    "y = torch.Tensor([class_mapping[elem] for elem in data[1]]).to(torch.int64)"
   ]
  },
  {
   "cell_type": "code",
   "execution_count": 11,
   "metadata": {},
   "outputs": [],
   "source": [
    "torch.save(\n",
    "    {\n",
    "        \"x\": x,\n",
    "        \"y\": y,\n",
    "        \"num_classes\": len(unique),\n",
    "    },\n",
    "    \"/home/jupyter/data/celeb-align-1/tensors/celebalign_processed_100_000_horizontal.torch\",\n",
    ")"
   ]
  },
  {
   "cell_type": "code",
   "execution_count": 5,
   "metadata": {},
   "outputs": [
    {
     "ename": "RuntimeError",
     "evalue": "version_ <= kMaxSupportedFileFormatVersion INTERNAL ASSERT FAILED at /opt/conda/conda-bld/pytorch_1579022060824/work/caffe2/serialize/inline_container.cc:132, please report a bug to PyTorch. Attempted to read a PyTorch file with version 3, but the maximum supported version for reading is 2. Your PyTorch installation may be too old. (init at /opt/conda/conda-bld/pytorch_1579022060824/work/caffe2/serialize/inline_container.cc:132)\nframe #0: c10::Error::Error(c10::SourceLocation, std::string const&) + 0x47 (0x7f63ddf2c627 in /opt/conda/lib/python3.7/site-packages/torch/lib/libc10.so)\nframe #1: caffe2::serialize::PyTorchStreamReader::init() + 0x1f5b (0x7f63e7c749ab in /opt/conda/lib/python3.7/site-packages/torch/lib/libtorch.so)\nframe #2: caffe2::serialize::PyTorchStreamReader::PyTorchStreamReader(std::string const&) + 0x64 (0x7f63e7c75bc4 in /opt/conda/lib/python3.7/site-packages/torch/lib/libtorch.so)\nframe #3: <unknown function> + 0x6d2146 (0x7f64156c0146 in /opt/conda/lib/python3.7/site-packages/torch/lib/libtorch_python.so)\nframe #4: <unknown function> + 0x28ba06 (0x7f6415279a06 in /opt/conda/lib/python3.7/site-packages/torch/lib/libtorch_python.so)\nframe #5: _PyMethodDef_RawFastCallDict + 0x24c (0x565219868e3c in /opt/conda/bin/python)\nframe #6: _PyObject_FastCallDict + 0x6e (0x56521983a25e in /opt/conda/bin/python)\nframe #7: <unknown function> + 0x12e8d1 (0x56521984e8d1 in /opt/conda/bin/python)\nframe #8: PyObject_Call + 0x66 (0x56521983aab6 in /opt/conda/bin/python)\nframe #9: <unknown function> + 0xc277a (0x5652197e277a in /opt/conda/bin/python)\nframe #10: _PyObject_FastCallKeywords + 0x54c (0x56521989eeec in /opt/conda/bin/python)\nframe #11: <unknown function> + 0x17f4e1 (0x56521989f4e1 in /opt/conda/bin/python)\nframe #12: _PyEval_EvalFrameDefault + 0x4802 (0x5652198e6ef2 in /opt/conda/bin/python)\nframe #13: _PyEval_EvalCodeWithName + 0x85d (0x5652198393bd in /opt/conda/bin/python)\nframe #14: _PyObject_FastCallDict + 0x312 (0x56521983a502 in /opt/conda/bin/python)\nframe #15: <unknown function> + 0x18616f (0x5652198a616f in /opt/conda/bin/python)\nframe #16: _PyObject_FastCallKeywords + 0x54c (0x56521989eeec in /opt/conda/bin/python)\nframe #17: _PyEval_EvalFrameDefault + 0x47b5 (0x5652198e6ea5 in /opt/conda/bin/python)\nframe #18: _PyEval_EvalCodeWithName + 0x252 (0x565219838db2 in /opt/conda/bin/python)\nframe #19: _PyFunction_FastCallKeywords + 0x583 (0x565219858b63 in /opt/conda/bin/python)\nframe #20: <unknown function> + 0x17f335 (0x56521989f335 in /opt/conda/bin/python)\nframe #21: _PyEval_EvalFrameDefault + 0x4802 (0x5652198e6ef2 in /opt/conda/bin/python)\nframe #22: _PyEval_EvalCodeWithName + 0x252 (0x565219838db2 in /opt/conda/bin/python)\nframe #23: <unknown function> + 0x1d6e5e (0x5652198f6e5e in /opt/conda/bin/python)\nframe #24: _PyMethodDef_RawFastCallKeywords + 0xe9 (0x565219869079 in /opt/conda/bin/python)\nframe #25: _PyEval_EvalFrameDefault + 0x44c9 (0x5652198e6bb9 in /opt/conda/bin/python)\nframe #26: <unknown function> + 0x17e344 (0x56521989e344 in /opt/conda/bin/python)\nframe #27: _PyEval_EvalFrameDefault + 0x19e7 (0x5652198e40d7 in /opt/conda/bin/python)\nframe #28: <unknown function> + 0x17e344 (0x56521989e344 in /opt/conda/bin/python)\nframe #29: _PyEval_EvalFrameDefault + 0x19e7 (0x5652198e40d7 in /opt/conda/bin/python)\nframe #30: <unknown function> + 0x17e344 (0x56521989e344 in /opt/conda/bin/python)\nframe #31: _PyMethodDescr_FastCallKeywords + 0xdb (0x56521989e6db in /opt/conda/bin/python)\nframe #32: <unknown function> + 0x17f41e (0x56521989f41e in /opt/conda/bin/python)\nframe #33: _PyEval_EvalFrameDefault + 0x611 (0x5652198e2d01 in /opt/conda/bin/python)\nframe #34: _PyFunction_FastCallKeywords + 0x187 (0x565219858767 in /opt/conda/bin/python)\nframe #35: _PyEval_EvalFrameDefault + 0x3f5 (0x5652198e2ae5 in /opt/conda/bin/python)\nframe #36: _PyFunction_FastCallKeywords + 0x187 (0x565219858767 in /opt/conda/bin/python)\nframe #37: <unknown function> + 0x17f335 (0x56521989f335 in /opt/conda/bin/python)\nframe #38: _PyEval_EvalFrameDefault + 0x611 (0x5652198e2d01 in /opt/conda/bin/python)\nframe #39: _PyEval_EvalCodeWithName + 0x252 (0x565219838db2 in /opt/conda/bin/python)\nframe #40: _PyObject_FastCallDict + 0x5be (0x56521983a7ae in /opt/conda/bin/python)\nframe #41: <unknown function> + 0x12e8d1 (0x56521984e8d1 in /opt/conda/bin/python)\nframe #42: PyObject_Call + 0x66 (0x56521983aab6 in /opt/conda/bin/python)\nframe #43: _PyEval_EvalFrameDefault + 0x1cb3 (0x5652198e43a3 in /opt/conda/bin/python)\nframe #44: _PyEval_EvalCodeWithName + 0x85d (0x5652198393bd in /opt/conda/bin/python)\nframe #45: _PyFunction_FastCallKeywords + 0x583 (0x565219858b63 in /opt/conda/bin/python)\nframe #46: <unknown function> + 0x17f335 (0x56521989f335 in /opt/conda/bin/python)\nframe #47: _PyEval_EvalFrameDefault + 0x13fe (0x5652198e3aee in /opt/conda/bin/python)\nframe #48: <unknown function> + 0x193645 (0x5652198b3645 in /opt/conda/bin/python)\nframe #49: _PyMethodDef_RawFastCallKeywords + 0xe9 (0x565219869079 in /opt/conda/bin/python)\nframe #50: _PyEval_EvalFrameDefault + 0x44c9 (0x5652198e6bb9 in /opt/conda/bin/python)\nframe #51: _PyEval_EvalCodeWithName + 0x85d (0x5652198393bd in /opt/conda/bin/python)\nframe #52: _PyFunction_FastCallKeywords + 0x583 (0x565219858b63 in /opt/conda/bin/python)\nframe #53: <unknown function> + 0x17f335 (0x56521989f335 in /opt/conda/bin/python)\nframe #54: _PyEval_EvalFrameDefault + 0x611 (0x5652198e2d01 in /opt/conda/bin/python)\nframe #55: <unknown function> + 0x193645 (0x5652198b3645 in /opt/conda/bin/python)\nframe #56: _PyMethodDef_RawFastCallKeywords + 0xe9 (0x565219869079 in /opt/conda/bin/python)\nframe #57: _PyEval_EvalFrameDefault + 0x44c9 (0x5652198e6bb9 in /opt/conda/bin/python)\nframe #58: _PyEval_EvalCodeWithName + 0x85d (0x5652198393bd in /opt/conda/bin/python)\nframe #59: _PyFunction_FastCallKeywords + 0x583 (0x565219858b63 in /opt/conda/bin/python)\nframe #60: _PyEval_EvalFrameDefault + 0x3f5 (0x5652198e2ae5 in /opt/conda/bin/python)\nframe #61: <unknown function> + 0x193645 (0x5652198b3645 in /opt/conda/bin/python)\nframe #62: _PyMethodDef_RawFastCallKeywords + 0xe9 (0x565219869079 in /opt/conda/bin/python)\nframe #63: _PyEval_EvalFrameDefault + 0x44c9 (0x5652198e6bb9 in /opt/conda/bin/python)\n",
     "output_type": "error",
     "traceback": [
      "\u001b[0;31m---------------------------------------------------------------------------\u001b[0m",
      "\u001b[0;31mRuntimeError\u001b[0m                              Traceback (most recent call last)",
      "\u001b[0;32m<ipython-input-5-af499fc894cb>\u001b[0m in \u001b[0;36m<module>\u001b[0;34m\u001b[0m\n\u001b[1;32m      6\u001b[0m \u001b[0mblob\u001b[0m\u001b[0;34m.\u001b[0m\u001b[0mdownload_to_filename\u001b[0m\u001b[0;34m(\u001b[0m\u001b[0mfilename\u001b[0m\u001b[0;34m)\u001b[0m\u001b[0;34m\u001b[0m\u001b[0;34m\u001b[0m\u001b[0m\n\u001b[1;32m      7\u001b[0m \u001b[0;34m\u001b[0m\u001b[0m\n\u001b[0;32m----> 8\u001b[0;31m \u001b[0mdata\u001b[0m \u001b[0;34m=\u001b[0m \u001b[0mtorch\u001b[0m\u001b[0;34m.\u001b[0m\u001b[0mload\u001b[0m\u001b[0;34m(\u001b[0m\u001b[0mfilename\u001b[0m\u001b[0;34m)\u001b[0m\u001b[0;34m\u001b[0m\u001b[0;34m\u001b[0m\u001b[0m\n\u001b[0m\u001b[1;32m      9\u001b[0m \u001b[0mdata\u001b[0m\u001b[0;34m[\u001b[0m\u001b[0;34m\"val_acc\"\u001b[0m\u001b[0;34m]\u001b[0m\u001b[0;34m,\u001b[0m \u001b[0mdata\u001b[0m\u001b[0;34m[\u001b[0m\u001b[0;34m\"val_loss\"\u001b[0m\u001b[0;34m]\u001b[0m\u001b[0;34m\u001b[0m\u001b[0;34m\u001b[0m\u001b[0m\n",
      "\u001b[0;32m/opt/conda/lib/python3.7/site-packages/torch/serialization.py\u001b[0m in \u001b[0;36mload\u001b[0;34m(f, map_location, pickle_module, **pickle_load_args)\u001b[0m\n\u001b[1;32m    525\u001b[0m     \u001b[0;32mwith\u001b[0m \u001b[0m_open_file_like\u001b[0m\u001b[0;34m(\u001b[0m\u001b[0mf\u001b[0m\u001b[0;34m,\u001b[0m \u001b[0;34m'rb'\u001b[0m\u001b[0;34m)\u001b[0m \u001b[0;32mas\u001b[0m \u001b[0mopened_file\u001b[0m\u001b[0;34m:\u001b[0m\u001b[0;34m\u001b[0m\u001b[0;34m\u001b[0m\u001b[0m\n\u001b[1;32m    526\u001b[0m         \u001b[0;32mif\u001b[0m \u001b[0m_is_zipfile\u001b[0m\u001b[0;34m(\u001b[0m\u001b[0mopened_file\u001b[0m\u001b[0;34m)\u001b[0m\u001b[0;34m:\u001b[0m\u001b[0;34m\u001b[0m\u001b[0;34m\u001b[0m\u001b[0m\n\u001b[0;32m--> 527\u001b[0;31m             \u001b[0;32mwith\u001b[0m \u001b[0m_open_zipfile_reader\u001b[0m\u001b[0;34m(\u001b[0m\u001b[0mf\u001b[0m\u001b[0;34m)\u001b[0m \u001b[0;32mas\u001b[0m \u001b[0mopened_zipfile\u001b[0m\u001b[0;34m:\u001b[0m\u001b[0;34m\u001b[0m\u001b[0;34m\u001b[0m\u001b[0m\n\u001b[0m\u001b[1;32m    528\u001b[0m                 \u001b[0;32mreturn\u001b[0m \u001b[0m_load\u001b[0m\u001b[0;34m(\u001b[0m\u001b[0mopened_zipfile\u001b[0m\u001b[0;34m,\u001b[0m \u001b[0mmap_location\u001b[0m\u001b[0;34m,\u001b[0m \u001b[0mpickle_module\u001b[0m\u001b[0;34m,\u001b[0m \u001b[0;34m**\u001b[0m\u001b[0mpickle_load_args\u001b[0m\u001b[0;34m)\u001b[0m\u001b[0;34m\u001b[0m\u001b[0;34m\u001b[0m\u001b[0m\n\u001b[1;32m    529\u001b[0m         \u001b[0;32mreturn\u001b[0m \u001b[0m_legacy_load\u001b[0m\u001b[0;34m(\u001b[0m\u001b[0mopened_file\u001b[0m\u001b[0;34m,\u001b[0m \u001b[0mmap_location\u001b[0m\u001b[0;34m,\u001b[0m \u001b[0mpickle_module\u001b[0m\u001b[0;34m,\u001b[0m \u001b[0;34m**\u001b[0m\u001b[0mpickle_load_args\u001b[0m\u001b[0;34m)\u001b[0m\u001b[0;34m\u001b[0m\u001b[0;34m\u001b[0m\u001b[0m\n",
      "\u001b[0;32m/opt/conda/lib/python3.7/site-packages/torch/serialization.py\u001b[0m in \u001b[0;36m__init__\u001b[0;34m(self, name_or_buffer)\u001b[0m\n\u001b[1;32m    222\u001b[0m \u001b[0;32mclass\u001b[0m \u001b[0m_open_zipfile_reader\u001b[0m\u001b[0;34m(\u001b[0m\u001b[0m_opener\u001b[0m\u001b[0;34m)\u001b[0m\u001b[0;34m:\u001b[0m\u001b[0;34m\u001b[0m\u001b[0;34m\u001b[0m\u001b[0m\n\u001b[1;32m    223\u001b[0m     \u001b[0;32mdef\u001b[0m \u001b[0m__init__\u001b[0m\u001b[0;34m(\u001b[0m\u001b[0mself\u001b[0m\u001b[0;34m,\u001b[0m \u001b[0mname_or_buffer\u001b[0m\u001b[0;34m)\u001b[0m\u001b[0;34m:\u001b[0m\u001b[0;34m\u001b[0m\u001b[0;34m\u001b[0m\u001b[0m\n\u001b[0;32m--> 224\u001b[0;31m         \u001b[0msuper\u001b[0m\u001b[0;34m(\u001b[0m\u001b[0m_open_zipfile_reader\u001b[0m\u001b[0;34m,\u001b[0m \u001b[0mself\u001b[0m\u001b[0;34m)\u001b[0m\u001b[0;34m.\u001b[0m\u001b[0m__init__\u001b[0m\u001b[0;34m(\u001b[0m\u001b[0mtorch\u001b[0m\u001b[0;34m.\u001b[0m\u001b[0m_C\u001b[0m\u001b[0;34m.\u001b[0m\u001b[0mPyTorchFileReader\u001b[0m\u001b[0;34m(\u001b[0m\u001b[0mname_or_buffer\u001b[0m\u001b[0;34m)\u001b[0m\u001b[0;34m)\u001b[0m\u001b[0;34m\u001b[0m\u001b[0;34m\u001b[0m\u001b[0m\n\u001b[0m\u001b[1;32m    225\u001b[0m \u001b[0;34m\u001b[0m\u001b[0m\n\u001b[1;32m    226\u001b[0m \u001b[0;34m\u001b[0m\u001b[0m\n",
      "\u001b[0;31mRuntimeError\u001b[0m: version_ <= kMaxSupportedFileFormatVersion INTERNAL ASSERT FAILED at /opt/conda/conda-bld/pytorch_1579022060824/work/caffe2/serialize/inline_container.cc:132, please report a bug to PyTorch. Attempted to read a PyTorch file with version 3, but the maximum supported version for reading is 2. Your PyTorch installation may be too old. (init at /opt/conda/conda-bld/pytorch_1579022060824/work/caffe2/serialize/inline_container.cc:132)\nframe #0: c10::Error::Error(c10::SourceLocation, std::string const&) + 0x47 (0x7f63ddf2c627 in /opt/conda/lib/python3.7/site-packages/torch/lib/libc10.so)\nframe #1: caffe2::serialize::PyTorchStreamReader::init() + 0x1f5b (0x7f63e7c749ab in /opt/conda/lib/python3.7/site-packages/torch/lib/libtorch.so)\nframe #2: caffe2::serialize::PyTorchStreamReader::PyTorchStreamReader(std::string const&) + 0x64 (0x7f63e7c75bc4 in /opt/conda/lib/python3.7/site-packages/torch/lib/libtorch.so)\nframe #3: <unknown function> + 0x6d2146 (0x7f64156c0146 in /opt/conda/lib/python3.7/site-packages/torch/lib/libtorch_python.so)\nframe #4: <unknown function> + 0x28ba06 (0x7f6415279a06 in /opt/conda/lib/python3.7/site-packages/torch/lib/libtorch_python.so)\nframe #5: _PyMethodDef_RawFastCallDict + 0x24c (0x565219868e3c in /opt/conda/bin/python)\nframe #6: _PyObject_FastCallDict + 0x6e (0x56521983a25e in /opt/conda/bin/python)\nframe #7: <unknown function> + 0x12e8d1 (0x56521984e8d1 in /opt/conda/bin/python)\nframe #8: PyObject_Call + 0x66 (0x56521983aab6 in /opt/conda/bin/python)\nframe #9: <unknown function> + 0xc277a (0x5652197e277a in /opt/conda/bin/python)\nframe #10: _PyObject_FastCallKeywords + 0x54c (0x56521989eeec in /opt/conda/bin/python)\nframe #11: <unknown function> + 0x17f4e1 (0x56521989f4e1 in /opt/conda/bin/python)\nframe #12: _PyEval_EvalFrameDefault + 0x4802 (0x5652198e6ef2 in /opt/conda/bin/python)\nframe #13: _PyEval_EvalCodeWithName + 0x85d (0x5652198393bd in /opt/conda/bin/python)\nframe #14: _PyObject_FastCallDict + 0x312 (0x56521983a502 in /opt/conda/bin/python)\nframe #15: <unknown function> + 0x18616f (0x5652198a616f in /opt/conda/bin/python)\nframe #16: _PyObject_FastCallKeywords + 0x54c (0x56521989eeec in /opt/conda/bin/python)\nframe #17: _PyEval_EvalFrameDefault + 0x47b5 (0x5652198e6ea5 in /opt/conda/bin/python)\nframe #18: _PyEval_EvalCodeWithName + 0x252 (0x565219838db2 in /opt/conda/bin/python)\nframe #19: _PyFunction_FastCallKeywords + 0x583 (0x565219858b63 in /opt/conda/bin/python)\nframe #20: <unknown function> + 0x17f335 (0x56521989f335 in /opt/conda/bin/python)\nframe #21: _PyEval_EvalFrameDefault + 0x4802 (0x5652198e6ef2 in /opt/conda/bin/python)\nframe #22: _PyEval_EvalCodeWithName + 0x252 (0x565219838db2 in /opt/conda/bin/python)\nframe #23: <unknown function> + 0x1d6e5e (0x5652198f6e5e in /opt/conda/bin/python)\nframe #24: _PyMethodDef_RawFastCallKeywords + 0xe9 (0x565219869079 in /opt/conda/bin/python)\nframe #25: _PyEval_EvalFrameDefault + 0x44c9 (0x5652198e6bb9 in /opt/conda/bin/python)\nframe #26: <unknown function> + 0x17e344 (0x56521989e344 in /opt/conda/bin/python)\nframe #27: _PyEval_EvalFrameDefault + 0x19e7 (0x5652198e40d7 in /opt/conda/bin/python)\nframe #28: <unknown function> + 0x17e344 (0x56521989e344 in /opt/conda/bin/python)\nframe #29: _PyEval_EvalFrameDefault + 0x19e7 (0x5652198e40d7 in /opt/conda/bin/python)\nframe #30: <unknown function> + 0x17e344 (0x56521989e344 in /opt/conda/bin/python)\nframe #31: _PyMethodDescr_FastCallKeywords + 0xdb (0x56521989e6db in /opt/conda/bin/python)\nframe #32: <unknown function> + 0x17f41e (0x56521989f41e in /opt/conda/bin/python)\nframe #33: _PyEval_EvalFrameDefault + 0x611 (0x5652198e2d01 in /opt/conda/bin/python)\nframe #34: _PyFunction_FastCallKeywords + 0x187 (0x565219858767 in /opt/conda/bin/python)\nframe #35: _PyEval_EvalFrameDefault + 0x3f5 (0x5652198e2ae5 in /opt/conda/bin/python)\nframe #36: _PyFunction_FastCallKeywords + 0x187 (0x565219858767 in /opt/conda/bin/python)\nframe #37: <unknown function> + 0x17f335 (0x56521989f335 in /opt/conda/bin/python)\nframe #38: _PyEval_EvalFrameDefault + 0x611 (0x5652198e2d01 in /opt/conda/bin/python)\nframe #39: _PyEval_EvalCodeWithName + 0x252 (0x565219838db2 in /opt/conda/bin/python)\nframe #40: _PyObject_FastCallDict + 0x5be (0x56521983a7ae in /opt/conda/bin/python)\nframe #41: <unknown function> + 0x12e8d1 (0x56521984e8d1 in /opt/conda/bin/python)\nframe #42: PyObject_Call + 0x66 (0x56521983aab6 in /opt/conda/bin/python)\nframe #43: _PyEval_EvalFrameDefault + 0x1cb3 (0x5652198e43a3 in /opt/conda/bin/python)\nframe #44: _PyEval_EvalCodeWithName + 0x85d (0x5652198393bd in /opt/conda/bin/python)\nframe #45: _PyFunction_FastCallKeywords + 0x583 (0x565219858b63 in /opt/conda/bin/python)\nframe #46: <unknown function> + 0x17f335 (0x56521989f335 in /opt/conda/bin/python)\nframe #47: _PyEval_EvalFrameDefault + 0x13fe (0x5652198e3aee in /opt/conda/bin/python)\nframe #48: <unknown function> + 0x193645 (0x5652198b3645 in /opt/conda/bin/python)\nframe #49: _PyMethodDef_RawFastCallKeywords + 0xe9 (0x565219869079 in /opt/conda/bin/python)\nframe #50: _PyEval_EvalFrameDefault + 0x44c9 (0x5652198e6bb9 in /opt/conda/bin/python)\nframe #51: _PyEval_EvalCodeWithName + 0x85d (0x5652198393bd in /opt/conda/bin/python)\nframe #52: _PyFunction_FastCallKeywords + 0x583 (0x565219858b63 in /opt/conda/bin/python)\nframe #53: <unknown function> + 0x17f335 (0x56521989f335 in /opt/conda/bin/python)\nframe #54: _PyEval_EvalFrameDefault + 0x611 (0x5652198e2d01 in /opt/conda/bin/python)\nframe #55: <unknown function> + 0x193645 (0x5652198b3645 in /opt/conda/bin/python)\nframe #56: _PyMethodDef_RawFastCallKeywords + 0xe9 (0x565219869079 in /opt/conda/bin/python)\nframe #57: _PyEval_EvalFrameDefault + 0x44c9 (0x5652198e6bb9 in /opt/conda/bin/python)\nframe #58: _PyEval_EvalCodeWithName + 0x85d (0x5652198393bd in /opt/conda/bin/python)\nframe #59: _PyFunction_FastCallKeywords + 0x583 (0x565219858b63 in /opt/conda/bin/python)\nframe #60: _PyEval_EvalFrameDefault + 0x3f5 (0x5652198e2ae5 in /opt/conda/bin/python)\nframe #61: <unknown function> + 0x193645 (0x5652198b3645 in /opt/conda/bin/python)\nframe #62: _PyMethodDef_RawFastCallKeywords + 0xe9 (0x565219869079 in /opt/conda/bin/python)\nframe #63: _PyEval_EvalFrameDefault + 0x44c9 (0x5652198e6bb9 in /opt/conda/bin/python)\n"
     ]
    }
   ],
   "source": [
    "#Throwaway\n",
    "import torch\n",
    "\n",
    "blob = bucket.get_blob(\"checkpoints/FleetwoodNet11V1-1604934154/FleetwoodNet11V1-1604934154-epoch-0.data\")\n",
    "filename = \"/home/jupyter/checkpoint.data\"\n",
    "blob.download_to_filename(filename)\n",
    "\n",
    "data = torch.load(filename)\n",
    "data[\"val_acc\"], data[\"val_loss\"]"
   ]
  },
  {
   "cell_type": "code",
   "execution_count": null,
   "metadata": {},
   "outputs": [],
   "source": []
  }
 ],
 "metadata": {
  "environment": {
   "name": "pytorch-gpu.1-4.m58",
   "type": "gcloud",
   "uri": "gcr.io/deeplearning-platform-release/pytorch-gpu.1-4:m58"
  },
  "kernelspec": {
   "display_name": "Python 3",
   "language": "python",
   "name": "python3"
  },
  "language_info": {
   "codemirror_mode": {
    "name": "ipython",
    "version": 3
   },
   "file_extension": ".py",
   "mimetype": "text/x-python",
   "name": "python",
   "nbconvert_exporter": "python",
   "pygments_lexer": "ipython3",
   "version": "3.7.8"
  }
 },
 "nbformat": 4,
 "nbformat_minor": 4
}
