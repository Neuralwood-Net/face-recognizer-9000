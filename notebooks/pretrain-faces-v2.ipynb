{
 "cells": [
  {
   "cell_type": "code",
   "execution_count": 1,
   "metadata": {},
   "outputs": [],
   "source": [
    "import time\n",
    "\n",
    "import numpy as np\n",
    "from tqdm import tqdm\n",
    "import torch\n",
    "import torch.nn as nn\n",
    "import torch.nn.functional as F\n",
    "import torch.optim as optim\n",
    "import matplotlib.pyplot as plt\n",
    "from matplotlib import style\n",
    "\n",
    "from more_itertools import chunked\n",
    "\n",
    "from google.cloud import storage"
   ]
  },
  {
   "cell_type": "code",
   "execution_count": 2,
   "metadata": {},
   "outputs": [],
   "source": [
    "# Configuration constants\n",
    "VALIDATION_RATIO = 0.1"
   ]
  },
  {
   "cell_type": "code",
   "execution_count": 3,
   "metadata": {},
   "outputs": [
    {
     "name": "stdout",
     "output_type": "stream",
     "text": [
      "cats-vs-dogs/\n",
      "cats-vs-dogs/processed/catsvsdogs.npy\n",
      "cats-vs-dogs/raw-data/\n",
      "cats-vs-dogs/raw-data/catsanddogs.zip\n",
      "celeba/\n",
      "celeba/processed/\n",
      "celeba/processed/celebalign_processed1.npy\n",
      "celeba/tensors/\n",
      "celeba/tensors/celebalign_processed_20_000_horizontal.torch\n",
      "celeba/tensors/celebalign_processed_64_100000_horizontal.torch\n",
      "celeba/zips/\n",
      "celeba/zips/img_align_celeba.zip\n",
      "celeba/zips/img_celeba.7z-20201107T135448Z-002.zip\n",
      "celeba/zips/img_celeba.7z.001\n",
      "checkpoints/FleetwoodNet11V1-1604934154/FleetwoodNet11V1-1604934154-epoch-0.data\n",
      "checkpoints/FleetwoodNet11V1-1604934154/FleetwoodNet11V1-1604934154-epoch-1.data\n",
      "checkpoints/FleetwoodNet11V1-1604934154/FleetwoodNet11V1-1604934154-epoch-2.data\n",
      "checkpoints/FleetwoodNet11V1-1604934154/FleetwoodNet11V1-1604934154-epoch-3.data\n",
      "checkpoints/FleetwoodNet11V1-1604934154/FleetwoodNet11V1-1604934154-epoch-4.data\n",
      "faces/\n",
      "faces/processed-images/\n",
      "faces/videos/\n",
      "tdt4173-datasets/celeba/processed/celebalign_processed.npy\n"
     ]
    }
   ],
   "source": [
    "client = storage.Client()\n",
    "\n",
    "bucket_name = \"tdt4173-datasets\"\n",
    "bucket = client.get_bucket(bucket_name)\n",
    "\n",
    "blobs = bucket.list_blobs()\n",
    "for blob in blobs:\n",
    "    print(blob.name)"
   ]
  },
  {
   "cell_type": "code",
   "execution_count": 4,
   "metadata": {},
   "outputs": [],
   "source": [
    "blob_name = \"celeba/tensors/celebalign_processed_64_100000_horizontal.torch\"\n",
    "blob = bucket.get_blob(blob_name)\n",
    "data_file = \"/home/jupyter/data/celeb-align-1/tensors/celebalign_processed_64_100000_horizontal.torch\"\n",
    "blob.download_to_filename(data_file)"
   ]
  },
  {
   "cell_type": "code",
   "execution_count": 5,
   "metadata": {},
   "outputs": [],
   "source": [
    "# data_file = \"/home/jupyter/data/celeb-align-1/tensors/celebalign_processed_100_000_horizontal.torch\"\n",
    "data = torch.load(data_file)"
   ]
  },
  {
   "cell_type": "code",
   "execution_count": 6,
   "metadata": {},
   "outputs": [
    {
     "data": {
      "image/png": "[encoded data removed]",
      "text/plain": [
       "<Figure size 432x288 with 1 Axes>"
      ]
     },
     "metadata": {
      "needs_background": "light"
     },
     "output_type": "display_data"
    }
   ],
   "source": [
    "plt.imshow(data[\"x\"][2], cmap=\"gray\");"
   ]
  },
  {
   "cell_type": "code",
   "execution_count": 7,
   "metadata": {},
   "outputs": [
    {
     "name": "stdout",
     "output_type": "stream",
     "text": [
      "torch.Size([64, 64])\n"
     ]
    }
   ],
   "source": [
    "print(data[\"x\"][0].shape)\n",
    "IMAGE_SIZE = data[\"x\"][0].shape[0]\n",
    "NUM_CLASSES = data[\"num_classes\"]"
   ]
  },
  {
   "cell_type": "code",
   "execution_count": 13,
   "metadata": {},
   "outputs": [
    {
     "name": "stdout",
     "output_type": "stream",
     "text": [
      "Running on the GPU\n"
     ]
    }
   ],
   "source": [
    "if torch.cuda.is_available():\n",
    "    device = torch.device(\"cuda:0\")\n",
    "    print(\"Running on the GPU\")\n",
    "else:\n",
    "    device = torch.device(\"cpu\")\n",
    "    print(\"Running on the CPU\")"
   ]
  },
  {
   "cell_type": "code",
   "execution_count": 14,
   "metadata": {},
   "outputs": [],
   "source": [
    "unique = set(data[\"y\"])\n",
    "class_mapping = {elem: idx for idx, elem in enumerate(unique)}"
   ]
  },
  {
   "cell_type": "code",
   "execution_count": 15,
   "metadata": {},
   "outputs": [
    {
     "name": "stdout",
     "output_type": "stream",
     "text": [
      "10001\n"
     ]
    }
   ],
   "source": [
    "val_size = int(len(data[\"x\"]) * VALIDATION_RATIO)\n",
    "print(val_size)"
   ]
  },
  {
   "cell_type": "code",
   "execution_count": 16,
   "metadata": {},
   "outputs": [],
   "source": [
    "train_x = data[\"x\"][:-val_size]\n",
    "train_y = data[\"y\"][:-val_size]"
   ]
  },
  {
   "cell_type": "code",
   "execution_count": 17,
   "metadata": {},
   "outputs": [],
   "source": [
    "def fwd_pass(x, y, loss_func, optim, train=False):\n",
    "    if train:\n",
    "        net.zero_grad()\n",
    "        \n",
    "    out = net(x)\n",
    "    acc = np.mean([int(torch.argmax(y_pred) == y_real) for y_pred, y_real in zip(out, y)])\n",
    "    loss = loss_func(out, y)\n",
    "\n",
    "    if train:\n",
    "        loss.backward()\n",
    "        optim.step()\n",
    "\n",
    "    return acc, loss"
   ]
  },
  {
   "cell_type": "code",
   "execution_count": 18,
   "metadata": {},
   "outputs": [],
   "source": [
    "test_x = data[\"x\"][-val_size:]\n",
    "test_y = data[\"y\"][-val_size:]"
   ]
  },
  {
   "cell_type": "code",
   "execution_count": 19,
   "metadata": {},
   "outputs": [],
   "source": [
    "def test(size, loss_func, optim):\n",
    "    tx, ty = test_x[:size].to(device), test_y[:size].to(device)\n",
    "    val_acc, val_loss = fwd_pass(tx.view(-1, 1, IMAGE_SIZE, IMAGE_SIZE).to(device), ty.to(device), loss_func, optim)\n",
    "    return val_acc, val_loss"
   ]
  },
  {
   "cell_type": "code",
   "execution_count": 26,
   "metadata": {},
   "outputs": [],
   "source": [
    "import os\n",
    "import sys\n",
    "module_path = os.path.abspath(os.path.join('..'))\n",
    "if module_path not in sys.path:\n",
    "    sys.path.append(module_path)\n",
    "\n",
    "import models.lla7\n",
    "\n",
    "import importlib\n",
    "importlib.reload(models.lla7)\n",
    "NetClass = models.lla7.FleetwoodNet7V1"
   ]
  },
  {
   "cell_type": "code",
   "execution_count": 21,
   "metadata": {},
   "outputs": [],
   "source": [
    "# Only run if need to delete memory\n",
    "collect = False\n",
    "if collect:\n",
    "    import gc\n",
    "    del net\n",
    "    gc.collect()\n",
    "    torch.cuda.empty_cache()"
   ]
  },
  {
   "cell_type": "code",
   "execution_count": 27,
   "metadata": {},
   "outputs": [
    {
     "name": "stdout",
     "output_type": "stream",
     "text": [
      "FleetwoodNet7V1(\n",
      "  (features): Sequential(\n",
      "    (0): Conv2d(1, 64, kernel_size=(3, 3), stride=(1, 1), padding=(1, 1))\n",
      "    (1): ReLU(inplace=True)\n",
      "    (2): MaxPool2d(kernel_size=2, stride=2, padding=0, dilation=1, ceil_mode=False)\n",
      "    (3): Conv2d(64, 128, kernel_size=(3, 3), stride=(1, 1), padding=(1, 1))\n",
      "    (4): ReLU(inplace=True)\n",
      "    (5): MaxPool2d(kernel_size=2, stride=2, padding=0, dilation=1, ceil_mode=False)\n",
      "    (6): Conv2d(128, 256, kernel_size=(3, 3), stride=(1, 1), padding=(1, 1))\n",
      "    (7): ReLU(inplace=True)\n",
      "    (8): Conv2d(256, 256, kernel_size=(3, 3), stride=(1, 1), padding=(1, 1))\n",
      "    (9): ReLU(inplace=True)\n",
      "    (10): MaxPool2d(kernel_size=2, stride=2, padding=0, dilation=1, ceil_mode=False)\n",
      "  )\n",
      "  (avgpool): AdaptiveAvgPool2d(output_size=(8, 8))\n",
      "  (classifier): Sequential(\n",
      "    (0): Linear(in_features=16384, out_features=4096, bias=True)\n",
      "    (1): ReLU(inplace=True)\n",
      "    (2): Dropout(p=0.5, inplace=False)\n",
      "    (3): Linear(in_features=4096, out_features=4096, bias=True)\n",
      "    (4): ReLU(inplace=True)\n",
      "    (5): Dropout(p=0.5, inplace=False)\n",
      "    (6): Linear(in_features=4096, out_features=3408, bias=True)\n",
      "  )\n",
      ")\n"
     ]
    }
   ],
   "source": [
    "net = NetClass(NUM_CLASSES).to(device)\n",
    "print(net)"
   ]
  },
  {
   "cell_type": "code",
   "execution_count": 29,
   "metadata": {},
   "outputs": [
    {
     "name": "stderr",
     "output_type": "stream",
     "text": [
      "  0%|          | 0/451 [00:00<?, ?it/s]"
     ]
    },
    {
     "name": "stdout",
     "output_type": "stream",
     "text": [
      "Model name: FleetwoodNet7V1-1604945531\n"
     ]
    },
    {
     "name": "stderr",
     "output_type": "stream",
     "text": [
      "100%|██████████| 451/451 [01:15<00:00,  5.95it/s, acc=0, loss=8.09]    \n",
      "  0%|          | 1/451 [00:00<01:14,  6.05it/s, acc=0, loss=8.23]"
     ]
    },
    {
     "name": "stdout",
     "output_type": "stream",
     "text": [
      "Epoch: 10. Loss: 8.085404396057129.\n"
     ]
    },
    {
     "name": "stderr",
     "output_type": "stream",
     "text": [
      "100%|██████████| 451/451 [01:15<00:00,  5.98it/s, acc=0, loss=8.07]    \n",
      "  0%|          | 1/451 [00:00<01:13,  6.12it/s, acc=0, loss=8.23]"
     ]
    },
    {
     "name": "stdout",
     "output_type": "stream",
     "text": [
      "Epoch: 11. Loss: 8.067246437072754.\n"
     ]
    },
    {
     "name": "stderr",
     "output_type": "stream",
     "text": [
      "100%|██████████| 451/451 [01:15<00:00,  5.99it/s, acc=0, loss=8.06]    \n",
      "  0%|          | 1/451 [00:00<01:13,  6.14it/s, acc=0, loss=8.23]"
     ]
    },
    {
     "name": "stdout",
     "output_type": "stream",
     "text": [
      "Epoch: 12. Loss: 8.059492111206055.\n"
     ]
    },
    {
     "name": "stderr",
     "output_type": "stream",
     "text": [
      "100%|██████████| 451/451 [01:15<00:00,  6.00it/s, acc=0, loss=8.06]    \n",
      "  0%|          | 1/451 [00:00<01:14,  6.04it/s, acc=0, loss=8.23]"
     ]
    },
    {
     "name": "stdout",
     "output_type": "stream",
     "text": [
      "Epoch: 13. Loss: 8.056560516357422.\n"
     ]
    },
    {
     "name": "stderr",
     "output_type": "stream",
     "text": [
      "100%|██████████| 451/451 [01:15<00:00,  5.99it/s, acc=0, loss=8.06]    \n",
      "  0%|          | 1/451 [00:00<01:13,  6.10it/s, acc=0, loss=8.23]"
     ]
    },
    {
     "name": "stdout",
     "output_type": "stream",
     "text": [
      "Epoch: 14. Loss: 8.055112838745117.\n"
     ]
    },
    {
     "name": "stderr",
     "output_type": "stream",
     "text": [
      "100%|██████████| 451/451 [01:15<00:00,  5.99it/s, acc=0, loss=8.05]    \n",
      "  0%|          | 1/451 [00:00<01:16,  5.91it/s, acc=0, loss=8.23]"
     ]
    },
    {
     "name": "stdout",
     "output_type": "stream",
     "text": [
      "Epoch: 15. Loss: 8.054311752319336.\n"
     ]
    },
    {
     "name": "stderr",
     "output_type": "stream",
     "text": [
      "100%|██████████| 451/451 [01:15<00:00,  5.98it/s, acc=0, loss=8.05]    \n",
      "  0%|          | 1/451 [00:00<01:14,  6.02it/s, acc=0, loss=8.23]"
     ]
    },
    {
     "name": "stdout",
     "output_type": "stream",
     "text": [
      "Epoch: 16. Loss: 8.053844451904297.\n"
     ]
    },
    {
     "name": "stderr",
     "output_type": "stream",
     "text": [
      "100%|██████████| 451/451 [01:15<00:00,  5.99it/s, acc=0, loss=8.05]    \n",
      "  0%|          | 1/451 [00:00<01:16,  5.90it/s, acc=0, loss=8.23]"
     ]
    },
    {
     "name": "stdout",
     "output_type": "stream",
     "text": [
      "Epoch: 17. Loss: 8.05356216430664.\n"
     ]
    },
    {
     "name": "stderr",
     "output_type": "stream",
     "text": [
      "100%|██████████| 451/451 [01:15<00:00,  6.00it/s, acc=0, loss=8.05]    \n",
      "  0%|          | 1/451 [00:00<01:15,  5.96it/s, acc=0, loss=8.23]"
     ]
    },
    {
     "name": "stdout",
     "output_type": "stream",
     "text": [
      "Epoch: 18. Loss: 8.053388595581055.\n"
     ]
    },
    {
     "name": "stderr",
     "output_type": "stream",
     "text": [
      "100%|██████████| 451/451 [01:15<00:00,  5.99it/s, acc=0, loss=8.05]    \n"
     ]
    },
    {
     "name": "stdout",
     "output_type": "stream",
     "text": [
      "Epoch: 19. Loss: 8.053279876708984.\n"
     ]
    }
   ],
   "source": [
    "MODEL_NAME = f\"{type(net).__name__}-{int(time.time())}\"\n",
    "print(f\"Model name: {MODEL_NAME}\")\n",
    "saves_path = \"/home/jupyter/checkpoints\"\n",
    "CHECKPOINT_EVERY_STEP = 10_000\n",
    "\n",
    "optimizer = optim.Adam(net.parameters(), lr=0.07)\n",
    "loss_function = nn.CrossEntropyLoss().to(device)\n",
    "\n",
    "def train(net):\n",
    "    BATCH_SIZE = 200\n",
    "    EPOCHS = 10\n",
    "\n",
    "    for epoch in range(EPOCHS, EPOCHS*2):\n",
    "        with open(os.path.join(\"/home/jupyter/logs\", f\"model-{MODEL_NAME}.log\"), \"a\") as f:\n",
    "            it = tqdm(range(0, len(train_x), BATCH_SIZE))\n",
    "            for i in it:\n",
    "                batch_x = train_x[i:i+BATCH_SIZE].view(-1, 1, IMAGE_SIZE, IMAGE_SIZE).to(device)\n",
    "                batch_y = train_y[i:i+BATCH_SIZE].to(device)\n",
    "\n",
    "                acc, loss = fwd_pass(\n",
    "                    batch_x, batch_y,\n",
    "                    loss_function,\n",
    "                    optimizer,\n",
    "                    train=True,\n",
    "                )\n",
    "                \n",
    "                it.set_postfix({\"acc\": acc, \"loss\": loss.item()})\n",
    "\n",
    "                if i != 0 and i % CHECKPOINT_EVERY_STEP == 0:\n",
    "                    val_acc, val_loss = test(size=100, loss_func=loss_function, optim=optimizer)\n",
    "                    f.write(f\"{MODEL_NAME},{round(time.time(),3)},{round(float(acc),2)},{round(float(loss), 4)},{round(float(val_acc),2)},{round(float(val_loss),4)}\\n\")\n",
    "\n",
    "                    \n",
    "            torch.save({\n",
    "                            \"model_state_dict\": net.state_dict(),\n",
    "                            \"optimizer_state_dict\": optimizer.state_dict(),\n",
    "                            \"val_acc\": val_acc,\n",
    "                            \"val_loss\": val_loss,\n",
    "                        },\n",
    "                os.path.join(saves_path, f\"{MODEL_NAME}-epoch-{epoch}.data\"),\n",
    "            )\n",
    "            print(f\"Epoch: {epoch}. Loss: {loss}.\")\n",
    "train(net)"
   ]
  },
  {
   "cell_type": "code",
   "execution_count": null,
   "metadata": {},
   "outputs": [],
   "source": [
    "style.use(\"ggplot\")\n",
    "\n",
    "\n",
    "\n",
    "def create_acc_loss_graph(model_name):\n",
    "    times = []\n",
    "    accs = []\n",
    "    losses = []\n",
    "    \n",
    "    val_accs = []\n",
    "    val_losses = []\n",
    "    \n",
    "    with open(\"model.log\", \"r\") as f:\n",
    "        \n",
    "        for line in f.readlines():\n",
    "            name, time, acc, loss, val_acc, val_loss = line.split(\",\")\n",
    "            \n",
    "            times.append(float(time))\n",
    "            accs.append(float(acc))\n",
    "            losses.append(float(loss))\n",
    "            \n",
    "            val_accs.append(float(val_acc))\n",
    "            val_losses.append(float(val_loss))\n",
    "            \n",
    "    fig = plt.figure()\n",
    "    \n",
    "    ax1 = plt.subplot2grid((2, 1), (0, 0))\n",
    "    ax2 = plt.subplot2grid((2, 1), (1, 0), sharex=ax1)\n",
    "    \n",
    "    ax1.plot(times, accs, label=\"acc\")\n",
    "    ax1.plot(times, val_accs, label=\"val_acc\")\n",
    "    ax1.legend(loc=2)\n",
    "    \n",
    "    ax2.plot(times, losses, label=\"loss\")\n",
    "    ax2.plot(times, val_losses, label=\"val_loss\")\n",
    "    ax2.legend(loc=2)\n",
    "    plt.show()\n",
    "\n",
    "create_acc_loss_graph(MODEL_NAME)"
   ]
  },
  {
   "cell_type": "code",
   "execution_count": null,
   "metadata": {},
   "outputs": [],
   "source": [
    "# Not currently in use, I think\n",
    "correct = 0\n",
    "\n",
    "with torch.no_grad():\n",
    "    for i, y_real in enumerate(tqdm(test_y)):\n",
    "        real_class = torch.argmax(y_real)\n",
    "        pred_class = torch.argmax(net(test_x[i].view(-1, 1, IMAGE_SIZE, IMAGE_SIZE))[0])\n",
    "        \n",
    "        correct += int(real_class == pred_class)\n",
    "        \n",
    "print(f\"Accuracy: {round(correct / len(test_x), 3)}\")"
   ]
  },
  {
   "cell_type": "code",
   "execution_count": null,
   "metadata": {},
   "outputs": [],
   "source": [
    "for im in test_x:\n",
    "    pred = int(torch.argmax(net(im.view(-1, 1, IMAGE_SIZE, IMAGE_SIZE))))\n",
    "    convert = {0: \"Cat\", 1: \"Dog\"}\n",
    "    print(f\"Net predicted it is `{convert[pred]}`\")\n",
    "    \n",
    "    plt.imshow(im.cpu(),cmap=\"gray\")\n",
    "    plt.pause(0.05)\n",
    "    print(\"=\"*50)"
   ]
  },
  {
   "cell_type": "code",
   "execution_count": null,
   "metadata": {},
   "outputs": [],
   "source": []
  }
 ],
 "metadata": {
  "environment": {
   "name": "pytorch-gpu.1-4.m58",
   "type": "gcloud",
   "uri": "gcr.io/deeplearning-platform-release/pytorch-gpu.1-4:m58"
  },
  "kernelspec": {
   "display_name": "Python 3",
   "language": "python",
   "name": "python3"
  },
  "language_info": {
   "codemirror_mode": {
    "name": "ipython",
    "version": 3
   },
   "file_extension": ".py",
   "mimetype": "text/x-python",
   "name": "python",
   "nbconvert_exporter": "python",
   "pygments_lexer": "ipython3",
   "version": "3.7.8"
  }
 },
 "nbformat": 4,
 "nbformat_minor": 4
}
