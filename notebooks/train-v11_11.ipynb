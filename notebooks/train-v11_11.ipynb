{
 "cells": [
  {
   "cell_type": "markdown",
   "metadata": {
    "colab_type": "text",
    "id": "view-in-github"
   },
   "source": [
    "<a href=\"https://colab.research.google.com/github/Neuralwood-Net/face-recognizer-9000/blob/main/notebooks/pretraining_celeba_cnn_v2.ipynb\" target=\"_parent\"><img src=\"https://colab.research.google.com/assets/colab-badge.svg\" alt=\"Open In Colab\"/></a>"
   ]
  },
  {
   "cell_type": "markdown",
   "metadata": {
    "id": "rH6k1V5shoVg"
   },
   "source": [
    "# Train images of authors, 64x64px\n",
    "## Ok network"
   ]
  },
  {
   "cell_type": "code",
   "execution_count": 3,
   "metadata": {
    "colab": {
     "base_uri": "https://localhost:8080/"
    },
    "id": "GC1985DDBL4h",
    "outputId": "fe6a195f-aa12-4972-da61-a0b4239f8835"
   },
   "outputs": [
    {
     "name": "stdout",
     "output_type": "stream",
     "text": [
      "Select the Runtime > \"Change runtime type\" menu to enable a GPU accelerator, \n",
      "and then re-execute this cell.\n"
     ]
    }
   ],
   "source": [
    "gpu_info = !nvidia-smi\n",
    "gpu_info = '\\n'.join(gpu_info)\n",
    "if gpu_info.find('failed') >= 0:\n",
    "  print('Select the Runtime > \"Change runtime type\" menu to enable a GPU accelerator, ')\n",
    "  print('and then re-execute this cell.')\n",
    "else:\n",
    "  print(gpu_info)"
   ]
  },
  {
   "cell_type": "code",
   "execution_count": 4,
   "metadata": {
    "colab": {
     "base_uri": "https://localhost:8080/"
    },
    "id": "kddqZTa8BRy8",
    "outputId": "6e143d62-8651-442d-a7db-096f81e2e343"
   },
   "outputs": [
    {
     "name": "stdout",
     "output_type": "stream",
     "text": [
      "Your runtime has 31.6 gigabytes of available RAM\n",
      "\n",
      "You are using a high-RAM runtime!\n"
     ]
    }
   ],
   "source": [
    "from psutil import virtual_memory\n",
    "ram_gb = virtual_memory().total / 1e9\n",
    "print('Your runtime has {:.1f} gigabytes of available RAM\\n'.format(ram_gb))\n",
    "\n",
    "if ram_gb < 20:\n",
    "  print('To enable a high-RAM runtime, select the Runtime > \"Change runtime type\"')\n",
    "  print('menu, and then select High-RAM in the Runtime shape dropdown. Then, ')\n",
    "  print('re-execute this cell.')\n",
    "else:\n",
    "  print('You are using a high-RAM runtime!')"
   ]
  },
  {
   "cell_type": "markdown",
   "metadata": {
    "id": "qqcCktR3hrNG"
   },
   "source": [
    "### Imports"
   ]
  },
  {
   "cell_type": "code",
   "execution_count": 5,
   "metadata": {
    "id": "0rnSlQJGV9xh"
   },
   "outputs": [],
   "source": [
    "import time\n",
    "import os\n",
    "import copy\n",
    "\n",
    "import numpy as np\n",
    "import matplotlib.pyplot as plt\n",
    "\n",
    "from tqdm import tqdm\n",
    "import torch\n",
    "import torch.nn as nn\n",
    "import torch.nn.functional as F\n",
    "import torch.utils.data\n",
    "from torch.optim import lr_scheduler\n",
    "\n",
    "import torchvision\n",
    "from torchvision import datasets, models, transforms\n",
    "\n",
    "from google.cloud import storage"
   ]
  },
  {
   "cell_type": "code",
   "execution_count": 6,
   "metadata": {
    "colab": {
     "base_uri": "https://localhost:8080/"
    },
    "id": "I4gqZD7ulPLt",
    "outputId": "f477fc8b-943b-4f2b-bc7a-da09568a8592"
   },
   "outputs": [
    {
     "data": {
      "text/plain": [
       "device(type='cpu')"
      ]
     },
     "execution_count": 6,
     "metadata": {},
     "output_type": "execute_result"
    }
   ],
   "source": [
    "device = torch.device('cuda' if torch.cuda.is_available() else 'cpu')\n",
    "device"
   ]
  },
  {
   "cell_type": "markdown",
   "metadata": {
    "id": "h6gXbbcThtax"
   },
   "source": [
    "### Read and prepare the data"
   ]
  },
  {
   "cell_type": "code",
   "execution_count": 5,
   "metadata": {
    "id": "T7t0dLiFcotJ"
   },
   "outputs": [],
   "source": [
    "from google.cloud import storage\n",
    "\n",
    "\n",
    "client = storage.Client()\n",
    "\n",
    "bucket_name = \"tdt4173-datasets\"\n",
    "bucket = client.get_bucket(bucket_name)\n",
    "\n",
    "zipfilename = \"/home/jupyter/data/faces/balanced_sampled_128px_color_130480_images_33_percent_val.zip\"\n",
    "blob_name = \"faces/balanced_sampled_128px_color_130480_images_33_percent_val.zip\"\n",
    "blob = bucket.get_blob(blob_name)\n",
    "\n",
    "blob.download_to_filename(zipfilename)"
   ]
  },
  {
   "cell_type": "code",
   "execution_count": 20,
   "metadata": {},
   "outputs": [],
   "source": [
    "! rm -rf /home/jupyter/data/faces/images/val/.ipynb_checkpoints"
   ]
  },
  {
   "cell_type": "code",
   "execution_count": null,
   "metadata": {},
   "outputs": [],
   "source": [
    "!unzip /home/jupyter/data/faces/images_final_balanced_128px_color_26180_train_ca_300_val_per_class.zip -d /home/jupyter/data/faces/"
   ]
  },
  {
   "cell_type": "code",
   "execution_count": 10,
   "metadata": {
    "colab": {
     "base_uri": "https://localhost:8080/"
    },
    "id": "xSmppOms1mel",
    "outputId": "b03f67e0-4696-4d87-93c1-cf107fc0e519"
   },
   "outputs": [
    {
     "data": {
      "text/plain": [
       "['Kjartan', 'Lars', 'Morgan', 'Other']"
      ]
     },
     "execution_count": 10,
     "metadata": {},
     "output_type": "execute_result"
    }
   ],
   "source": [
    "BATCH_SIZE = 16\n",
    "\n",
    "data_transforms = transforms.Compose([\n",
    "    transforms.Resize(224),\n",
    "    # transforms.CenterCrop(128),\n",
    "    transforms.Grayscale(num_output_channels=3),\n",
    "    transforms.ToTensor(),\n",
    "    transforms.Normalize([0.485, 0.456, 0.406], [0.229, 0.224, 0.225]),\n",
    "    # transforms.Normalize([0.5], [0.5]),\n",
    "])\n",
    "\n",
    "data_dir = '/home/jupyter/data/faces/images'\n",
    "image_datasets = {x: datasets.ImageFolder(os.path.join(data_dir, x),\n",
    "                                          data_transforms)\n",
    "                  for x in ['train', 'val']}\n",
    "dataloaders = {x: torch.utils.data.DataLoader(image_datasets[x], batch_size=BATCH_SIZE,\n",
    "                                             shuffle=True, num_workers=4)\n",
    "              for x in ['train', 'val']}\n",
    "dataset_sizes = {x: len(image_datasets[x]) for x in ['train', 'val']}\n",
    "class_names = image_datasets['train'].classes\n",
    "class_names\n"
   ]
  },
  {
   "cell_type": "code",
   "execution_count": 8,
   "metadata": {},
   "outputs": [
    {
     "data": {
      "text/plain": [
       "{'train': 104721, 'val': 31444}"
      ]
     },
     "execution_count": 8,
     "metadata": {},
     "output_type": "execute_result"
    }
   ],
   "source": [
    "image_datasets['val'].classes\n",
    "dataset_sizes"
   ]
  },
  {
   "cell_type": "code",
   "execution_count": 9,
   "metadata": {
    "colab": {
     "base_uri": "https://localhost:8080/",
     "height": 166
    },
    "id": "SfMHbGt5YbQa",
    "outputId": "d3728ac1-f0fd-4335-a3db-3fde61dc3ca4"
   },
   "outputs": [
    {
     "name": "stdout",
     "output_type": "stream",
     "text": [
      "torch.Size([16, 1, 128, 128])\n"
     ]
    },
    {
     "data": {
      "image/png": "[encoded data removed]",
      "text/plain": [
       "<Figure size 432x288 with 1 Axes>"
      ]
     },
     "metadata": {
      "needs_background": "light"
     },
     "output_type": "display_data"
    }
   ],
   "source": [
    "def imshow(inp, title=None):\n",
    "    \"\"\"Imshow for Tensor.\"\"\"\n",
    "    inp = inp.numpy().transpose((1, 2, 0))\n",
    "    # mean = np.array([0.485, 0.456, 0.406])\n",
    "    # std = np.array([0.229, 0.224, 0.225])\n",
    "    mean = np.array([0.5])\n",
    "    std = np.array([0.5])\n",
    "    inp = std * inp + mean\n",
    "    inp = np.clip(inp, 0, 1)\n",
    "    plt.imshow(inp)\n",
    "    if title is not None:\n",
    "        plt.title(title)\n",
    "    plt.pause(0.001)  # pause a bit so that plots are updated\n",
    "\n",
    "# Get a batch of training data\n",
    "inputs, classes = next(iter(dataloaders['val']))\n",
    "\n",
    "print(inputs.shape)\n",
    "\n",
    "# Make a grid from batch\n",
    "out = torchvision.utils.make_grid(inputs)\n",
    "\n",
    "imshow(out, title=[class_names[x] for x in classes])"
   ]
  },
  {
   "cell_type": "markdown",
   "metadata": {
    "id": "CUVzf0lAul5y"
   },
   "source": [
    "### Create functions for training, validation, and evaluation"
   ]
  },
  {
   "cell_type": "code",
   "execution_count": 11,
   "metadata": {
    "id": "_3jtTxxvyxT4"
   },
   "outputs": [],
   "source": [
    "def train_model(model, criterion, optimizer, scheduler, num_epochs=25):\n",
    "    since = time.time()\n",
    "\n",
    "    best_model_wts = copy.deepcopy(model.state_dict())\n",
    "    best_acc = 0.0\n",
    "    num_img = {\n",
    "        \"train\": 0,\n",
    "        \"val\": 0,\n",
    "    }\n",
    "    \n",
    "    datapoints_per_epoch = 100\n",
    "    \n",
    "    imgs_per_datapoint = {\n",
    "        \"train\": int(float(dataset_sizes[\"train\"] / datapoints_per_epoch)),\n",
    "        \"val\": int(float(dataset_sizes[\"val\"] / datapoints_per_epoch)),\n",
    "    }\n",
    "\n",
    "    for epoch in range(num_epochs):\n",
    "        print('Epoch {}/{}'.format(epoch, num_epochs - 1))\n",
    "        print('-' * 10)\n",
    "        \n",
    "        with open(f\"/home/jupyter/logs/training/{type(model).__name__}-{since}.csv\", \"a\") as f:\n",
    "\n",
    "            # Each epoch has a training and validation phase\n",
    "            for phase in ['train', 'val']:\n",
    "                if phase == 'train':\n",
    "                    model.train()  # Set model to training mode\n",
    "                else:\n",
    "                    model.eval()   # Set model to evaluate mode\n",
    "\n",
    "                running_loss = 0.0\n",
    "                running_corrects = 0\n",
    "\n",
    "                plot_loss = 0\n",
    "                plot_corrects = 0\n",
    "\n",
    "                # Iterate over data.\n",
    "                for inputs, labels in tqdm(dataloaders[phase], desc=f\"Epoch: {epoch} ({phase})\"):\n",
    "                    inputs = inputs.to(device)\n",
    "                    labels = labels.to(device)\n",
    "\n",
    "                    # zero the parameter gradients\n",
    "                    optimizer.zero_grad()\n",
    "\n",
    "                    # forward\n",
    "                    # track history if only in train\n",
    "                    with torch.set_grad_enabled(phase == 'train'):\n",
    "                        outputs = model(inputs)\n",
    "                        _, preds = torch.max(outputs, 1)\n",
    "                        loss = criterion(outputs, labels)\n",
    "\n",
    "                        # backward + optimize only if in training phase\n",
    "                        if phase == 'train':\n",
    "                            loss.backward()\n",
    "                            optimizer.step()\n",
    "\n",
    "                    # statistics\n",
    "                    running_loss += loss.item() * inputs.size(0)\n",
    "                    running_corrects += torch.sum(preds == labels.data)\n",
    "                    \n",
    "                    plot_loss += loss.item() * inputs.size(0)\n",
    "                    plot_corrects += torch.sum(preds == labels.data)\n",
    "                    \n",
    "                    num_img[phase] += BATCH_SIZE\n",
    "                    \n",
    "                    if num_img[phase] % imgs_per_datapoint[phase] == 0:\n",
    "                        f.write(f\"{time.time()},{epoch},{phase},\\\n",
    "                        {num_img[phase]},{plot_loss / float(imgs_per_datapoint[phase])},\\\n",
    "                        {plot_corrects / float(imgs_per_datapoint[phase])}\\n\")\n",
    "                        \n",
    "                        plot_loss = 0\n",
    "                        plot_corrects = 0\n",
    "                        \n",
    "                        \n",
    "                \"\"\"\n",
    "                if phase == 'train':\n",
    "                    scheduler.step()\n",
    "                \"\"\"\n",
    "\n",
    "                epoch_loss = running_loss / dataset_sizes[phase]\n",
    "                epoch_acc = running_corrects.double() / dataset_sizes[phase]\n",
    "\n",
    "                print('{} Loss: {:.4f} Acc: {:.4f}'.format(\n",
    "                    phase, epoch_loss, epoch_acc))\n",
    "\n",
    "                # deep copy the model\n",
    "                if phase == 'val' and epoch_acc > best_acc:\n",
    "                    best_acc = epoch_acc\n",
    "                    best_model_wts = copy.deepcopy(model.state_dict())\n",
    "                    torch.save(\n",
    "                        {\n",
    "                            \"loss\": epoch_loss,\n",
    "                            \"acc\": epoch_acc,\n",
    "                            \"epoch\": epoch,\n",
    "                            \"parameters\": best_model_wts,\n",
    "                        },\n",
    "                        f\"/home/jupyter/checkpoints/{type(model).__name__}-{since}.data\",\n",
    "                    )\n",
    "        print()\n",
    "\n",
    "    time_elapsed = time.time() - since\n",
    "    print('Training complete in {:.0f}m {:.0f}s'.format(\n",
    "        time_elapsed // 60, time_elapsed % 60))\n",
    "    print('Best val Acc: {:4f}'.format(best_acc))\n",
    "\n",
    "    # load best model weights\n",
    "    model.load_state_dict(best_model_wts)\n",
    "    return model"
   ]
  },
  {
   "cell_type": "markdown",
   "metadata": {
    "id": "jWDUGOMqh2jh"
   },
   "source": [
    "### Prepare and train the CNN"
   ]
  },
  {
   "cell_type": "code",
   "execution_count": 10,
   "metadata": {
    "colab": {
     "base_uri": "https://localhost:8080/"
    },
    "id": "n2JPv3bfhm4_",
    "outputId": "7821f7f3-c160-4e2c-c375-829dd062acfd"
   },
   "outputs": [
    {
     "name": "stdout",
     "output_type": "stream",
     "text": [
      "CNN(\n",
      "  (features): Sequential(\n",
      "    (0): Conv2d(1, 128, kernel_size=(3, 3), stride=(1, 1), padding=(1, 1))\n",
      "    (1): MaxPool2d(kernel_size=2, stride=2, padding=0, dilation=1, ceil_mode=False)\n",
      "    (2): ReLU()\n",
      "    (3): Conv2d(128, 256, kernel_size=(3, 3), stride=(1, 1), padding=(1, 1))\n",
      "    (4): MaxPool2d(kernel_size=2, stride=2, padding=0, dilation=1, ceil_mode=False)\n",
      "    (5): ReLU()\n",
      "    (6): Conv2d(256, 512, kernel_size=(3, 3), stride=(1, 1), padding=(1, 1))\n",
      "    (7): MaxPool2d(kernel_size=2, stride=2, padding=0, dilation=1, ceil_mode=False)\n",
      "    (8): ReLU()\n",
      "    (9): Dropout(p=0.5, inplace=False)\n",
      "    (10): Conv2d(512, 512, kernel_size=(3, 3), stride=(1, 1), padding=(1, 1))\n",
      "    (11): MaxPool2d(kernel_size=2, stride=2, padding=0, dilation=1, ceil_mode=False)\n",
      "    (12): ReLU()\n",
      "    (13): Dropout(p=0.5, inplace=False)\n",
      "    (14): Conv2d(512, 512, kernel_size=(3, 3), stride=(1, 1), padding=(1, 1))\n",
      "    (15): MaxPool2d(kernel_size=2, stride=2, padding=0, dilation=1, ceil_mode=False)\n",
      "    (16): ReLU()\n",
      "    (17): Dropout(p=0.5, inplace=False)\n",
      "  )\n",
      "  (classify): Sequential(\n",
      "    (0): Linear(in_features=8192, out_features=2048, bias=True)\n",
      "    (1): ReLU()\n",
      "    (2): Dropout(p=0.5, inplace=False)\n",
      "    (3): Linear(in_features=2048, out_features=2048, bias=True)\n",
      "    (4): ReLU()\n",
      "    (5): Dropout(p=0.5, inplace=False)\n",
      "    (6): Linear(in_features=2048, out_features=4, bias=True)\n",
      "  )\n",
      ")\n"
     ]
    }
   ],
   "source": [
    "class CNN(nn.Module):\n",
    "    size_after_conv = 4 * 4 * 512\n",
    "    def __init__(self):\n",
    "        super(CNN, self).__init__()\n",
    "        self.features = nn.Sequential(   \n",
    "            nn.Conv2d(1, 128, kernel_size=3, padding=1),\n",
    "            nn.MaxPool2d(2),\n",
    "            nn.ReLU(),\n",
    "            #nn.Dropout(),\n",
    "            \n",
    "            nn.Conv2d(128, 256, kernel_size=3, padding=1),\n",
    "            nn.MaxPool2d(2),\n",
    "            nn.ReLU(),\n",
    "            #nn.Dropout(),\n",
    "            \n",
    "            nn.Conv2d(256, 512, kernel_size=3, padding=1),\n",
    "            nn.MaxPool2d(2),\n",
    "            nn.ReLU(),\n",
    "            nn.Dropout(),\n",
    "            \n",
    "            nn.Conv2d(512, 512, kernel_size=3, padding=1),\n",
    "            nn.MaxPool2d(2),\n",
    "            nn.ReLU(),\n",
    "            nn.Dropout(),\n",
    "            \n",
    "            nn.Conv2d(512, 512, kernel_size=3, padding=1),\n",
    "            nn.MaxPool2d(2),\n",
    "            nn.ReLU(),\n",
    "            nn.Dropout(),\n",
    "        )\n",
    "        self.classify = nn.Sequential(\n",
    "            nn.Linear(self.size_after_conv, 2048),\n",
    "            nn.ReLU(),\n",
    "            nn.Dropout(),\n",
    "            nn.Linear(2048, 2048),\n",
    "            nn.ReLU(),\n",
    "            nn.Dropout(),\n",
    "            nn.Linear(2048, len(class_names)),\n",
    "        )\n",
    "\n",
    "    def forward(self, x):\n",
    "        x = self.features(x)\n",
    "        x = x.view(-1, self.size_after_conv)\n",
    "        x = self.classify(x)\n",
    "\n",
    "        return x\n",
    "\n",
    "cnn = CNN().to(device)\n",
    "print(cnn)"
   ]
  },
  {
   "cell_type": "code",
   "execution_count": 19,
   "metadata": {},
   "outputs": [
    {
     "data": {
      "text/plain": [
       "Counter({2: 26180, 1: 26180, 0: 26181, 3: 26180})"
      ]
     },
     "execution_count": 19,
     "metadata": {},
     "output_type": "execute_result"
    }
   ],
   "source": [
    "from collections import Counter\n",
    "c = Counter()\n",
    "for inputs, labels in dataloaders[\"train\"]:\n",
    "    c.update(list(labels.numpy()))\n",
    "    \n",
    "c"
   ]
  },
  {
   "cell_type": "code",
   "execution_count": 87,
   "metadata": {},
   "outputs": [
    {
     "data": {
      "text/plain": [
       "CNNSmall(\n",
       "  (fc1): Linear(in_features=16384, out_features=1024, bias=True)\n",
       "  (fc2): Linear(in_features=1024, out_features=1024, bias=True)\n",
       "  (fc3): Linear(in_features=1024, out_features=4, bias=True)\n",
       ")"
      ]
     },
     "execution_count": 87,
     "metadata": {},
     "output_type": "execute_result"
    }
   ],
   "source": [
    "class CNNSmall(nn.Module):\n",
    "    def __init__(self):\n",
    "        super(CNNSmall, self).__init__()\n",
    "        self.fc1 = nn.Linear(128*128, 1024)\n",
    "        self.fc2 = nn.Linear(1024, 1024)\n",
    "        self.fc3 = nn.Linear(1024, 4)\n",
    "        \n",
    "    def forward(self, x):\n",
    "        x = x.view(-1, 128*128)\n",
    "        x = F.relu(self.fc1(x))\n",
    "        x = F.dropout(F.relu(self.fc2(x)), p=0.25)\n",
    "        x = F.relu(self.fc3(x))\n",
    "\n",
    "        return x\n",
    "    \n",
    "cnn2 = CNNSmall().to(device)\n",
    "cnn2"
   ]
  },
  {
   "cell_type": "code",
   "execution_count": 76,
   "metadata": {},
   "outputs": [],
   "source": [
    "class CNNSlightlyLarger(nn.Module):\n",
    "    size_after_conv = 4 * 4 * 32\n",
    "    def __init__(self):\n",
    "        super(CNNSlightlyLarger, self).__init__()\n",
    "        self.features = nn.Sequential(   \n",
    "            nn.Conv2d(1, 32, kernel_size=3, padding=1),\n",
    "            nn.MaxPool2d(2),\n",
    "            nn.ReLU(),\n",
    "            \n",
    "            nn.Conv2d(32, 32, kernel_size=3, padding=1),\n",
    "            nn.MaxPool2d(2),\n",
    "            nn.ReLU(),\n",
    "            \n",
    "            nn.Conv2d(32, 32, kernel_size=3, padding=1),\n",
    "            nn.MaxPool2d(2),\n",
    "            nn.ReLU(),\n",
    "            \n",
    "            nn.Conv2d(32, 32, kernel_size=3, padding=1),\n",
    "            nn.MaxPool2d(2),\n",
    "            nn.ReLU(),\n",
    "            \n",
    "            nn.Conv2d(32, 32, kernel_size=3, padding=1),\n",
    "            nn.MaxPool2d(2),\n",
    "            nn.ReLU(),\n",
    "        )\n",
    "        self.classify = nn.Sequential(\n",
    "            nn.Linear(self.size_after_conv, 512),\n",
    "            nn.ReLU(),\n",
    "            nn.Linear(512, 512),\n",
    "            nn.ReLU(),\n",
    "            nn.Linear(512, len(class_names)),\n",
    "        )\n",
    "\n",
    "    def forward(self, x):\n",
    "        x = self.features(x)\n",
    "        x = x.view(-1, self.size_after_conv)\n",
    "        x = self.classify(x)\n",
    "\n",
    "        return x\n",
    "    \n",
    "cnn3 = CNNSlightlyLarger().to(device)"
   ]
  },
  {
   "cell_type": "code",
   "execution_count": 61,
   "metadata": {},
   "outputs": [
    {
     "name": "stdout",
     "output_type": "stream",
     "text": [
      "Layer fc1.weight: 16777216 elements\n",
      "Layer fc1.bias: 1024 elements\n",
      "Layer fc2.weight: 524288 elements\n",
      "Layer fc2.bias: 512 elements\n",
      "Layer fc3.weight: 2048 elements\n",
      "Layer fc3.bias: 4 elements\n",
      "\n",
      "Layer features.0.weight: 1152 elements\n",
      "Layer features.0.bias: 128 elements\n",
      "Layer features.3.weight: 294912 elements\n",
      "Layer features.3.bias: 256 elements\n",
      "Layer features.6.weight: 1179648 elements\n",
      "Layer features.6.bias: 512 elements\n",
      "Layer features.10.weight: 2359296 elements\n",
      "Layer features.10.bias: 512 elements\n",
      "Layer features.14.weight: 2359296 elements\n",
      "Layer features.14.bias: 512 elements\n",
      "Layer classify.0.weight: 16777216 elements\n",
      "Layer classify.0.bias: 2048 elements\n",
      "Layer classify.3.weight: 4194304 elements\n",
      "Layer classify.3.bias: 2048 elements\n",
      "Layer classify.6.weight: 8192 elements\n",
      "Layer classify.6.bias: 4 elements\n"
     ]
    }
   ],
   "source": [
    "tensor_list = list(cnn2.state_dict().items())\n",
    "for layer_tensor_name, tensor in tensor_list:\n",
    "    print('Layer {}: {} elements'.format(layer_tensor_name, torch.numel(tensor)))\n",
    "    \n",
    "print()\n",
    "tensor_list = list(cnn.state_dict().items())\n",
    "for layer_tensor_name, tensor in tensor_list:\n",
    "    print('Layer {}: {} elements'.format(layer_tensor_name, torch.numel(tensor)))"
   ]
  },
  {
   "cell_type": "code",
   "execution_count": 84,
   "metadata": {},
   "outputs": [
    {
     "name": "stdout",
     "output_type": "stream",
     "text": [
      "tensor([1, 1, 2, 2])\n",
      "tensor([[2.5000e-01, 2.5000e-01, 2.5000e-01, 2.5000e-01],\n",
      "        [6.1696e-32, 1.0000e+00, 6.1696e-32, 6.1696e-32],\n",
      "        [2.5000e-01, 2.5000e-01, 2.5000e-01, 2.5000e-01],\n",
      "        [2.5000e-01, 2.5000e-01, 2.5000e-01, 2.5000e-01]],\n",
      "       grad_fn=<SoftmaxBackward>)\n",
      "tensor([3, 2, 0, 2])\n",
      "tensor([[0.2500, 0.2500, 0.2500, 0.2500],\n",
      "        [0.2500, 0.2500, 0.2500, 0.2500],\n",
      "        [0.2500, 0.2500, 0.2500, 0.2500],\n",
      "        [0.2500, 0.2500, 0.2500, 0.2500]], grad_fn=<SoftmaxBackward>)\n",
      "tensor([1, 3, 2, 1])\n",
      "tensor([[3.8705e-28, 1.0000e+00, 3.8705e-28, 3.8705e-28],\n",
      "        [2.5000e-01, 2.5000e-01, 2.5000e-01, 2.5000e-01],\n",
      "        [2.5000e-01, 2.5000e-01, 2.5000e-01, 2.5000e-01],\n",
      "        [1.4013e-43, 1.0000e+00, 1.4013e-43, 1.4013e-43]],\n",
      "       grad_fn=<SoftmaxBackward>)\n"
     ]
    }
   ],
   "source": [
    "net = cnn2.cpu()\n",
    "for idx, (inputs, labels) in enumerate(dataloaders[\"train\"]):\n",
    "    print(labels)\n",
    "    # print(inputs)\n",
    "    out = F.softmax(net(inputs), dim=1)\n",
    "    \n",
    "    print(out)\n",
    "    if idx > 1:\n",
    "        break"
   ]
  },
  {
   "cell_type": "code",
   "execution_count": 13,
   "metadata": {},
   "outputs": [],
   "source": [
    "squeezenet = models.squeezenet1_1(pretrained=True)\n",
    "num_chn = squeezenet.classifier[1].in_channels\n",
    "squeezenet.classifier[1] = nn.Conv2d(num_chn, len(class_names), 1, 1)\n",
    "squeezenet = squeezenet.to(device)"
   ]
  },
  {
   "cell_type": "code",
   "execution_count": null,
   "metadata": {
    "colab": {
     "base_uri": "https://localhost:8080/",
     "height": 392
    },
    "id": "epKrvd6IzTeC",
    "outputId": "308f9877-4509-4dbd-92c6-9ed54f9ad7dd"
   },
   "outputs": [
    {
     "name": "stderr",
     "output_type": "stream",
     "text": [
      "Epoch: 0 (train):   0%|          | 0/6546 [00:00<?, ?it/s]"
     ]
    },
    {
     "name": "stdout",
     "output_type": "stream",
     "text": [
      "Epoch 0/24\n",
      "----------\n"
     ]
    },
    {
     "name": "stderr",
     "output_type": "stream",
     "text": [
      "Epoch: 0 (train): 100%|██████████| 6546/6546 [53:37<00:00,  2.03it/s]\n",
      "Epoch: 0 (val):   0%|          | 0/1966 [00:00<?, ?it/s]"
     ]
    },
    {
     "name": "stdout",
     "output_type": "stream",
     "text": [
      "train Loss: 0.1892 Acc: 0.9317\n"
     ]
    },
    {
     "name": "stderr",
     "output_type": "stream",
     "text": [
      "Epoch: 0 (val): 100%|██████████| 1966/1966 [04:53<00:00,  6.70it/s]\n",
      "Epoch: 1 (train):   0%|          | 0/6546 [00:00<?, ?it/s]"
     ]
    },
    {
     "name": "stdout",
     "output_type": "stream",
     "text": [
      "val Loss: 2.0044 Acc: 0.4790\n",
      "\n",
      "Epoch 1/24\n",
      "----------\n"
     ]
    },
    {
     "name": "stderr",
     "output_type": "stream",
     "text": [
      "Epoch: 1 (train):  25%|██▍       | 1623/6546 [13:14<39:45,  2.06it/s]"
     ]
    }
   ],
   "source": [
    "optimizer = torch.optim.Adam(squeezenet.classifier[1].parameters())\n",
    "loss_function = nn.CrossEntropyLoss()\n",
    "exp_lr_scheduler = lr_scheduler.StepLR(optimizer, step_size=7, gamma=0.1)\n",
    "\n",
    "train_model(squeezenet, loss_function, optimizer, exp_lr_scheduler, num_epochs=25)"
   ]
  },
  {
   "cell_type": "code",
   "execution_count": null,
   "metadata": {
    "id": "2mhJ5gmLy8CG"
   },
   "outputs": [],
   "source": [
    "def visualize_model(model, num_images=6):\n",
    "    was_training = model.training\n",
    "    model.eval()\n",
    "    images_so_far = 0\n",
    "    fig = plt.figure()\n",
    "\n",
    "    with torch.no_grad():\n",
    "        for i, (inputs, labels) in enumerate(dataloaders['val']):\n",
    "            inputs = inputs.to(device)\n",
    "            labels = labels.to(device)\n",
    "\n",
    "            outputs = model(inputs)\n",
    "            _, preds = torch.max(outputs, 1)\n",
    "\n",
    "            for j in range(inputs.size()[0]):\n",
    "                images_so_far += 1\n",
    "                ax = plt.subplot(num_images//2, 2, images_so_far)\n",
    "                ax.axis('off')\n",
    "                ax.set_title('predicted: {}'.format(class_names[preds[j]]))\n",
    "                imshow(inputs.cpu().data[j])\n",
    "\n",
    "                if images_so_far == num_images:\n",
    "                    model.train(mode=was_training)\n",
    "                    return\n",
    "        model.train(mode=was_training)"
   ]
  },
  {
   "cell_type": "code",
   "execution_count": null,
   "metadata": {
    "id": "w6wJlK79Gp2k"
   },
   "outputs": [],
   "source": [
    "import matplotlib.pyplot as plt\n"
   ]
  },
  {
   "cell_type": "code",
   "execution_count": null,
   "metadata": {
    "id": "knfsRG3emouC"
   },
   "outputs": [],
   "source": [
    "images, labels = next(iter(test_loader))\n",
    "\n",
    "for idx, (image, label) in enumerate(zip(images, labels)):\n",
    "    pred = int(torch.argmax(cnn(image.view(-1, 1, 64, 64).to(device))))\n",
    "    convert = {0: \"Lars\", 1: \"Morgan\", 2: \"Kjartan\", 3: \"Ingen\"}\n",
    "    \n",
    "    plt.imshow(image.view(64, 64).cpu(), cmap=\"gray\")\n",
    "    plt.text(2, 54, f\"Image {idx + 1}\", fontsize=14, color=\"white\")\n",
    "    plt.text(2, 58, f\"Predicted: `{convert[pred]}`\", fontsize=14, color=\"white\")\n",
    "    plt.text(2, 62, f\"Actual   : `{convert[label.item()]}`\", fontsize=14, color=\"white\")\n",
    "    plt.pause(0.05)"
   ]
  },
  {
   "cell_type": "code",
   "execution_count": null,
   "metadata": {
    "id": "N6x34CiPQT6y"
   },
   "outputs": [],
   "source": [
    "import cv2"
   ]
  },
  {
   "cell_type": "code",
   "execution_count": null,
   "metadata": {
    "id": "ZaYcByaqGjXw"
   },
   "outputs": [],
   "source": [
    "cnn.eval()\n",
    "\n",
    "class Label:\n",
    "    def __init__(self, label):\n",
    "        self.label = label\n",
    "    \n",
    "    def item(self):\n",
    "        return self.label\n",
    "\n",
    "\n",
    "filename = \"/content/lars_5.png\"\n",
    "image = cv2.imread(filename, cv2.IMREAD_GRAYSCALE)\n",
    "image = cv2.resize(image, (64, 64)) / 255.0\n",
    "plt.imshow(image, cmap=\"gray\")\n",
    "convert = {0: \"Lars\", 1: \"Morgan\", 2: \"Kjartan\", 3: \"Ingen\"}\n",
    "\n",
    "pred = int(torch.argmax(cnn(torch.Tensor(image).view(-1, 1, 64, 64).to(device))))\n",
    "# plt.text(2, 58, f\"Predicted: `{convert[pred]}`\", fontsize=14, color=\"white\")\n",
    "# plt.text(2, 62, f\"Actual   : `{convert[label.item()]}`\", fontsize=14, color=\"white\")\n",
    "\n",
    "if \"morgan\" in filename:\n",
    "    label = Label(1)\n",
    "elif \"lars\" in filename:\n",
    "    label = Label(0)\n",
    "else:\n",
    "    label = Label(3)\n",
    "\n",
    "print(f\"Predicted: `{convert[pred]}`\" )\n",
    "print(f\"Actual   : `{convert[label.item()]}`\")\n",
    "\n",
    "# plt.imshow(image.view(64, 64).cpu().to_numpy(), cmap=\"gray\")\n"
   ]
  },
  {
   "cell_type": "code",
   "execution_count": null,
   "metadata": {
    "id": "4N91hUPwQQxQ"
   },
   "outputs": [],
   "source": []
  }
 ],
 "metadata": {
  "accelerator": "GPU",
  "colab": {
   "authorship_tag": "ABX9TyNhmrOEpCf+TSQ8zFTjgzYm",
   "collapsed_sections": [],
   "include_colab_link": true,
   "mount_file_id": "19u23RtByT-NlwzrIfLBnnP-fsBA6fbNE",
   "name": "pretraining_celeba_cnn_v2.ipynb",
   "provenance": []
  },
  "environment": {
   "name": "pytorch-gpu.1-4.m58",
   "type": "gcloud",
   "uri": "gcr.io/deeplearning-platform-release/pytorch-gpu.1-4:m58"
  },
  "kernelspec": {
   "display_name": "Python 3",
   "language": "python",
   "name": "python3"
  },
  "language_info": {
   "codemirror_mode": {
    "name": "ipython",
    "version": 3
   },
   "file_extension": ".py",
   "mimetype": "text/x-python",
   "name": "python",
   "nbconvert_exporter": "python",
   "pygments_lexer": "ipython3",
   "version": "3.7.8"
  }
 },
 "nbformat": 4,
 "nbformat_minor": 4
}
