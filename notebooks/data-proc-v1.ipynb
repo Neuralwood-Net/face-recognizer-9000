{
 "cells": [
  {
   "cell_type": "code",
   "execution_count": 9,
   "metadata": {},
   "outputs": [
    {
     "name": "stdout",
     "output_type": "stream",
     "text": [
      "cats-vs-dogs/\n",
      "cats-vs-dogs/raw-data/\n",
      "cats-vs-dogs/raw-data/catsanddogs.zip\n"
     ]
    }
   ],
   "source": [
    "from google.cloud import storage\n",
    "client = storage.Client()\n",
    "\n",
    "bucket_name = \"tdt4173-datasets\"\n",
    "bucket = client.get_bucket(bucket_name)\n",
    "\n",
    "blobs = bucket.list_blobs()\n",
    "for blob in blobs:\n",
    "    print(blob.name)"
   ]
  },
  {
   "cell_type": "code",
   "execution_count": 17,
   "metadata": {},
   "outputs": [],
   "source": [
    "blob_name = \"cats-vs-dogs/raw-data/catsanddogs.zip\"\n",
    "blob = bucket.get_blob(blob_name)\n",
    "blob.download_to_filename(\"data/catsanddogs.zip\")"
   ]
  },
  {
   "cell_type": "code",
   "execution_count": 59,
   "metadata": {},
   "outputs": [],
   "source": [
    "import os\n",
    "import cv2\n",
    "import numpy as np\n",
    "import matplotlib.pyplot as plt\n",
    "from tqdm import tqdm"
   ]
  },
  {
   "cell_type": "code",
   "execution_count": 88,
   "metadata": {},
   "outputs": [
    {
     "name": "stderr",
     "output_type": "stream",
     "text": [
      "100%|██████████| 12501/12501 [00:16<00:00, 781.11it/s]\n",
      "100%|██████████| 12501/12501 [00:17<00:00, 717.13it/s]\n"
     ]
    },
    {
     "name": "stdout",
     "output_type": "stream",
     "text": [
      "Cats: 12476, dogs: 12470\n"
     ]
    }
   ],
   "source": [
    "class DogsAndCats:\n",
    "    IMG_SIZE = 128\n",
    "    CATS = \"data/PetImages/Cat\"\n",
    "    DOGS = \"data/PetImages/Dog\"\n",
    "    TESTING = \"data/PetImages/Testing\"\n",
    "    LABELS = {CATS: 0, DOGS: 1}\n",
    "    training_data = []\n",
    "    \n",
    "    counts = {CATS: 0, DOGS: 0}\n",
    "    \n",
    "    def make_training_data(self):\n",
    "        for label, classnum in self.LABELS.items():\n",
    "            for f in tqdm(os.listdir(label)):\n",
    "                if \"jpg\" in f:\n",
    "                    try:\n",
    "                        path = os.path.join(label, f)\n",
    "                        img = cv2.imread(path, cv2.IMREAD_GRAYSCALE)\n",
    "                        h, w = img.shape\n",
    "                        img = cv2.copyMakeBorder(\n",
    "                            img,\n",
    "                            top=0,\n",
    "                            right=max(0, h-w),\n",
    "                            bottom=max(0, w-h),\n",
    "                            left=0,\n",
    "                            borderType=0,\n",
    "                        )\n",
    "                        img = cv2.resize(img, (self.IMG_SIZE, self.IMG_SIZE))\n",
    "                        self.training_data.append([np.array(img), np.eye(2)[self.LABELS[label]]])\n",
    "                        \n",
    "                        self.counts[label] += 1\n",
    "                        \n",
    "                    except Exception as e:\n",
    "                        pass\n",
    "                    \n",
    "                    \n",
    "        np.random.shuffle(self.training_data)\n",
    "        np.save(\"data/processed/training_data.npy\", self.training_data)\n",
    "        print(f\"Cats: {self.counts[self.CATS]}, dogs: {self.counts[self.DOGS]}\")\n",
    "\n",
    "DogsAndCats().make_training_data()"
   ]
  },
  {
   "cell_type": "code",
   "execution_count": 89,
   "metadata": {},
   "outputs": [],
   "source": [
    "blob_name = \"cats-vs-dogs/processed/catsvsdogs.npy\"\n",
    "blob = bucket.blob(blob_name)\n",
    "\n",
    "source_file_name = \"data/processed/training_data.npy\"\n",
    "blob.upload_from_filename(source_file_name)"
   ]
  },
  {
   "cell_type": "code",
   "execution_count": null,
   "metadata": {},
   "outputs": [],
   "source": []
  }
 ],
 "metadata": {
  "environment": {
   "name": "pytorch-gpu.1-4.m58",
   "type": "gcloud",
   "uri": "gcr.io/deeplearning-platform-release/pytorch-gpu.1-4:m58"
  },
  "kernelspec": {
   "display_name": "Python 3",
   "language": "python",
   "name": "python3"
  },
  "language_info": {
   "codemirror_mode": {
    "name": "ipython",
    "version": 3
   },
   "file_extension": ".py",
   "mimetype": "text/x-python",
   "name": "python",
   "nbconvert_exporter": "python",
   "pygments_lexer": "ipython3",
   "version": "3.7.8"
  }
 },
 "nbformat": 4,
 "nbformat_minor": 4
}
