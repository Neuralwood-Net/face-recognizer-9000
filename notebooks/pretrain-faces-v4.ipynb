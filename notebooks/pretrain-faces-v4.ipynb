{
 "cells": [
  {
   "cell_type": "code",
   "execution_count": 1,
   "metadata": {},
   "outputs": [],
   "source": [
    "import time\n",
    "\n",
    "import numpy as np\n",
    "from tqdm import tqdm\n",
    "import torch\n",
    "import torch.nn as nn\n",
    "import torch.nn.functional as F\n",
    "import torch.optim as optim\n",
    "import matplotlib.pyplot as plt\n",
    "from matplotlib import style\n",
    "\n",
    "from more_itertools import chunked\n",
    "\n",
    "from google.cloud import storage"
   ]
  },
  {
   "cell_type": "code",
   "execution_count": 2,
   "metadata": {},
   "outputs": [],
   "source": [
    "# Configuration constants\n",
    "VALIDATION_RATIO = 0.1"
   ]
  },
  {
   "cell_type": "code",
   "execution_count": 3,
   "metadata": {},
   "outputs": [
    {
     "name": "stdout",
     "output_type": "stream",
     "text": [
      "cats-vs-dogs/\n",
      "cats-vs-dogs/processed/catsvsdogs.npy\n",
      "cats-vs-dogs/raw-data/\n",
      "cats-vs-dogs/raw-data/catsanddogs.zip\n",
      "cats-vs-dogs/tensors/\n",
      "cats-vs-dogs/tensors/catsdogs_processed_64px_24946_horizontal.torch\n",
      "celeba/\n",
      "celeba/processed/\n",
      "celeba/processed/celebalign_processed1.npy\n",
      "celeba/tensors/\n",
      "celeba/tensors/celebalign_processed_20_000_horizontal.torch\n",
      "celeba/tensors/celebalign_processed_64_100000_horizontal.torch\n",
      "celeba/zips/\n",
      "celeba/zips/img_align_celeba.zip\n",
      "celeba/zips/img_celeba.7z-20201107T135448Z-002.zip\n",
      "celeba/zips/img_celeba.7z.001\n",
      "checkpoints/FleetwoodNet11V1-1604934154/FleetwoodNet11V1-1604934154-epoch-0.data\n",
      "checkpoints/FleetwoodNet11V1-1604934154/FleetwoodNet11V1-1604934154-epoch-1.data\n",
      "checkpoints/FleetwoodNet11V1-1604934154/FleetwoodNet11V1-1604934154-epoch-2.data\n",
      "checkpoints/FleetwoodNet11V1-1604934154/FleetwoodNet11V1-1604934154-epoch-3.data\n",
      "checkpoints/FleetwoodNet11V1-1604934154/FleetwoodNet11V1-1604934154-epoch-4.data\n",
      "faces/\n",
      "faces/processed-images/\n",
      "faces/videos/\n",
      "tdt4173-datasets/celeba/processed/celebalign_processed.npy\n"
     ]
    }
   ],
   "source": [
    "client = storage.Client()\n",
    "\n",
    "bucket_name = \"tdt4173-datasets\"\n",
    "bucket = client.get_bucket(bucket_name)\n",
    "\n",
    "blobs = bucket.list_blobs()\n",
    "for blob in blobs:\n",
    "    print(blob.name)"
   ]
  },
  {
   "cell_type": "code",
   "execution_count": 5,
   "metadata": {},
   "outputs": [],
   "source": [
    "blob_name = \"cats-vs-dogs/tensors/catsdogs_processed_64px_24946_horizontal.torch\"\n",
    "blob = bucket.get_blob(blob_name)\n",
    "data_file = \"/home/jupyter/data/cats-vs-dogs/tensors/catsdogs_processed_64px_24946_horizontal.torch\"\n",
    "blob.download_to_filename(data_file)"
   ]
  },
  {
   "cell_type": "code",
   "execution_count": 6,
   "metadata": {},
   "outputs": [],
   "source": [
    "# data_file = \"/home/jupyter/data/celeb-align-1/tensors/celebalign_processed_100_000_horizontal.torch\"\n",
    "data = torch.load(data_file)"
   ]
  },
  {
   "cell_type": "code",
   "execution_count": 7,
   "metadata": {},
   "outputs": [
    {
     "data": {
      "image/png": "[encoded data removed]",
      "text/plain": [
       "<Figure size 432x288 with 1 Axes>"
      ]
     },
     "metadata": {
      "needs_background": "light"
     },
     "output_type": "display_data"
    }
   ],
   "source": [
    "plt.imshow(data[\"x\"][24], cmap=\"gray\");"
   ]
  },
  {
   "cell_type": "code",
   "execution_count": 8,
   "metadata": {},
   "outputs": [
    {
     "name": "stdout",
     "output_type": "stream",
     "text": [
      "torch.Size([64, 64])\n"
     ]
    }
   ],
   "source": [
    "print(data[\"x\"][0].shape)\n",
    "IMAGE_SIZE = data[\"x\"][0].shape[0]\n",
    "NUM_CLASSES = data[\"num_classes\"]"
   ]
  },
  {
   "cell_type": "code",
   "execution_count": 9,
   "metadata": {},
   "outputs": [
    {
     "name": "stdout",
     "output_type": "stream",
     "text": [
      "Running on the GPU\n"
     ]
    }
   ],
   "source": [
    "if torch.cuda.is_available():\n",
    "    device = torch.device(\"cuda:0\")\n",
    "    print(\"Running on the GPU\")\n",
    "else:\n",
    "    device = torch.device(\"cpu\")\n",
    "    print(\"Running on the CPU\")"
   ]
  },
  {
   "cell_type": "code",
   "execution_count": 10,
   "metadata": {},
   "outputs": [],
   "source": [
    "unique = set(data[\"y\"])\n",
    "class_mapping = {elem: idx for idx, elem in enumerate(unique)}"
   ]
  },
  {
   "cell_type": "code",
   "execution_count": 11,
   "metadata": {},
   "outputs": [
    {
     "name": "stdout",
     "output_type": "stream",
     "text": [
      "2494\n"
     ]
    }
   ],
   "source": [
    "val_size = int(len(data[\"x\"]) * VALIDATION_RATIO)\n",
    "print(val_size)"
   ]
  },
  {
   "cell_type": "code",
   "execution_count": 12,
   "metadata": {},
   "outputs": [],
   "source": [
    "train_x = data[\"x\"][:-val_size]\n",
    "train_y = data[\"y\"][:-val_size]"
   ]
  },
  {
   "cell_type": "code",
   "execution_count": 13,
   "metadata": {},
   "outputs": [],
   "source": [
    "def fwd_pass(x, y, loss_func, optim, train=False):\n",
    "    if train:\n",
    "        net.zero_grad()\n",
    "        \n",
    "    out = net(x)\n",
    "    acc = np.mean([int(torch.argmax(y_pred) == y_real) for y_pred, y_real in zip(out, y)])\n",
    "    loss = loss_func(out, y)\n",
    "\n",
    "    if train:\n",
    "        loss.backward()\n",
    "        optim.step()\n",
    "\n",
    "    return acc, loss"
   ]
  },
  {
   "cell_type": "code",
   "execution_count": 14,
   "metadata": {},
   "outputs": [],
   "source": [
    "test_x = data[\"x\"][-val_size:]\n",
    "test_y = data[\"y\"][-val_size:]"
   ]
  },
  {
   "cell_type": "code",
   "execution_count": 15,
   "metadata": {},
   "outputs": [],
   "source": [
    "def test(size, loss_func, optim):\n",
    "    tx, ty = test_x[:size].to(device), test_y[:size].to(device)\n",
    "    val_acc, val_loss = fwd_pass(tx.view(-1, 1, IMAGE_SIZE, IMAGE_SIZE).to(device), ty.to(device), loss_func, optim)\n",
    "    return val_acc, val_loss"
   ]
  },
  {
   "cell_type": "code",
   "execution_count": 20,
   "metadata": {},
   "outputs": [],
   "source": [
    "import os\n",
    "import sys\n",
    "module_path = os.path.abspath(os.path.join('..'))\n",
    "if module_path not in sys.path:\n",
    "    sys.path.append(module_path)\n",
    "\n",
    "import models.AnkiLeNet\n",
    "\n",
    "import importlib\n",
    "importlib.reload(models.AnkiLeNet)\n",
    "NetClass = models.AnkiLeNet.AnkiLeNetV1"
   ]
  },
  {
   "cell_type": "code",
   "execution_count": 29,
   "metadata": {},
   "outputs": [],
   "source": [
    "# Only run if need to delete memory\n",
    "collect = False\n",
    "if collect:\n",
    "    import gc\n",
    "    del net\n",
    "    gc.collect()\n",
    "    torch.cuda.empty_cache()"
   ]
  },
  {
   "cell_type": "code",
   "execution_count": 21,
   "metadata": {},
   "outputs": [
    {
     "name": "stdout",
     "output_type": "stream",
     "text": [
      "AnkiLeNetV1(\n",
      "  (conv1): Conv2d(1, 32, kernel_size=(5, 5), stride=(1, 1), padding=(2, 2))\n",
      "  (conv2): Conv2d(32, 64, kernel_size=(5, 5), stride=(1, 1), padding=(2, 2))\n",
      "  (conv3): Conv2d(64, 128, kernel_size=(5, 5), stride=(1, 1), padding=(2, 2))\n",
      "  (fc1): Linear(in_features=8192, out_features=512, bias=True)\n",
      "  (fc2): Linear(in_features=512, out_features=2, bias=True)\n",
      ")\n"
     ]
    }
   ],
   "source": [
    "net = NetClass(NUM_CLASSES).to(device)\n",
    "print(net)"
   ]
  },
  {
   "cell_type": "code",
   "execution_count": 26,
   "metadata": {},
   "outputs": [
    {
     "name": "stderr",
     "output_type": "stream",
     "text": [
      "  1%|▏         | 3/225 [00:00<00:09, 23.82it/s, acc=0.43, loss=-.43]"
     ]
    },
    {
     "name": "stdout",
     "output_type": "stream",
     "text": [
      "Model name: AnkiLeNetV1-1604953942\n"
     ]
    },
    {
     "name": "stderr",
     "output_type": "stream",
     "text": [
      "100%|██████████| 225/225 [00:06<00:00, 33.64it/s, acc=0.442, loss=-.442]\n",
      "  2%|▏         | 4/225 [00:00<00:06, 34.52it/s, acc=0.48, loss=-.48]"
     ]
    },
    {
     "name": "stdout",
     "output_type": "stream",
     "text": [
      "Epoch: 0. Loss: -0.4423076808452606. Accuracy: 0.4423076923076923.\n"
     ]
    },
    {
     "name": "stderr",
     "output_type": "stream",
     "text": [
      "100%|██████████| 225/225 [00:06<00:00, 33.97it/s, acc=0.442, loss=-.442]\n",
      "  2%|▏         | 4/225 [00:00<00:06, 34.20it/s, acc=0.48, loss=-.48]"
     ]
    },
    {
     "name": "stdout",
     "output_type": "stream",
     "text": [
      "Epoch: 1. Loss: -0.4423076808452606. Accuracy: 0.4423076923076923.\n"
     ]
    },
    {
     "name": "stderr",
     "output_type": "stream",
     "text": [
      "100%|██████████| 225/225 [00:06<00:00, 33.97it/s, acc=0.442, loss=-.442]\n",
      "  2%|▏         | 4/225 [00:00<00:06, 34.00it/s, acc=0.48, loss=-.48]"
     ]
    },
    {
     "name": "stdout",
     "output_type": "stream",
     "text": [
      "Epoch: 2. Loss: -0.4423076808452606. Accuracy: 0.4423076923076923.\n"
     ]
    },
    {
     "name": "stderr",
     "output_type": "stream",
     "text": [
      "100%|██████████| 225/225 [00:06<00:00, 33.76it/s, acc=0.442, loss=-.442]\n",
      "  2%|▏         | 4/225 [00:00<00:06, 33.86it/s, acc=0.48, loss=-.48]"
     ]
    },
    {
     "name": "stdout",
     "output_type": "stream",
     "text": [
      "Epoch: 3. Loss: -0.4423076808452606. Accuracy: 0.4423076923076923.\n"
     ]
    },
    {
     "name": "stderr",
     "output_type": "stream",
     "text": [
      "100%|██████████| 225/225 [00:06<00:00, 33.68it/s, acc=0.442, loss=-.442]\n",
      "  2%|▏         | 4/225 [00:00<00:06, 34.09it/s, acc=0.48, loss=-.48]"
     ]
    },
    {
     "name": "stdout",
     "output_type": "stream",
     "text": [
      "Epoch: 4. Loss: -0.4423076808452606. Accuracy: 0.4423076923076923.\n"
     ]
    },
    {
     "name": "stderr",
     "output_type": "stream",
     "text": [
      "100%|██████████| 225/225 [00:06<00:00, 33.65it/s, acc=0.442, loss=-.442]\n",
      "  2%|▏         | 4/225 [00:00<00:06, 33.80it/s, acc=0.48, loss=-.48]"
     ]
    },
    {
     "name": "stdout",
     "output_type": "stream",
     "text": [
      "Epoch: 5. Loss: -0.4423076808452606. Accuracy: 0.4423076923076923.\n"
     ]
    },
    {
     "name": "stderr",
     "output_type": "stream",
     "text": [
      "100%|██████████| 225/225 [00:06<00:00, 33.67it/s, acc=0.442, loss=-.442]\n",
      "  2%|▏         | 4/225 [00:00<00:06, 34.04it/s, acc=0.48, loss=-.48]"
     ]
    },
    {
     "name": "stdout",
     "output_type": "stream",
     "text": [
      "Epoch: 6. Loss: -0.4423076808452606. Accuracy: 0.4423076923076923.\n"
     ]
    },
    {
     "name": "stderr",
     "output_type": "stream",
     "text": [
      "100%|██████████| 225/225 [00:06<00:00, 33.40it/s, acc=0.442, loss=-.442]\n",
      "  2%|▏         | 4/225 [00:00<00:06, 33.80it/s, acc=0.48, loss=-.48]"
     ]
    },
    {
     "name": "stdout",
     "output_type": "stream",
     "text": [
      "Epoch: 7. Loss: -0.4423076808452606. Accuracy: 0.4423076923076923.\n"
     ]
    },
    {
     "name": "stderr",
     "output_type": "stream",
     "text": [
      "100%|██████████| 225/225 [00:06<00:00, 33.40it/s, acc=0.442, loss=-.442]\n",
      "  2%|▏         | 4/225 [00:00<00:06, 33.66it/s, acc=0.48, loss=-.48]"
     ]
    },
    {
     "name": "stdout",
     "output_type": "stream",
     "text": [
      "Epoch: 8. Loss: -0.4423076808452606. Accuracy: 0.4423076923076923.\n"
     ]
    },
    {
     "name": "stderr",
     "output_type": "stream",
     "text": [
      "100%|██████████| 225/225 [00:06<00:00, 33.62it/s, acc=0.442, loss=-.442]"
     ]
    },
    {
     "name": "stdout",
     "output_type": "stream",
     "text": [
      "Epoch: 9. Loss: -0.4423076808452606. Accuracy: 0.4423076923076923.\n"
     ]
    },
    {
     "name": "stderr",
     "output_type": "stream",
     "text": [
      "\n"
     ]
    }
   ],
   "source": [
    "MODEL_NAME = f\"{type(net).__name__}-{int(time.time())}\"\n",
    "print(f\"Model name: {MODEL_NAME}\")\n",
    "saves_path = \"/home/jupyter/checkpoints\"\n",
    "CHECKPOINT_EVERY_STEP = 10_000\n",
    "SAVE_CHECKPOINTS = False\n",
    "\n",
    "optimizer = optim.Adam(net.parameters(), lr=0.0001)\n",
    "loss_function = nn.NLLLoss().to(device)\n",
    "\n",
    "def train(net):\n",
    "    BATCH_SIZE = 100\n",
    "    EPOCHS = 10\n",
    "\n",
    "    for epoch in range(EPOCHS):\n",
    "        with open(os.path.join(\"/home/jupyter/logs\", f\"model-{MODEL_NAME}.log\"), \"a\") as f:\n",
    "            it = tqdm(range(0, len(train_x), BATCH_SIZE))\n",
    "            for i in it:\n",
    "                batch_x = train_x[i:i+BATCH_SIZE].view(-1, 1, IMAGE_SIZE, IMAGE_SIZE).to(device)\n",
    "                batch_y = train_y[i:i+BATCH_SIZE].to(device)\n",
    "\n",
    "                acc, loss = fwd_pass(\n",
    "                    batch_x, batch_y,\n",
    "                    loss_function,\n",
    "                    optimizer,\n",
    "                    train=True,\n",
    "                )\n",
    "                \n",
    "                it.set_postfix({\"acc\": acc, \"loss\": loss.item()})\n",
    "\n",
    "                if i != 0 and i % CHECKPOINT_EVERY_STEP == 0:\n",
    "                    val_acc, val_loss = test(size=100, loss_func=loss_function, optim=optimizer)\n",
    "                    f.write(f\"{MODEL_NAME},{round(time.time(),3)},{round(float(acc),2)},{round(float(loss), 4)},{round(float(val_acc),2)},{round(float(val_loss),4)}\\n\")\n",
    "\n",
    "            if SAVE_CHECKPOINTS:\n",
    "                torch.save({\n",
    "                                \"model_state_dict\": net.state_dict(),\n",
    "                                \"optimizer_state_dict\": optimizer.state_dict(),\n",
    "                                \"val_acc\": val_acc,\n",
    "                                \"val_loss\": val_loss,\n",
    "                            },\n",
    "                    os.path.join(saves_path, f\"{MODEL_NAME}-epoch-{epoch}.data\"),\n",
    "                )\n",
    "            print(f\"Epoch: {epoch}. Loss: {loss}. Accuracy: {acc}.\")\n",
    "train(net)"
   ]
  },
  {
   "cell_type": "code",
   "execution_count": 25,
   "metadata": {},
   "outputs": [
    {
     "data": {
      "image/png": "[encoded data removed]",
      "text/plain": [
       "<Figure size 432x288 with 2 Axes>"
      ]
     },
     "metadata": {},
     "output_type": "display_data"
    }
   ],
   "source": [
    "style.use(\"ggplot\")\n",
    "filename = \"logs/model-AnkiLeNetV1-1604953942.log\"\n",
    "\n",
    "\n",
    "def create_acc_loss_graph(model_name):\n",
    "    times = []\n",
    "    accs = []\n",
    "    losses = []\n",
    "    \n",
    "    val_accs = []\n",
    "    val_losses = []\n",
    "    \n",
    "    with open(os.path.join(\"/home/jupyter\", filename), \"r\") as f:\n",
    "        \n",
    "        for line in f.readlines():\n",
    "            name, time, acc, loss, val_acc, val_loss = line.split(\",\")\n",
    "            \n",
    "            times.append(float(time))\n",
    "            accs.append(float(acc))\n",
    "            losses.append(float(loss))\n",
    "            \n",
    "            val_accs.append(float(val_acc))\n",
    "            val_losses.append(float(val_loss))\n",
    "            \n",
    "    fig = plt.figure()\n",
    "    \n",
    "    ax1 = plt.subplot2grid((2, 1), (0, 0))\n",
    "    ax2 = plt.subplot2grid((2, 1), (1, 0), sharex=ax1)\n",
    "    \n",
    "    ax1.plot(times, accs, label=\"acc\")\n",
    "    ax1.plot(times, val_accs, label=\"val_acc\")\n",
    "    ax1.legend(loc=2)\n",
    "    \n",
    "    ax2.plot(times, losses, label=\"loss\")\n",
    "    ax2.plot(times, val_losses, label=\"val_loss\")\n",
    "    ax2.legend(loc=2)\n",
    "    plt.show()\n",
    "\n",
    "create_acc_loss_graph(MODEL_NAME)"
   ]
  },
  {
   "cell_type": "code",
   "execution_count": null,
   "metadata": {},
   "outputs": [],
   "source": [
    "# Not currently in use, I think\n",
    "correct = 0\n",
    "\n",
    "with torch.no_grad():\n",
    "    for i, y_real in enumerate(tqdm(test_y)):\n",
    "        real_class = torch.argmax(y_real)\n",
    "        pred_class = torch.argmax(net(test_x[i].view(-1, 1, IMAGE_SIZE, IMAGE_SIZE))[0])\n",
    "        \n",
    "        correct += int(real_class == pred_class)\n",
    "        \n",
    "print(f\"Accuracy: {round(correct / len(test_x), 3)}\")"
   ]
  },
  {
   "cell_type": "code",
   "execution_count": null,
   "metadata": {},
   "outputs": [],
   "source": [
    "for im in test_x:\n",
    "    pred = int(torch.argmax(net(im.view(-1, 1, IMAGE_SIZE, IMAGE_SIZE))))\n",
    "    convert = {0: \"Cat\", 1: \"Dog\"}\n",
    "    print(f\"Net predicted it is `{convert[pred]}`\")\n",
    "    \n",
    "    plt.imshow(im.cpu(),cmap=\"gray\")\n",
    "    plt.pause(0.05)\n",
    "    print(\"=\"*50)"
   ]
  },
  {
   "cell_type": "code",
   "execution_count": null,
   "metadata": {},
   "outputs": [],
   "source": []
  }
 ],
 "metadata": {
  "environment": {
   "name": "pytorch-gpu.1-4.m58",
   "type": "gcloud",
   "uri": "gcr.io/deeplearning-platform-release/pytorch-gpu.1-4:m58"
  },
  "kernelspec": {
   "display_name": "Python 3",
   "language": "python",
   "name": "python3"
  },
  "language_info": {
   "codemirror_mode": {
    "name": "ipython",
    "version": 3
   },
   "file_extension": ".py",
   "mimetype": "text/x-python",
   "name": "python",
   "nbconvert_exporter": "python",
   "pygments_lexer": "ipython3",
   "version": "3.7.8"
  }
 },
 "nbformat": 4,
 "nbformat_minor": 4
}
