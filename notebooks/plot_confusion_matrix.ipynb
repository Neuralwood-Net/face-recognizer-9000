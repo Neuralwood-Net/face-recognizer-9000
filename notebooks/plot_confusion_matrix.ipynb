{
  "nbformat": 4,
  "nbformat_minor": 0,
  "metadata": {
    "accelerator": "GPU",
    "colab": {
      "name": "Copy of pretraining_celeba_cnn_v2.ipynb",
      "provenance": [],
      "collapsed_sections": [],
      "include_colab_link": true
    },
    "environment": {
      "name": "pytorch-gpu.1-4.m58",
      "type": "gcloud",
      "uri": "gcr.io/deeplearning-platform-release/pytorch-gpu.1-4:m58"
    },
    "kernelspec": {
      "display_name": "Python 3",
      "language": "python",
      "name": "python3"
    },
    "language_info": {
      "codemirror_mode": {
        "name": "ipython",
        "version": 3
      },
      "file_extension": ".py",
      "mimetype": "text/x-python",
      "name": "python",
      "nbconvert_exporter": "python",
      "pygments_lexer": "ipython3",
      "version": "3.7.8"
    }
  },
  "cells": [
    {
      "cell_type": "markdown",
      "metadata": {
        "id": "view-in-github",
        "colab_type": "text"
      },
      "source": [
        "<a href=\"https://colab.research.google.com/github/Neuralwood-Net/face-recognizer-9000/blob/main/notebooks/plot_confusion_matrix.ipynb\" target=\"_parent\"><img src=\"https://colab.research.google.com/assets/colab-badge.svg\" alt=\"Open In Colab\"/></a>"
      ]
    },
    {
      "cell_type": "markdown",
      "metadata": {
        "id": "rH6k1V5shoVg"
      },
      "source": [
        "# Transfer learn SqueezeNet to four-class face recognition\n"
      ]
    },
    {
      "cell_type": "markdown",
      "metadata": {
        "id": "jVI9ckKgrOFu"
      },
      "source": [
        "### Make sure the hardware is in order"
      ]
    },
    {
      "cell_type": "code",
      "metadata": {
        "id": "GC1985DDBL4h",
        "outputId": "8067f9f9-840b-433b-beb8-8a9173e84820",
        "colab": {
          "base_uri": "https://localhost:8080/"
        }
      },
      "source": [
        "gpu_info = !nvidia-smi\n",
        "gpu_info = '\\n'.join(gpu_info)\n",
        "if gpu_info.find('failed') >= 0:\n",
        "  print('Select the Runtime > \"Change runtime type\" menu to enable a GPU accelerator, ')\n",
        "  print('and then re-execute this cell.')\n",
        "else:\n",
        "  print(gpu_info)"
      ],
      "execution_count": null,
      "outputs": [
        {
          "output_type": "stream",
          "text": [
            "Fri Nov 13 18:03:29 2020       \n",
            "+-----------------------------------------------------------------------------+\n",
            "| NVIDIA-SMI 455.32.00    Driver Version: 418.67       CUDA Version: 10.1     |\n",
            "|-------------------------------+----------------------+----------------------+\n",
            "| GPU  Name        Persistence-M| Bus-Id        Disp.A | Volatile Uncorr. ECC |\n",
            "| Fan  Temp  Perf  Pwr:Usage/Cap|         Memory-Usage | GPU-Util  Compute M. |\n",
            "|                               |                      |               MIG M. |\n",
            "|===============================+======================+======================|\n",
            "|   0  Tesla V100-SXM2...  Off  | 00000000:00:04.0 Off |                    0 |\n",
            "| N/A   34C    P0    24W / 300W |      0MiB / 16130MiB |      0%      Default |\n",
            "|                               |                      |                 ERR! |\n",
            "+-------------------------------+----------------------+----------------------+\n",
            "                                                                               \n",
            "+-----------------------------------------------------------------------------+\n",
            "| Processes:                                                                  |\n",
            "|  GPU   GI   CI        PID   Type   Process name                  GPU Memory |\n",
            "|        ID   ID                                                   Usage      |\n",
            "|=============================================================================|\n",
            "|  No running processes found                                                 |\n",
            "+-----------------------------------------------------------------------------+\n"
          ],
          "name": "stdout"
        }
      ]
    },
    {
      "cell_type": "markdown",
      "metadata": {
        "id": "qqcCktR3hrNG"
      },
      "source": [
        "### Imports"
      ]
    },
    {
      "cell_type": "code",
      "metadata": {
        "id": "0rnSlQJGV9xh"
      },
      "source": [
        "import time\n",
        "import os\n",
        "import copy\n",
        "import sys\n",
        "\n",
        "import numpy as np\n",
        "import matplotlib.pyplot as plt\n",
        "\n",
        "from tqdm import tqdm\n",
        "import torch\n",
        "import torch.nn as nn\n",
        "import torch.nn.functional as F\n",
        "import torch.utils.data\n",
        "\n",
        "import torchvision\n",
        "from torchvision import datasets, models, transforms\n",
        "\n",
        "from google.cloud import storage\n",
        "\n",
        "# Placeholder to make it run until the real WoodNet is defined\n",
        "class WoodNet:\n",
        "    pass"
      ],
      "execution_count": 3,
      "outputs": []
    },
    {
      "cell_type": "code",
      "metadata": {
        "id": "I4gqZD7ulPLt",
        "outputId": "226a095d-2b97-4fe4-ded9-f6b5ae5dbd1a",
        "colab": {
          "base_uri": "https://localhost:8080/"
        }
      },
      "source": [
        "device = torch.device('cuda' if torch.cuda.is_available() else 'cpu')\n",
        "device"
      ],
      "execution_count": 4,
      "outputs": [
        {
          "output_type": "execute_result",
          "data": {
            "text/plain": [
              "device(type='cuda')"
            ]
          },
          "metadata": {
            "tags": []
          },
          "execution_count": 4
        }
      ]
    },
    {
      "cell_type": "markdown",
      "metadata": {
        "id": "h6gXbbcThtax"
      },
      "source": [
        "### Fetch and extract the data from the storage bucket"
      ]
    },
    {
      "cell_type": "code",
      "metadata": {
        "id": "zL7_2UEsx4IF"
      },
      "source": [
        "# Define paths separate from the heavy operations below\n",
        "BASE_PATH = \"/content\"\n",
        "\n",
        "BLOB_NAME = \"faces/balanced_sampled_224px_color_156240_images_70_15_15_split.zip\"\n",
        "zipfilename = os.path.join(BASE_PATH, BLOB_NAME)\n",
        "extract_to_dir = os.path.join(BASE_PATH, *BLOB_NAME.split(os.path.sep)[:-1])"
      ],
      "execution_count": 5,
      "outputs": []
    },
    {
      "cell_type": "code",
      "metadata": {
        "id": "T7t0dLiFcotJ"
      },
      "source": [
        "# Fetch the data\n",
        "from google.cloud import storage\n",
        "\n",
        "# Make the required directories\n",
        "os.makedirs(os.path.join(BASE_PATH, \"faces\"), exist_ok=True)\n",
        "os.makedirs(os.path.join(BASE_PATH, \"checkpoints\"), exist_ok=True)\n",
        "os.makedirs(os.path.join(BASE_PATH, \"logs\"), exist_ok=True)\n",
        "\n",
        "with open(zipfilename, \"wb\") as f:\n",
        "    storage.Client.create_anonymous_client().download_blob_to_file(f\"gs://tdt4173-datasets/{BLOB_NAME}\", f)"
      ],
      "execution_count": 6,
      "outputs": []
    },
    {
      "cell_type": "code",
      "metadata": {
        "id": "3d3lwkKMrOF_"
      },
      "source": [
        "# Extract the data\n",
        "import zipfile\n",
        "\n",
        "with zipfile.ZipFile(zipfilename, 'r') as zip_ref:\n",
        "    zip_ref.extractall(extract_to_dir)"
      ],
      "execution_count": 7,
      "outputs": []
    },
    {
      "cell_type": "markdown",
      "metadata": {
        "id": "HNORqJDwrOGC"
      },
      "source": [
        "### Load the data into wrapper classes and apply normalization"
      ]
    },
    {
      "cell_type": "code",
      "metadata": {
        "id": "xSmppOms1mel",
        "outputId": "95d11f3c-c57b-4245-9875-3aea9fa6a35a",
        "colab": {
          "base_uri": "https://localhost:8080/"
        }
      },
      "source": [
        "BATCH_SIZE = 16\n",
        "\n",
        "data_transforms = transforms.Compose([\n",
        "    transforms.ToTensor(),\n",
        "    transforms.Normalize([0.485, 0.456, 0.406], [0.229, 0.224, 0.225]),\n",
        "])\n",
        "\n",
        "data_dir = os.path.join(extract_to_dir, \"sampled_dataset_balanced_244\")\n",
        "\n",
        "image_datasets = {x: datasets.ImageFolder(os.path.join(data_dir, x),\n",
        "                                          data_transforms)\n",
        "                  for x in ['train', 'val', 'test']}\n",
        "\n",
        "dataloaders = {x: torch.utils.data.DataLoader(image_datasets[x], batch_size=BATCH_SIZE,\n",
        "                                             shuffle=True, num_workers=4)\n",
        "              for x in ['train', 'val', 'test']}\n",
        "dataset_sizes = {x: len(image_datasets[x]) for x in ['train', 'val', 'test']}\n",
        "class_names = image_datasets['train'].classes\n",
        "print(class_names)\n",
        "print(image_datasets['val'].classes)\n",
        "print(dataset_sizes)"
      ],
      "execution_count": 8,
      "outputs": [
        {
          "output_type": "stream",
          "text": [
            "['Kjartan', 'Lars', 'Morgan', 'Other']\n",
            "['Kjartan', 'Lars', 'Morgan', 'Other']\n",
            "{'train': 109368, 'val': 23437, 'test': 23436}\n"
          ],
          "name": "stdout"
        }
      ]
    },
    {
      "cell_type": "markdown",
      "metadata": {
        "id": "UrnDUfOjrOGF"
      },
      "source": [
        "### Create a helper function to aid in image plotting and show a random sample of the input data"
      ]
    },
    {
      "cell_type": "code",
      "metadata": {
        "id": "SfMHbGt5YbQa",
        "outputId": "ba033928-01c1-47ef-b2bc-d6f05356c2e6",
        "colab": {
          "base_uri": "https://localhost:8080/",
          "height": 165
        }
      },
      "source": [
        "def imshow(inp, title=None):\n",
        "    \"\"\"Imshow for Tensor.\"\"\"\n",
        "    inp = inp.numpy().transpose((1, 2, 0))\n",
        "    mean = np.array([0.485, 0.456, 0.406])\n",
        "    std = np.array([0.229, 0.224, 0.225])\n",
        "    inp = std * inp + mean\n",
        "    inp = np.clip(inp, 0, 1)\n",
        "    plt.imshow(inp)\n",
        "    if title is not None:\n",
        "        plt.title(title)\n",
        "    plt.pause(0.001)\n",
        "\n",
        "# Get a batch of training data\n",
        "inputs, classes = next(iter(dataloaders['val']))\n",
        "\n",
        "print(inputs.shape)\n",
        "\n",
        "# Make a grid from batch\n",
        "out = torchvision.utils.make_grid(inputs)\n",
        "\n",
        "imshow(out, title=[class_names[x] for x in classes])"
      ],
      "execution_count": null,
      "outputs": [
        {
          "output_type": "stream",
          "text": [
            "torch.Size([16, 3, 224, 224])\n"
          ],
          "name": "stdout"
        },
        {
          "output_type": "display_data",
          "data": {
            "image/png": "[encoded data removed]",
            "text/plain": [
              "<Figure size 432x288 with 1 Axes>"
            ]
          },
          "metadata": {
            "tags": [],
            "needs_background": "light"
          }
        }
      ]
    },
    {
      "cell_type": "markdown",
      "metadata": {
        "id": "CUVzf0lAul5y"
      },
      "source": [
        "### Create a function for training and validation\n",
        "The following function trains the supplied model with the loss criterion and optimizer supplied, for the specified number of epochs. During training it logs the loss and accuracy for both training and validation. Whenever a better model is found on the validation set, the function saves the model parameters to a file for use for inference later."
      ]
    },
    {
      "cell_type": "code",
      "metadata": {
        "id": "_3jtTxxvyxT4"
      },
      "source": [
        "def train_model(model, criterion, optimizer, num_epochs=25):\n",
        "    since = time.time()\n",
        "\n",
        "    modelname = f\"{type(model).__name__}-{since}\"\n",
        "    print(f\"Training model: `{type(model).__name__}`\")\n",
        "\n",
        "    best_model_wts = copy.deepcopy(model.state_dict())\n",
        "    best_acc = 0.0\n",
        "    num_img = {\n",
        "        \"train\": 0,\n",
        "        \"val\": 0,\n",
        "    }\n",
        "    \n",
        "    datapoints_per_epoch = 100\n",
        "\n",
        "    imgs_per_datapoint = {\n",
        "        \"train\": int(float(dataset_sizes[\"train\"] / datapoints_per_epoch)),\n",
        "        \"val\": int(float(dataset_sizes[\"val\"] / datapoints_per_epoch)),\n",
        "    }\n",
        "\n",
        "    for epoch in range(num_epochs):\n",
        "        print(f\"Epoch {epoch}/{num_epochs - 1}\")\n",
        "        print(\"-\" * 10)\n",
        "        \n",
        "        with open(os.path.join(BASE_PATH, f\"logs/{modelname}.csv\"), \"a\") as f:\n",
        "\n",
        "            # For each epoch we want to both train and evaluate in that order\n",
        "            for phase in [\"train\", \"val\"]:\n",
        "                if phase == \"train\":\n",
        "                    # Makes the network ready for training, i.e. the parameters can be tuned\n",
        "                    # and possible Dropouts are activated\n",
        "                    model.train()\n",
        "                else:\n",
        "                    # Makes the network ready for inference, i.e. it is not tunable and will\n",
        "                    # turn off regularization that might interfere with training\n",
        "                    model.eval()\n",
        "\n",
        "                running_loss = 0.0\n",
        "                running_corrects = 0\n",
        "\n",
        "                plot_loss = 0\n",
        "                plot_corrects = 0\n",
        "\n",
        "                # Iterate over training or validation data\n",
        "                for inputs, labels in tqdm(dataloaders[phase], desc=f\"Epoch: {epoch} ({phase})\", file=sys.stdout):\n",
        "                    inputs = inputs.to(device)\n",
        "                    labels = labels.to(device)\n",
        "\n",
        "                    # Reset the gradients before calculating new ones\n",
        "                    optimizer.zero_grad()\n",
        "\n",
        "                    \n",
        "                    # Ask PyTorch to generate computation graph only if in training mode\n",
        "                    with torch.set_grad_enabled(phase == 'train'):\n",
        "                        outputs = model(inputs)\n",
        "                        _, preds = torch.max(outputs, 1)\n",
        "                        loss = criterion(outputs, labels)\n",
        "                        \n",
        "                        # Only perform update steps if we're training\n",
        "                        if phase == 'train':\n",
        "                            loss.backward()\n",
        "                            optimizer.step()\n",
        "\n",
        "\n",
        "                    # Save values for statistics and logging\n",
        "                    running_loss += loss.item() * inputs.size(0)\n",
        "                    running_corrects += torch.sum(preds == labels.data)\n",
        "                    \n",
        "                    plot_loss += loss.item() * inputs.size(0)\n",
        "                    plot_corrects += torch.sum(preds == labels.data)\n",
        "                    \n",
        "                    num_img[phase] += BATCH_SIZE\n",
        "                    \n",
        "                    if num_img[phase] % imgs_per_datapoint[phase] == 0:\n",
        "                        f.write(f\"{time.time()},{epoch},{phase},\\\n",
        "                        {num_img[phase]},{plot_loss / float(imgs_per_datapoint[phase])},\\\n",
        "                        {plot_corrects / float(imgs_per_datapoint[phase])}\\n\")\n",
        "                        \n",
        "                        plot_loss = 0\n",
        "                        plot_corrects = 0\n",
        "\n",
        "                epoch_loss = running_loss / dataset_sizes[phase]\n",
        "                epoch_acc = running_corrects.double() / dataset_sizes[phase]\n",
        "\n",
        "                print(f\"{phase} Loss: {epoch_loss:.4f} Acc: {epoch_acc:.4f}\")\n",
        "\n",
        "                # deep copy the model\n",
        "                if phase == \"val\" and epoch_acc > best_acc:\n",
        "                    best_acc = epoch_acc\n",
        "                    best_model_wts = copy.deepcopy(model.state_dict())\n",
        "                    torch.save(\n",
        "                        {\n",
        "                            \"loss\": epoch_loss,\n",
        "                            \"acc\": epoch_acc,\n",
        "                            \"epoch\": epoch,\n",
        "                            \"parameters\": best_model_wts,\n",
        "                        },\n",
        "                        os.path.join(BASE_PATH, f\"checkpoints/{modelname}.data\"),\n",
        "                    )\n",
        "        print()\n",
        "\n",
        "    time_elapsed = time.time() - since\n",
        "    print(f\"Training complete in {time_elapsed // 60:.0f}m {time_elapsed % 60:.0f}s\")\n",
        "    print(f\"Best val Acc: {best_acc:4f}\")\n",
        "\n",
        "    # load best model weights\n",
        "    model.load_state_dict(best_model_wts)\n",
        "    return model"
      ],
      "execution_count": 26,
      "outputs": []
    },
    {
      "cell_type": "markdown",
      "metadata": {
        "id": "jWDUGOMqh2jh"
      },
      "source": [
        "### Prepare the home-made CNN – WoodNet\n",
        "Below is two networks. The first is made by the authors, and is made to be trained from scratch on the training data. The other is fully trained on ImageNet (1000 classes) and fine-tuned on the training data."
      ]
    },
    {
      "cell_type": "code",
      "metadata": {
        "id": "n2JPv3bfhm4_",
        "outputId": "09a4f9eb-e779-4706-f384-d54a763c2e80",
        "colab": {
          "base_uri": "https://localhost:8080/"
        }
      },
      "source": [
        "class WoodNet(nn.Module):\n",
        "    size_after_conv = 7 * 7 * 64\n",
        "    def __init__(self):\n",
        "        super(WoodNet, self).__init__()\n",
        "        self.features = nn.Sequential(   \n",
        "            nn.Conv2d(3, 32, kernel_size=3, padding=1),\n",
        "            nn.MaxPool2d(2),\n",
        "            nn.ReLU(),\n",
        "\n",
        "            nn.Conv2d(32, 64, kernel_size=3, padding=1),\n",
        "            nn.MaxPool2d(2),\n",
        "            nn.ReLU(),\n",
        "            \n",
        "            nn.Conv2d(64, 64, kernel_size=3, padding=1),\n",
        "            nn.MaxPool2d(2),\n",
        "            nn.ReLU(),\n",
        "            \n",
        "            nn.Conv2d(64, 64, kernel_size=3, padding=1),\n",
        "            nn.MaxPool2d(2),\n",
        "            nn.ReLU(),\n",
        "            \n",
        "            nn.Conv2d(64, 64, kernel_size=3, padding=1),\n",
        "            nn.MaxPool2d(2),\n",
        "            nn.ReLU(),\n",
        "        )\n",
        "        self.classify = nn.Sequential(\n",
        "            nn.Linear(self.size_after_conv, 2048),\n",
        "            nn.ReLU(),\n",
        "            nn.Linear(2048, 1024),\n",
        "            nn.ReLU(),\n",
        "            nn.Dropout(),\n",
        "            nn.Linear(1024, len(class_names)),\n",
        "        )\n",
        "\n",
        "    def forward(self, x):\n",
        "        x = self.features(x)\n",
        "        x = x.view(-1, self.size_after_conv)\n",
        "        x = self.classify(x)\n",
        "\n",
        "        return x\n",
        "\n",
        "woodnet = WoodNet().to(device)\n",
        "print(woodnet)"
      ],
      "execution_count": 41,
      "outputs": [
        {
          "output_type": "stream",
          "text": [
            "WoodNet(\n",
            "  (features): Sequential(\n",
            "    (0): Conv2d(3, 32, kernel_size=(3, 3), stride=(1, 1), padding=(1, 1))\n",
            "    (1): MaxPool2d(kernel_size=2, stride=2, padding=0, dilation=1, ceil_mode=False)\n",
            "    (2): ReLU()\n",
            "    (3): Conv2d(32, 64, kernel_size=(3, 3), stride=(1, 1), padding=(1, 1))\n",
            "    (4): MaxPool2d(kernel_size=2, stride=2, padding=0, dilation=1, ceil_mode=False)\n",
            "    (5): ReLU()\n",
            "    (6): Conv2d(64, 64, kernel_size=(3, 3), stride=(1, 1), padding=(1, 1))\n",
            "    (7): MaxPool2d(kernel_size=2, stride=2, padding=0, dilation=1, ceil_mode=False)\n",
            "    (8): ReLU()\n",
            "    (9): Conv2d(64, 64, kernel_size=(3, 3), stride=(1, 1), padding=(1, 1))\n",
            "    (10): MaxPool2d(kernel_size=2, stride=2, padding=0, dilation=1, ceil_mode=False)\n",
            "    (11): ReLU()\n",
            "    (12): Conv2d(64, 64, kernel_size=(3, 3), stride=(1, 1), padding=(1, 1))\n",
            "    (13): MaxPool2d(kernel_size=2, stride=2, padding=0, dilation=1, ceil_mode=False)\n",
            "    (14): ReLU()\n",
            "  )\n",
            "  (classify): Sequential(\n",
            "    (0): Linear(in_features=3136, out_features=2048, bias=True)\n",
            "    (1): ReLU()\n",
            "    (2): Linear(in_features=2048, out_features=1024, bias=True)\n",
            "    (3): ReLU()\n",
            "    (4): Dropout(p=0.5, inplace=False)\n",
            "    (5): Linear(in_features=1024, out_features=4, bias=True)\n",
            "  )\n",
            ")\n"
          ],
          "name": "stdout"
        }
      ]
    },
    {
      "cell_type": "markdown",
      "metadata": {
        "id": "ursGj99UCtt6"
      },
      "source": [
        "### Make a bad net called BadNet \n",
        "Below is a quickly made model which will be used mostly to display WoodNet and SqueezeNets superioritey. \n",
        "\n",
        "\n"
      ]
    },
    {
      "cell_type": "code",
      "metadata": {
        "id": "0yutnVu9Ho6v",
        "outputId": "2599243e-d14d-4c4c-8187-e9f563897b41",
        "colab": {
          "base_uri": "https://localhost:8080/"
        }
      },
      "source": [
        "class BadNet(nn.Module):\n",
        "    size_after_conv = 7 * 7 * 64\n",
        "    def __init__(self):\n",
        "        super(BadNet, self).__init__()\n",
        "        \n",
        "        self.classify = nn.Sequential(\n",
        "            nn.Linear(224*224*3, 128),\n",
        "            nn.ReLU(),\n",
        "            nn.Dropout(),\n",
        "            nn.Linear(128, len(class_names)),\n",
        "        )\n",
        "\n",
        "    def forward(self, x):\n",
        "        x = x.view(-1, 224*224*3)\n",
        "        x = self.classify(x)\n",
        "\n",
        "        return x\n",
        "\n",
        "badnet = BadNet().to(device)\n",
        "badnet"
      ],
      "execution_count": 24,
      "outputs": [
        {
          "output_type": "execute_result",
          "data": {
            "text/plain": [
              "BadNet(\n",
              "  (classify): Sequential(\n",
              "    (0): Linear(in_features=150528, out_features=128, bias=True)\n",
              "    (1): ReLU()\n",
              "    (2): Dropout(p=0.5, inplace=False)\n",
              "    (3): Linear(in_features=128, out_features=4, bias=True)\n",
              "  )\n",
              ")"
            ]
          },
          "metadata": {
            "tags": []
          },
          "execution_count": 24
        }
      ]
    },
    {
      "cell_type": "markdown",
      "metadata": {
        "id": "RN3ms2adrOGO"
      },
      "source": [
        "### Prepare the pretrained CNN – SqueezeNet\n",
        "Below is the code for loading in the pretrained SqueezeNet. After it is loaded, the last classification layer is replaced with a one with the correct amount of output classes."
      ]
    },
    {
      "cell_type": "code",
      "metadata": {
        "id": "epKrvd6IzTeC",
        "outputId": "a5a94bc4-abc3-4e32-d3c5-13ccc55dc5a6",
        "colab": {
          "base_uri": "https://localhost:8080/",
          "height": 577
        }
      },
      "source": [
        "# network = squeezenet\n",
        "network = badnet\n",
        "train_full_network = False\n",
        "\n",
        "if train_full_network or isinstance(network, (WoodNet, BadNet)):\n",
        "    print(\"Training full network\")\n",
        "    parameters = network.parameters()\n",
        "else:\n",
        "    print(\"Training only last layer of SqueezeNet\")\n",
        "    parameters = network.classifier[1].parameters()\n",
        "\n",
        "optimizer = torch.optim.SGD(parameters, lr=0.001, momentum=0.9)\n",
        "loss_function = nn.CrossEntropyLoss()\n",
        "\n",
        "train_model(network, loss_function, optimizer, num_epochs=25)"
      ],
      "execution_count": 27,
      "outputs": [
        {
          "output_type": "stream",
          "text": [
            "Training full network\n",
            "Training model: `BadNet`\n",
            "Epoch 0/24\n",
            "----------\n",
            "Epoch: 0 (train): 100%|██████████| 6836/6836 [04:48<00:00, 23.72it/s]\n",
            "train Loss: 1.1622 Acc: 0.5586\n",
            "Epoch: 0 (val): 100%|██████████| 1465/1465 [00:59<00:00, 24.47it/s]\n",
            "val Loss: 1.0314 Acc: 0.6679\n",
            "\n",
            "Epoch 1/24\n",
            "----------\n",
            "Epoch: 1 (train):  35%|███▍      | 2376/6836 [01:40<03:16, 22.73it/s]"
          ],
          "name": "stdout"
        },
        {
          "output_type": "error",
          "ename": "KeyboardInterrupt",
          "evalue": "ignored",
          "traceback": [
            "\u001b[0;31m---------------------------------------------------------------------------\u001b[0m",
            "\u001b[0;31mKeyboardInterrupt\u001b[0m                         Traceback (most recent call last)",
            "\u001b[0;32m<ipython-input-27-0a2f0cf10387>\u001b[0m in \u001b[0;36m<module>\u001b[0;34m()\u001b[0m\n\u001b[1;32m     13\u001b[0m \u001b[0mloss_function\u001b[0m \u001b[0;34m=\u001b[0m \u001b[0mnn\u001b[0m\u001b[0;34m.\u001b[0m\u001b[0mCrossEntropyLoss\u001b[0m\u001b[0;34m(\u001b[0m\u001b[0;34m)\u001b[0m\u001b[0;34m\u001b[0m\u001b[0;34m\u001b[0m\u001b[0m\n\u001b[1;32m     14\u001b[0m \u001b[0;34m\u001b[0m\u001b[0m\n\u001b[0;32m---> 15\u001b[0;31m \u001b[0mtrain_model\u001b[0m\u001b[0;34m(\u001b[0m\u001b[0mnetwork\u001b[0m\u001b[0;34m,\u001b[0m \u001b[0mloss_function\u001b[0m\u001b[0;34m,\u001b[0m \u001b[0moptimizer\u001b[0m\u001b[0;34m,\u001b[0m \u001b[0mnum_epochs\u001b[0m\u001b[0;34m=\u001b[0m\u001b[0;36m25\u001b[0m\u001b[0;34m)\u001b[0m\u001b[0;34m\u001b[0m\u001b[0;34m\u001b[0m\u001b[0m\n\u001b[0m",
            "\u001b[0;32m<ipython-input-26-12e763a8d540>\u001b[0m in \u001b[0;36mtrain_model\u001b[0;34m(model, criterion, optimizer, num_epochs)\u001b[0m\n\u001b[1;32m     44\u001b[0m                 \u001b[0;31m# Iterate over training or validation data\u001b[0m\u001b[0;34m\u001b[0m\u001b[0;34m\u001b[0m\u001b[0;34m\u001b[0m\u001b[0m\n\u001b[1;32m     45\u001b[0m                 \u001b[0;32mfor\u001b[0m \u001b[0minputs\u001b[0m\u001b[0;34m,\u001b[0m \u001b[0mlabels\u001b[0m \u001b[0;32min\u001b[0m \u001b[0mtqdm\u001b[0m\u001b[0;34m(\u001b[0m\u001b[0mdataloaders\u001b[0m\u001b[0;34m[\u001b[0m\u001b[0mphase\u001b[0m\u001b[0;34m]\u001b[0m\u001b[0;34m,\u001b[0m \u001b[0mdesc\u001b[0m\u001b[0;34m=\u001b[0m\u001b[0;34mf\"Epoch: {epoch} ({phase})\"\u001b[0m\u001b[0;34m,\u001b[0m \u001b[0mfile\u001b[0m\u001b[0;34m=\u001b[0m\u001b[0msys\u001b[0m\u001b[0;34m.\u001b[0m\u001b[0mstdout\u001b[0m\u001b[0;34m)\u001b[0m\u001b[0;34m:\u001b[0m\u001b[0;34m\u001b[0m\u001b[0;34m\u001b[0m\u001b[0m\n\u001b[0;32m---> 46\u001b[0;31m                     \u001b[0minputs\u001b[0m \u001b[0;34m=\u001b[0m \u001b[0minputs\u001b[0m\u001b[0;34m.\u001b[0m\u001b[0mto\u001b[0m\u001b[0;34m(\u001b[0m\u001b[0mdevice\u001b[0m\u001b[0;34m)\u001b[0m\u001b[0;34m\u001b[0m\u001b[0;34m\u001b[0m\u001b[0m\n\u001b[0m\u001b[1;32m     47\u001b[0m                     \u001b[0mlabels\u001b[0m \u001b[0;34m=\u001b[0m \u001b[0mlabels\u001b[0m\u001b[0;34m.\u001b[0m\u001b[0mto\u001b[0m\u001b[0;34m(\u001b[0m\u001b[0mdevice\u001b[0m\u001b[0;34m)\u001b[0m\u001b[0;34m\u001b[0m\u001b[0;34m\u001b[0m\u001b[0m\n\u001b[1;32m     48\u001b[0m \u001b[0;34m\u001b[0m\u001b[0m\n",
            "\u001b[0;31mKeyboardInterrupt\u001b[0m: "
          ]
        }
      ]
    },
    {
      "cell_type": "markdown",
      "metadata": {
        "id": "JO5F-eC4VSne"
      },
      "source": [
        "### Upload model weights and training logs to storage"
      ]
    },
    {
      "cell_type": "code",
      "metadata": {
        "id": "suEXstCJQzsv"
      },
      "source": [
        "# Upload checkpoints to storage\n",
        "client = storage.Client.from_service_account_json(\"/content/drive/My Drive/## Project/TDT4173 Deep Learning Project-91d3b469375c.json\")\n",
        "bucket = client.get_bucket(\"tdt4173-datasets\")\n",
        "\n",
        "blob = bucket.blob(\"checkpoints/SqueezeNet-1605290736.1277423.data\")\n",
        "filename = \"/content/checkpoints/SqueezeNet-1605290736.1277423.data\"\n",
        "blob.upload_from_filename(filename)\n",
        "\n",
        "blob = bucket.blob(\"checkpoints/WoodNet-1605294933.5362356.data\")\n",
        "filename = \"/content/checkpoints/WoodNet-1605294933.5362356.data\"\n",
        "blob.upload_from_filename(filename)"
      ],
      "execution_count": null,
      "outputs": []
    },
    {
      "cell_type": "code",
      "metadata": {
        "id": "3pexLiMsU-A2"
      },
      "source": [
        "# Upload logs to storage\n",
        "blob = bucket.blob(\"logs/SqueezeNet-1605290215.097698.csv\")\n",
        "filename = \"/content/logs/SqueezeNet-1605290215.097698.csv\"\n",
        "blob.upload_from_filename(filename)\n",
        "\n",
        "blob = bucket.blob(\"logs/SqueezeNet-1605290736.1277423.csv\")\n",
        "filename = \"/content/logs/SqueezeNet-1605290736.1277423.csv\"\n",
        "blob.upload_from_filename(filename)\n",
        "\n",
        "blob = bucket.blob(\"logs/WoodNet-1605294933.5362356.csv\")\n",
        "filename = \"/content/logs/WoodNet-1605294933.5362356.csv\"\n",
        "blob.upload_from_filename(filename)"
      ],
      "execution_count": null,
      "outputs": []
    },
    {
      "cell_type": "markdown",
      "metadata": {
        "id": "tz-mn3TVrOGV"
      },
      "source": [
        "### Visualize the model performance for some images"
      ]
    },
    {
      "cell_type": "code",
      "metadata": {
        "id": "vOIvGQnB0u-b"
      },
      "source": [
        "with open(\"/content/squeeze.data\", \"wb\") as f:\n",
        "    storage.Client.create_anonymous_client().download_blob_to_file(\"gs://tdt4173-datasets/checkpoints/SqueezeNet-1605290736.1277423.data\", f)"
      ],
      "execution_count": 12,
      "outputs": []
    },
    {
      "cell_type": "code",
      "metadata": {
        "id": "gTQWvZYd_ofG"
      },
      "source": [
        "with open(\"/content/woodnet.data\", \"wb\") as f:\n",
        "    storage.Client.create_anonymous_client().download_blob_to_file(\"gs://tdt4173-datasets/checkpoints/WoodNet-1605294933.5362356.data\", f)"
      ],
      "execution_count": 40,
      "outputs": []
    },
    {
      "cell_type": "code",
      "metadata": {
        "id": "1k-8s8Et_6uZ"
      },
      "source": [
        "squeezenet = models.squeezenet1_1()\n",
        "num_ftr = squeezenet.classifier[1].in_channels\n",
        "squeezenet.classifier[1] = nn.Conv2d(num_ftr, 4, 1, 1)\n",
        "\n",
        "data = torch.load(\"/content/squeeze.data\")\n",
        "\n",
        "squeezenet.load_state_dict(data[\"parameters\"])\n",
        "squeezenet = squeezenet.to(device)\n",
        "squeezenet.eval()"
      ],
      "execution_count": null,
      "outputs": []
    },
    {
      "cell_type": "code",
      "metadata": {
        "id": "A_BsY4shwrPc",
        "outputId": "ed7d1335-8dee-4c79-a9c6-90385195d925",
        "colab": {
          "base_uri": "https://localhost:8080/"
        }
      },
      "source": [
        "\n",
        "\n",
        "data = torch.load(\"/content/woodnet.data\")\n",
        "\n",
        "woodnet.load_state_dict(data[\"parameters\"])\n",
        "woodnet = woodnet.to(device)\n",
        "woodnet.eval()"
      ],
      "execution_count": 42,
      "outputs": [
        {
          "output_type": "execute_result",
          "data": {
            "text/plain": [
              "WoodNet(\n",
              "  (features): Sequential(\n",
              "    (0): Conv2d(3, 32, kernel_size=(3, 3), stride=(1, 1), padding=(1, 1))\n",
              "    (1): MaxPool2d(kernel_size=2, stride=2, padding=0, dilation=1, ceil_mode=False)\n",
              "    (2): ReLU()\n",
              "    (3): Conv2d(32, 64, kernel_size=(3, 3), stride=(1, 1), padding=(1, 1))\n",
              "    (4): MaxPool2d(kernel_size=2, stride=2, padding=0, dilation=1, ceil_mode=False)\n",
              "    (5): ReLU()\n",
              "    (6): Conv2d(64, 64, kernel_size=(3, 3), stride=(1, 1), padding=(1, 1))\n",
              "    (7): MaxPool2d(kernel_size=2, stride=2, padding=0, dilation=1, ceil_mode=False)\n",
              "    (8): ReLU()\n",
              "    (9): Conv2d(64, 64, kernel_size=(3, 3), stride=(1, 1), padding=(1, 1))\n",
              "    (10): MaxPool2d(kernel_size=2, stride=2, padding=0, dilation=1, ceil_mode=False)\n",
              "    (11): ReLU()\n",
              "    (12): Conv2d(64, 64, kernel_size=(3, 3), stride=(1, 1), padding=(1, 1))\n",
              "    (13): MaxPool2d(kernel_size=2, stride=2, padding=0, dilation=1, ceil_mode=False)\n",
              "    (14): ReLU()\n",
              "  )\n",
              "  (classify): Sequential(\n",
              "    (0): Linear(in_features=3136, out_features=2048, bias=True)\n",
              "    (1): ReLU()\n",
              "    (2): Linear(in_features=2048, out_features=1024, bias=True)\n",
              "    (3): ReLU()\n",
              "    (4): Dropout(p=0.5, inplace=False)\n",
              "    (5): Linear(in_features=1024, out_features=4, bias=True)\n",
              "  )\n",
              ")"
            ]
          },
          "metadata": {
            "tags": []
          },
          "execution_count": 42
        }
      ]
    },
    {
      "cell_type": "markdown",
      "metadata": {
        "id": "cbHT8qJtDh8_"
      },
      "source": [
        "Below is a function which returns all true lables and a models predicted values"
      ]
    },
    {
      "cell_type": "code",
      "metadata": {
        "id": "85ABu6yANpSc"
      },
      "source": [
        "@torch.no_grad()\n",
        "def get_all_preds_labels(model, loader):\n",
        "    all_preds = torch.tensor([]).to(device)\n",
        "    all_labels = torch.tensor([]).to(device)\n",
        "\n",
        "    for inputs, labels in tqdm(loader):\n",
        "        labels = labels.to(device)\n",
        "        inputs = inputs.to(device)\n",
        "\n",
        "        preds = model(inputs)\n",
        "        all_preds = torch.cat(\n",
        "            (all_preds, preds)\n",
        "            ,dim=0\n",
        "        )\n",
        "        all_labels = torch.cat(\n",
        "            (all_labels, labels)\n",
        "            ,dim=0\n",
        "        )\n",
        "    return all_preds, all_labels\n"
      ],
      "execution_count": 14,
      "outputs": []
    },
    {
      "cell_type": "code",
      "metadata": {
        "id": "sBXs8fF-1Cs7",
        "outputId": "cb742ef7-e6a3-4783-b2dd-dc2f6aaa2f5d",
        "colab": {
          "base_uri": "https://localhost:8080/"
        }
      },
      "source": [
        "test_preds, test_labels = get_all_preds_labels(squeezenet,dataloaders[\"test\"])"
      ],
      "execution_count": 15,
      "outputs": [
        {
          "output_type": "stream",
          "text": [
            "100%|██████████| 1465/1465 [00:55<00:00, 26.24it/s]\n"
          ],
          "name": "stderr"
        }
      ]
    },
    {
      "cell_type": "code",
      "metadata": {
        "id": "UZhwawXE1s2b",
        "outputId": "7280a7ce-d95d-4147-c079-934bb61fbdbb",
        "colab": {
          "base_uri": "https://localhost:8080/"
        }
      },
      "source": [
        " #[actual,predicted]\n",
        " stacked = torch.stack(\n",
        "    (\n",
        "        test_labels\n",
        "        ,test_preds.argmax(dim=1)\n",
        "    )\n",
        "    ,dim=1\n",
        ")\n",
        "stacked.shape"
      ],
      "execution_count": null,
      "outputs": [
        {
          "output_type": "execute_result",
          "data": {
            "text/plain": [
              "torch.Size([23436, 2])"
            ]
          },
          "metadata": {
            "tags": []
          },
          "execution_count": 66
        }
      ]
    },
    {
      "cell_type": "markdown",
      "metadata": {
        "id": "1YgRCi3sDvQm"
      },
      "source": [
        "This is a convolutional matrix in tensor form, not used for the visualisation, but we provide it as it can be useful in some cases"
      ]
    },
    {
      "cell_type": "code",
      "metadata": {
        "id": "4XToO6Pq1KJ0"
      },
      "source": [
        "def cm_tensor(stacked):\n",
        "  cm_tensor = torch.zeros(4,4, dtype=torch.int64)\n",
        "  for pair in stacked:\n",
        "    al,pl = pair.tolist()\n",
        "    cm_tensor[int(al),int(pl)] = cm_tensor[int(al),int(pl)] + 1\n",
        "  "
      ],
      "execution_count": 16,
      "outputs": []
    },
    {
      "cell_type": "code",
      "metadata": {
        "id": "KdpyIDKh3HCW"
      },
      "source": [
        "import matplotlib.pyplot as plt\n",
        "\n",
        "from sklearn.metrics import confusion_matrix\n",
        "from sklearn.metrics import plot_confusion_matrix\n"
      ],
      "execution_count": 18,
      "outputs": []
    },
    {
      "cell_type": "markdown",
      "metadata": {
        "id": "wEGfOdRhD3r5"
      },
      "source": [
        "The plotting is done on the cpu. As such we return our calculated test predictions and acutal labels to be calculated on the cpu. "
      ]
    },
    {
      "cell_type": "code",
      "metadata": {
        "id": "dS7LsSON5E8w"
      },
      "source": [
        "\n",
        "test_labels = test_labels.cpu()\n",
        "test_preds = test_preds.cpu()\n",
        "\n",
        "cm = confusion_matrix(test_labels, test_preds.argmax(dim=1))\n"
      ],
      "execution_count": 20,
      "outputs": []
    },
    {
      "cell_type": "markdown",
      "metadata": {
        "id": "xS7vIhH0EDxA"
      },
      "source": [
        "The below plotter is based on the code from DeepLizard: https://deeplizard.com/learn/video/0LhiS6yu2qQ?fbclid=IwAR1Zb3LSBe4nhuxa6OhwpW4-rXwg7LhMIeG0C0iCWMrYLH2Bkhfh-z5IaL0 "
      ]
    },
    {
      "cell_type": "code",
      "metadata": {
        "id": "MrZWza7pBfYY"
      },
      "source": [
        "import itertools\n",
        "import numpy as np\n",
        "import matplotlib.pyplot as plt\n",
        "\n",
        "def plot_confusion_matrix(cm, classes, filename, normalize=False, title='Confusion matrix', cmap=plt.cm.Blues):\n",
        "    if normalize:\n",
        "        cm = cm.astype('float') / cm.sum(axis=1)[:, np.newaxis]\n",
        "        #print(\"Normalized confusion matrix\")\n",
        "    else:\n",
        "        #print('Confusion matrix, without normalization')\n",
        "        pass\n",
        "\n",
        "\n",
        "    plt.imshow(cm, interpolation='nearest', cmap=cmap)\n",
        "    plt.title(title)\n",
        "    plt.colorbar()\n",
        "    tick_marks = np.arange(len(classes))\n",
        "    plt.xticks(tick_marks, classes, rotation=45)\n",
        "    plt.yticks(tick_marks, classes)\n",
        "\n",
        "    fmt = '.2f' if normalize else 'd'\n",
        "    thresh = cm.max() / 2.\n",
        "    for i, j in itertools.product(range(cm.shape[0]), range(cm.shape[1])):\n",
        "        plt.text(j, i, format(cm[i, j], fmt), horizontalalignment=\"center\", color=\"white\" if cm[i, j] > thresh else \"black\")\n",
        "\n",
        "    plt.tight_layout()\n",
        "    plt.ylabel('True label')\n",
        "    plt.xlabel('Predicted label')\n",
        "    print(filename)\n",
        "    plt.savefig(filename)\n",
        "# plot_confusion_matrix(cm,class_names)"
      ],
      "execution_count": 34,
      "outputs": []
    },
    {
      "cell_type": "code",
      "metadata": {
        "id": "Q_zuCWeJDAm0",
        "outputId": "2f804e7f-1211-40a8-905f-9681326979a3",
        "colab": {
          "base_uri": "https://localhost:8080/",
          "height": 1000
        }
      },
      "source": [
        "#test_preds, test_labels = get_all_preds_labels(model,dataloader_and_type)\n",
        "\n",
        "\n",
        "def cnn_constructor(preds,labels,filename,title): \n",
        "    stacked = torch.stack(\n",
        "      (\n",
        "          labels\n",
        "          ,preds.argmax(dim=1)\n",
        "      )\n",
        "      ,dim=1\n",
        "    )\n",
        "    labels = labels.cpu()\n",
        "    preds = preds.cpu()\n",
        "    cm = confusion_matrix(labels, preds.argmax(dim=1))\n",
        "    plot_confusion_matrix(cm,class_names,filename,title=title)\n",
        "#SqueezeNet\n",
        "#test_preds_s,test_labels_s=get_all_preds_labels(squeezenet,dataloaders[\"test\"])\n",
        "#cnn_constructor(test_preds_s,test_labels_s,\"/content/squeezenet_cm.png\",title=\"SqueezeNet Confusion Matrix\");\n",
        "#WoodNet\n",
        "test_preds_w,test_labels_w = get_all_preds_labels(woodnet,dataloaders[\"test\"])\n",
        "cnn_constructor(test_preds_w,test_labels_w,\"/content/woodnet_cm.png\",title=\"WoodNet Confusion Matrix\");\n",
        "\n",
        "# test_preds,test_labels = get_all_preds_labels(badnet,dataloaders[\"test\"])\n",
        "#cnn_constructor(test_preds,test_labels,\"/content/badnet_cm.png\",title=\"BadNet Confusion Matrix\");\n"
      ],
      "execution_count": 43,
      "outputs": [
        {
          "output_type": "stream",
          "text": [
            "\n",
            "  0%|          | 0/1465 [00:00<?, ?it/s]\u001b[A\n",
            "  0%|          | 1/1465 [00:00<06:52,  3.55it/s]\u001b[A\n",
            "  0%|          | 2/1465 [00:00<06:08,  3.97it/s]\u001b[A\n",
            "  0%|          | 6/1465 [00:00<04:34,  5.31it/s]\u001b[A\n",
            "  1%|          | 10/1465 [00:00<03:29,  6.95it/s]\u001b[A\n",
            "  1%|          | 14/1465 [00:00<02:43,  8.88it/s]\u001b[A\n",
            "  1%|          | 18/1465 [00:01<02:11, 10.97it/s]\u001b[A\n",
            "  2%|▏         | 22/1465 [00:01<01:50, 13.06it/s]\u001b[A\n",
            "  2%|▏         | 26/1465 [00:01<01:36, 14.91it/s]\u001b[A\n",
            "  2%|▏         | 30/1465 [00:01<01:19, 18.02it/s]\u001b[A\n",
            "  2%|▏         | 34/1465 [00:01<01:12, 19.82it/s]\u001b[A\n",
            "  3%|▎         | 38/1465 [00:01<01:05, 21.91it/s]\u001b[A\n",
            "  3%|▎         | 42/1465 [00:02<01:01, 22.97it/s]\u001b[A\n",
            "  3%|▎         | 46/1465 [00:02<01:01, 23.12it/s]\u001b[A\n",
            "  3%|▎         | 50/1465 [00:02<01:00, 23.51it/s]\u001b[A\n",
            "  4%|▎         | 54/1465 [00:02<00:57, 24.41it/s]\u001b[A\n",
            "  4%|▍         | 58/1465 [00:02<00:55, 25.41it/s]\u001b[A\n",
            "  4%|▍         | 61/1465 [00:02<00:52, 26.59it/s]\u001b[A\n",
            "  4%|▍         | 64/1465 [00:02<00:52, 26.46it/s]\u001b[A\n",
            "  5%|▍         | 67/1465 [00:02<00:51, 26.93it/s]\u001b[A\n",
            "  5%|▍         | 70/1465 [00:03<00:55, 25.04it/s]\u001b[A\n",
            "  5%|▍         | 73/1465 [00:03<00:53, 25.82it/s]\u001b[A\n",
            "  5%|▌         | 77/1465 [00:03<00:58, 23.74it/s]\u001b[A\n",
            "  6%|▌         | 81/1465 [00:03<00:59, 23.15it/s]\u001b[A\n",
            "  6%|▌         | 85/1465 [00:03<00:55, 25.03it/s]\u001b[A\n",
            "  6%|▌         | 89/1465 [00:03<00:54, 25.02it/s]\u001b[A\n",
            "  6%|▋         | 93/1465 [00:04<00:55, 24.86it/s]\u001b[A\n",
            "  7%|▋         | 97/1465 [00:04<00:56, 24.22it/s]\u001b[A\n",
            "  7%|▋         | 101/1465 [00:04<01:00, 22.64it/s]\u001b[A\n",
            "  7%|▋         | 105/1465 [00:04<00:57, 23.55it/s]\u001b[A\n",
            "  7%|▋         | 109/1465 [00:04<00:56, 23.80it/s]\u001b[A\n",
            "  8%|▊         | 113/1465 [00:04<00:52, 25.64it/s]\u001b[A\n",
            "  8%|▊         | 117/1465 [00:05<00:53, 25.25it/s]\u001b[A\n",
            "  8%|▊         | 121/1465 [00:05<00:48, 27.47it/s]\u001b[A\n",
            "  9%|▊         | 125/1465 [00:05<00:44, 29.88it/s]\u001b[A\n",
            "  9%|▉         | 129/1465 [00:05<00:46, 28.81it/s]\u001b[A\n",
            "  9%|▉         | 132/1465 [00:05<00:50, 26.20it/s]\u001b[A\n",
            "  9%|▉         | 135/1465 [00:05<00:53, 24.63it/s]\u001b[A\n",
            "  9%|▉         | 138/1465 [00:05<00:57, 23.07it/s]\u001b[A\n",
            " 10%|▉         | 142/1465 [00:05<00:53, 24.50it/s]\u001b[A\n",
            " 10%|▉         | 146/1465 [00:06<00:52, 25.08it/s]\u001b[A\n",
            " 10%|█         | 149/1465 [00:06<00:50, 26.29it/s]\u001b[A\n",
            " 10%|█         | 152/1465 [00:06<00:48, 26.97it/s]\u001b[A\n",
            " 11%|█         | 155/1465 [00:06<00:51, 25.37it/s]\u001b[A\n",
            " 11%|█         | 158/1465 [00:06<00:56, 23.00it/s]\u001b[A\n",
            " 11%|█         | 162/1465 [00:06<00:55, 23.56it/s]\u001b[A\n",
            " 11%|█▏        | 166/1465 [00:06<00:55, 23.54it/s]\u001b[A\n",
            " 12%|█▏        | 170/1465 [00:07<00:55, 23.42it/s]\u001b[A\n",
            " 12%|█▏        | 174/1465 [00:07<00:54, 23.58it/s]\u001b[A\n",
            " 12%|█▏        | 178/1465 [00:07<00:54, 23.50it/s]\u001b[A\n",
            " 12%|█▏        | 182/1465 [00:07<00:56, 22.83it/s]\u001b[A\n",
            " 13%|█▎        | 186/1465 [00:07<00:53, 23.93it/s]\u001b[A\n",
            " 13%|█▎        | 190/1465 [00:07<00:53, 23.78it/s]\u001b[A\n",
            " 13%|█▎        | 194/1465 [00:08<00:51, 24.69it/s]\u001b[A\n",
            " 14%|█▎        | 198/1465 [00:08<00:48, 25.97it/s]\u001b[A\n",
            " 14%|█▍        | 202/1465 [00:08<00:48, 26.31it/s]\u001b[A\n",
            " 14%|█▍        | 206/1465 [00:08<00:45, 27.78it/s]\u001b[A\n",
            " 14%|█▍        | 210/1465 [00:08<00:44, 28.35it/s]\u001b[A\n",
            " 15%|█▍        | 213/1465 [00:08<00:44, 27.86it/s]\u001b[A\n",
            " 15%|█▍        | 216/1465 [00:08<00:52, 23.99it/s]\u001b[A\n",
            " 15%|█▍        | 219/1465 [00:09<00:48, 25.50it/s]\u001b[A\n",
            " 15%|█▌        | 222/1465 [00:09<00:49, 24.90it/s]\u001b[A\n",
            " 15%|█▌        | 225/1465 [00:09<00:51, 24.26it/s]\u001b[A\n",
            " 16%|█▌        | 228/1465 [00:09<00:54, 22.49it/s]\u001b[A\n",
            " 16%|█▌        | 232/1465 [00:09<00:56, 21.99it/s]\u001b[A\n",
            " 16%|█▌        | 236/1465 [00:09<00:48, 25.32it/s]\u001b[A\n",
            " 16%|█▋        | 240/1465 [00:09<00:49, 24.62it/s]\u001b[A\n",
            " 17%|█▋        | 244/1465 [00:10<00:47, 25.84it/s]\u001b[A\n",
            " 17%|█▋        | 248/1465 [00:10<00:44, 27.11it/s]\u001b[A\n",
            " 17%|█▋        | 252/1465 [00:10<00:44, 27.18it/s]\u001b[A\n",
            " 17%|█▋        | 255/1465 [00:10<00:43, 27.90it/s]\u001b[A\n",
            " 18%|█▊        | 258/1465 [00:10<00:43, 27.82it/s]\u001b[A\n",
            " 18%|█▊        | 261/1465 [00:10<00:49, 24.28it/s]\u001b[A\n",
            " 18%|█▊        | 264/1465 [00:10<00:52, 22.87it/s]\u001b[A\n",
            " 18%|█▊        | 267/1465 [00:11<00:52, 23.00it/s]\u001b[A\n",
            " 18%|█▊        | 271/1465 [00:11<00:52, 22.80it/s]\u001b[A\n",
            " 19%|█▉        | 275/1465 [00:11<00:51, 23.29it/s]\u001b[A\n",
            " 19%|█▉        | 279/1465 [00:11<00:47, 24.86it/s]\u001b[A\n",
            " 19%|█▉        | 283/1465 [00:11<00:48, 24.44it/s]\u001b[A\n",
            " 20%|█▉        | 287/1465 [00:11<00:51, 22.91it/s]\u001b[A\n",
            " 20%|█▉        | 291/1465 [00:11<00:47, 24.73it/s]\u001b[A\n",
            " 20%|██        | 295/1465 [00:12<00:45, 25.96it/s]\u001b[A\n",
            " 20%|██        | 299/1465 [00:12<00:41, 27.88it/s]\u001b[A\n",
            " 21%|██        | 302/1465 [00:12<00:43, 26.84it/s]\u001b[A\n",
            " 21%|██        | 305/1465 [00:12<00:43, 26.75it/s]\u001b[A\n",
            " 21%|██        | 308/1465 [00:12<00:46, 24.95it/s]\u001b[A\n",
            " 21%|██        | 311/1465 [00:12<00:49, 23.20it/s]\u001b[A\n",
            " 22%|██▏       | 315/1465 [00:12<00:53, 21.54it/s]\u001b[A\n",
            " 22%|██▏       | 320/1465 [00:13<00:48, 23.53it/s]\u001b[A\n",
            " 22%|██▏       | 324/1465 [00:13<00:46, 24.74it/s]\u001b[A\n",
            " 22%|██▏       | 328/1465 [00:13<00:42, 26.54it/s]\u001b[A\n",
            " 23%|██▎       | 331/1465 [00:13<00:48, 23.51it/s]\u001b[A\n",
            " 23%|██▎       | 334/1465 [00:13<00:45, 24.80it/s]\u001b[A\n",
            " 23%|██▎       | 337/1465 [00:13<00:46, 24.09it/s]\u001b[A\n",
            " 23%|██▎       | 340/1465 [00:13<00:50, 22.30it/s]\u001b[A\n",
            " 23%|██▎       | 344/1465 [00:14<00:44, 25.40it/s]\u001b[A\n",
            " 24%|██▎       | 347/1465 [00:14<00:46, 23.90it/s]\u001b[A\n",
            " 24%|██▍       | 351/1465 [00:14<00:44, 24.86it/s]\u001b[A\n",
            " 24%|██▍       | 355/1465 [00:14<00:45, 24.20it/s]\u001b[A\n",
            " 25%|██▍       | 359/1465 [00:14<00:42, 25.81it/s]\u001b[A\n",
            " 25%|██▍       | 363/1465 [00:14<00:43, 25.24it/s]\u001b[A\n",
            " 25%|██▌       | 367/1465 [00:14<00:41, 26.71it/s]\u001b[A\n",
            " 25%|██▌       | 370/1465 [00:15<00:40, 26.79it/s]\u001b[A\n",
            " 26%|██▌       | 374/1465 [00:15<00:41, 26.10it/s]\u001b[A\n",
            " 26%|██▌       | 377/1465 [00:15<00:40, 27.05it/s]\u001b[A\n",
            " 26%|██▌       | 380/1465 [00:15<00:40, 26.79it/s]\u001b[A\n",
            " 26%|██▌       | 383/1465 [00:15<00:45, 23.75it/s]\u001b[A\n",
            " 26%|██▋       | 386/1465 [00:15<00:49, 21.64it/s]\u001b[A\n",
            " 27%|██▋       | 390/1465 [00:15<00:47, 22.49it/s]\u001b[A\n",
            " 27%|██▋       | 394/1465 [00:16<00:46, 23.12it/s]\u001b[A\n",
            " 27%|██▋       | 398/1465 [00:16<00:45, 23.31it/s]\u001b[A\n",
            " 27%|██▋       | 402/1465 [00:16<00:40, 26.33it/s]\u001b[A\n",
            " 28%|██▊       | 405/1465 [00:16<00:40, 25.95it/s]\u001b[A\n",
            " 28%|██▊       | 408/1465 [00:16<00:41, 25.58it/s]\u001b[A\n",
            " 28%|██▊       | 411/1465 [00:16<00:41, 25.70it/s]\u001b[A\n",
            " 28%|██▊       | 414/1465 [00:16<00:41, 25.10it/s]\u001b[A\n",
            " 28%|██▊       | 417/1465 [00:16<00:40, 26.12it/s]\u001b[A\n",
            " 29%|██▊       | 420/1465 [00:17<00:44, 23.69it/s]\u001b[A\n",
            " 29%|██▉       | 424/1465 [00:17<00:43, 23.98it/s]\u001b[A\n",
            " 29%|██▉       | 428/1465 [00:17<00:40, 25.40it/s]\u001b[A\n",
            " 29%|██▉       | 432/1465 [00:17<00:39, 26.10it/s]\u001b[A\n",
            " 30%|██▉       | 435/1465 [00:17<00:39, 25.83it/s]\u001b[A\n",
            " 30%|██▉       | 438/1465 [00:17<00:43, 23.44it/s]\u001b[A\n",
            " 30%|███       | 442/1465 [00:17<00:43, 23.62it/s]\u001b[A\n",
            " 30%|███       | 446/1465 [00:18<00:41, 24.69it/s]\u001b[A\n",
            " 31%|███       | 450/1465 [00:18<00:38, 26.38it/s]\u001b[A\n",
            " 31%|███       | 454/1465 [00:18<00:40, 25.18it/s]\u001b[A\n",
            " 31%|███▏      | 458/1465 [00:18<00:41, 24.26it/s]\u001b[A\n",
            " 32%|███▏      | 462/1465 [00:18<00:43, 22.96it/s]\u001b[A\n",
            " 32%|███▏      | 466/1465 [00:18<00:41, 24.10it/s]\u001b[A\n",
            " 32%|███▏      | 470/1465 [00:19<00:39, 25.22it/s]\u001b[A\n",
            " 32%|███▏      | 474/1465 [00:19<00:40, 24.32it/s]\u001b[A\n",
            " 33%|███▎      | 478/1465 [00:19<00:39, 24.99it/s]\u001b[A\n",
            " 33%|███▎      | 482/1465 [00:19<00:35, 27.42it/s]\u001b[A\n",
            " 33%|███▎      | 485/1465 [00:19<00:38, 25.28it/s]\u001b[A\n",
            " 33%|███▎      | 488/1465 [00:19<00:43, 22.27it/s]\u001b[A\n",
            " 34%|███▎      | 492/1465 [00:19<00:38, 25.04it/s]\u001b[A\n",
            " 34%|███▍      | 495/1465 [00:20<00:41, 23.28it/s]\u001b[A\n",
            " 34%|███▍      | 499/1465 [00:20<00:41, 23.21it/s]\u001b[A\n",
            " 34%|███▍      | 503/1465 [00:20<00:42, 22.54it/s]\u001b[A\n",
            " 35%|███▍      | 507/1465 [00:20<00:38, 24.69it/s]\u001b[A\n",
            " 35%|███▍      | 511/1465 [00:20<00:39, 24.35it/s]\u001b[A\n",
            " 35%|███▌      | 515/1465 [00:20<00:39, 24.12it/s]\u001b[A\n",
            " 35%|███▌      | 519/1465 [00:21<00:39, 23.91it/s]\u001b[A\n",
            " 36%|███▌      | 523/1465 [00:21<00:37, 25.20it/s]\u001b[A\n",
            " 36%|███▌      | 527/1465 [00:21<00:35, 26.32it/s]\u001b[A\n",
            " 36%|███▌      | 531/1465 [00:21<00:35, 26.54it/s]\u001b[A\n",
            " 37%|███▋      | 535/1465 [00:21<00:32, 28.53it/s]\u001b[A\n",
            " 37%|███▋      | 539/1465 [00:21<00:34, 26.75it/s]\u001b[A\n",
            " 37%|███▋      | 543/1465 [00:21<00:34, 26.41it/s]\u001b[A\n",
            " 37%|███▋      | 546/1465 [00:22<00:34, 26.38it/s]\u001b[A\n",
            " 37%|███▋      | 549/1465 [00:22<00:35, 25.88it/s]\u001b[A\n",
            " 38%|███▊      | 552/1465 [00:22<00:38, 23.83it/s]\u001b[A\n",
            " 38%|███▊      | 556/1465 [00:22<00:36, 24.95it/s]\u001b[A\n",
            " 38%|███▊      | 559/1465 [00:22<00:34, 25.92it/s]\u001b[A\n",
            " 38%|███▊      | 562/1465 [00:22<00:38, 23.67it/s]\u001b[A\n",
            " 39%|███▊      | 565/1465 [00:22<00:39, 22.76it/s]\u001b[A\n",
            " 39%|███▉      | 569/1465 [00:23<00:40, 21.97it/s]\u001b[A\n",
            " 39%|███▉      | 573/1465 [00:23<00:37, 23.93it/s]\u001b[A\n",
            " 39%|███▉      | 577/1465 [00:23<00:35, 25.26it/s]\u001b[A\n",
            " 40%|███▉      | 581/1465 [00:23<00:34, 25.88it/s]\u001b[A\n",
            " 40%|███▉      | 585/1465 [00:23<00:35, 24.87it/s]\u001b[A\n",
            " 40%|████      | 589/1465 [00:23<00:35, 24.44it/s]\u001b[A\n",
            " 40%|████      | 593/1465 [00:24<00:36, 23.92it/s]\u001b[A\n",
            " 41%|████      | 597/1465 [00:24<00:36, 23.52it/s]\u001b[A\n",
            " 41%|████      | 601/1465 [00:24<00:34, 24.72it/s]\u001b[A\n",
            " 41%|████▏     | 605/1465 [00:24<00:32, 26.10it/s]\u001b[A\n",
            " 42%|████▏     | 609/1465 [00:24<00:33, 25.65it/s]\u001b[A\n",
            " 42%|████▏     | 613/1465 [00:24<00:36, 23.49it/s]\u001b[A\n",
            " 42%|████▏     | 617/1465 [00:25<00:36, 23.52it/s]\u001b[A\n",
            " 42%|████▏     | 621/1465 [00:25<00:32, 25.70it/s]\u001b[A\n",
            " 43%|████▎     | 625/1465 [00:25<00:34, 24.12it/s]\u001b[A\n",
            " 43%|████▎     | 629/1465 [00:25<00:34, 24.10it/s]\u001b[A\n",
            " 43%|████▎     | 633/1465 [00:25<00:35, 23.48it/s]\u001b[A\n",
            " 43%|████▎     | 637/1465 [00:25<00:33, 24.89it/s]\u001b[A\n",
            " 44%|████▍     | 641/1465 [00:25<00:32, 25.56it/s]\u001b[A\n",
            " 44%|████▍     | 645/1465 [00:26<00:31, 25.91it/s]\u001b[A\n",
            " 44%|████▍     | 649/1465 [00:26<00:31, 25.68it/s]\u001b[A\n",
            " 45%|████▍     | 653/1465 [00:26<00:32, 24.88it/s]\u001b[A\n",
            " 45%|████▍     | 656/1465 [00:26<00:31, 26.08it/s]\u001b[A\n",
            " 45%|████▍     | 659/1465 [00:26<00:32, 25.13it/s]\u001b[A\n",
            " 45%|████▌     | 662/1465 [00:26<00:34, 22.97it/s]\u001b[A\n",
            " 45%|████▌     | 666/1465 [00:27<00:33, 23.51it/s]\u001b[A\n",
            " 46%|████▌     | 670/1465 [00:27<00:32, 24.49it/s]\u001b[A\n",
            " 46%|████▌     | 674/1465 [00:27<00:29, 26.53it/s]\u001b[A\n",
            " 46%|████▋     | 678/1465 [00:27<00:33, 23.37it/s]\u001b[A\n",
            " 47%|████▋     | 682/1465 [00:27<00:30, 25.89it/s]\u001b[A\n",
            " 47%|████▋     | 686/1465 [00:27<00:30, 25.44it/s]\u001b[A\n",
            " 47%|████▋     | 690/1465 [00:27<00:29, 26.33it/s]\u001b[A\n",
            " 47%|████▋     | 693/1465 [00:28<00:29, 26.42it/s]\u001b[A\n",
            " 48%|████▊     | 697/1465 [00:28<00:30, 25.17it/s]\u001b[A\n",
            " 48%|████▊     | 701/1465 [00:28<00:30, 24.99it/s]\u001b[A\n",
            " 48%|████▊     | 705/1465 [00:28<00:30, 24.56it/s]\u001b[A\n",
            " 48%|████▊     | 709/1465 [00:28<00:30, 24.89it/s]\u001b[A\n",
            " 49%|████▊     | 713/1465 [00:28<00:31, 24.06it/s]\u001b[A\n",
            " 49%|████▉     | 717/1465 [00:29<00:30, 24.33it/s]\u001b[A\n",
            " 49%|████▉     | 721/1465 [00:29<00:29, 24.88it/s]\u001b[A\n",
            " 49%|████▉     | 725/1465 [00:29<00:29, 25.05it/s]\u001b[A\n",
            " 50%|████▉     | 729/1465 [00:29<00:29, 24.61it/s]\u001b[A\n",
            " 50%|█████     | 733/1465 [00:29<00:29, 24.64it/s]\u001b[A\n",
            " 50%|█████     | 737/1465 [00:29<00:29, 24.75it/s]\u001b[A\n",
            " 51%|█████     | 741/1465 [00:29<00:28, 25.62it/s]\u001b[A\n",
            " 51%|█████     | 745/1465 [00:30<00:27, 26.51it/s]\u001b[A\n",
            " 51%|█████     | 749/1465 [00:30<00:26, 27.23it/s]\u001b[A\n",
            " 51%|█████▏    | 752/1465 [00:30<00:27, 25.94it/s]\u001b[A\n",
            " 52%|█████▏    | 755/1465 [00:30<00:29, 23.74it/s]\u001b[A\n",
            " 52%|█████▏    | 759/1465 [00:30<00:27, 25.51it/s]\u001b[A\n",
            " 52%|█████▏    | 762/1465 [00:30<00:28, 25.05it/s]\u001b[A\n",
            " 52%|█████▏    | 765/1465 [00:30<00:28, 24.92it/s]\u001b[A\n",
            " 52%|█████▏    | 769/1465 [00:31<00:25, 26.81it/s]\u001b[A\n",
            " 53%|█████▎    | 772/1465 [00:31<00:28, 23.95it/s]\u001b[A\n",
            " 53%|█████▎    | 775/1465 [00:31<00:30, 22.65it/s]\u001b[A\n",
            " 53%|█████▎    | 778/1465 [00:31<00:31, 22.03it/s]\u001b[A\n",
            " 53%|█████▎    | 782/1465 [00:31<00:30, 22.09it/s]\u001b[A\n",
            " 54%|█████▎    | 786/1465 [00:31<00:29, 23.39it/s]\u001b[A\n",
            " 54%|█████▍    | 790/1465 [00:31<00:27, 24.79it/s]\u001b[A\n",
            " 54%|█████▍    | 793/1465 [00:32<00:29, 23.16it/s]\u001b[A\n",
            " 54%|█████▍    | 797/1465 [00:32<00:29, 22.88it/s]\u001b[A\n",
            " 55%|█████▍    | 801/1465 [00:32<00:28, 23.17it/s]\u001b[A\n",
            " 55%|█████▍    | 805/1465 [00:32<00:28, 23.32it/s]\u001b[A\n",
            " 55%|█████▌    | 809/1465 [00:32<00:27, 23.70it/s]\u001b[A\n",
            " 55%|█████▌    | 813/1465 [00:32<00:25, 25.73it/s]\u001b[A\n",
            " 56%|█████▌    | 817/1465 [00:33<00:25, 25.37it/s]\u001b[A\n",
            " 56%|█████▌    | 821/1465 [00:33<00:27, 23.52it/s]\u001b[A\n",
            " 56%|█████▋    | 825/1465 [00:33<00:24, 25.84it/s]\u001b[A\n",
            " 57%|█████▋    | 829/1465 [00:33<00:23, 27.03it/s]\u001b[A\n",
            " 57%|█████▋    | 832/1465 [00:33<00:23, 26.58it/s]\u001b[A\n",
            " 57%|█████▋    | 835/1465 [00:33<00:25, 24.65it/s]\u001b[A\n",
            " 57%|█████▋    | 839/1465 [00:33<00:23, 26.26it/s]\u001b[A\n",
            " 57%|█████▋    | 842/1465 [00:34<00:25, 24.76it/s]\u001b[A\n",
            " 58%|█████▊    | 845/1465 [00:34<00:25, 24.52it/s]\u001b[A\n",
            " 58%|█████▊    | 848/1465 [00:34<00:24, 25.63it/s]\u001b[A\n",
            " 58%|█████▊    | 851/1465 [00:34<00:24, 25.56it/s]\u001b[A\n",
            " 58%|█████▊    | 854/1465 [00:34<00:25, 23.95it/s]\u001b[A\n",
            " 58%|█████▊    | 857/1465 [00:34<00:27, 22.02it/s]\u001b[A\n",
            " 59%|█████▉    | 861/1465 [00:34<00:26, 22.91it/s]\u001b[A\n",
            " 59%|█████▉    | 865/1465 [00:35<00:26, 22.85it/s]\u001b[A\n",
            " 59%|█████▉    | 869/1465 [00:35<00:25, 23.73it/s]\u001b[A\n",
            " 60%|█████▉    | 873/1465 [00:35<00:25, 23.30it/s]\u001b[A\n",
            " 60%|█████▉    | 877/1465 [00:35<00:25, 23.45it/s]\u001b[A\n",
            " 60%|██████    | 881/1465 [00:35<00:24, 23.69it/s]\u001b[A\n",
            " 60%|██████    | 885/1465 [00:35<00:22, 25.86it/s]\u001b[A\n",
            " 61%|██████    | 889/1465 [00:35<00:22, 26.06it/s]\u001b[A\n",
            " 61%|██████    | 893/1465 [00:36<00:21, 26.39it/s]\u001b[A\n",
            " 61%|██████    | 897/1465 [00:36<00:21, 25.95it/s]\u001b[A\n",
            " 62%|██████▏   | 901/1465 [00:36<00:23, 24.32it/s]\u001b[A\n",
            " 62%|██████▏   | 905/1465 [00:36<00:22, 24.93it/s]\u001b[A\n",
            " 62%|██████▏   | 909/1465 [00:36<00:21, 25.46it/s]\u001b[A\n",
            " 62%|██████▏   | 913/1465 [00:36<00:22, 25.02it/s]\u001b[A\n",
            " 63%|██████▎   | 917/1465 [00:37<00:21, 25.03it/s]\u001b[A\n",
            " 63%|██████▎   | 921/1465 [00:37<00:22, 24.61it/s]\u001b[A\n",
            " 63%|██████▎   | 925/1465 [00:37<00:21, 24.77it/s]\u001b[A\n",
            " 63%|██████▎   | 929/1465 [00:37<00:21, 24.91it/s]\u001b[A\n",
            " 64%|██████▎   | 933/1465 [00:37<00:21, 24.62it/s]\u001b[A\n",
            " 64%|██████▍   | 937/1465 [00:37<00:22, 23.25it/s]\u001b[A\n",
            " 64%|██████▍   | 941/1465 [00:38<00:20, 25.44it/s]\u001b[A\n",
            " 65%|██████▍   | 945/1465 [00:38<00:20, 25.09it/s]\u001b[A\n",
            " 65%|██████▍   | 949/1465 [00:38<00:20, 24.62it/s]\u001b[A\n",
            " 65%|██████▌   | 953/1465 [00:38<00:21, 23.97it/s]\u001b[A\n",
            " 65%|██████▌   | 957/1465 [00:38<00:20, 24.45it/s]\u001b[A\n",
            " 66%|██████▌   | 961/1465 [00:38<00:20, 24.99it/s]\u001b[A\n",
            " 66%|██████▌   | 965/1465 [00:39<00:20, 24.27it/s]\u001b[A\n",
            " 66%|██████▌   | 969/1465 [00:39<00:19, 25.70it/s]\u001b[A\n",
            " 66%|██████▋   | 973/1465 [00:39<00:19, 24.63it/s]\u001b[A\n",
            " 67%|██████▋   | 977/1465 [00:39<00:20, 23.94it/s]\u001b[A\n",
            " 67%|██████▋   | 981/1465 [00:39<00:19, 25.04it/s]\u001b[A\n",
            " 67%|██████▋   | 985/1465 [00:39<00:18, 25.69it/s]\u001b[A\n",
            " 68%|██████▊   | 989/1465 [00:39<00:18, 25.47it/s]\u001b[A\n",
            " 68%|██████▊   | 993/1465 [00:40<00:18, 26.06it/s]\u001b[A\n",
            " 68%|██████▊   | 997/1465 [00:40<00:19, 24.57it/s]\u001b[A\n",
            " 68%|██████▊   | 1001/1465 [00:40<00:18, 25.32it/s]\u001b[A\n",
            " 69%|██████▊   | 1005/1465 [00:40<00:18, 25.17it/s]\u001b[A\n",
            " 69%|██████▉   | 1009/1465 [00:40<00:18, 24.73it/s]\u001b[A\n",
            " 69%|██████▉   | 1013/1465 [00:40<00:19, 23.66it/s]\u001b[A\n",
            " 69%|██████▉   | 1017/1465 [00:41<00:18, 24.39it/s]\u001b[A\n",
            " 70%|██████▉   | 1021/1465 [00:41<00:19, 23.19it/s]\u001b[A\n",
            " 70%|██████▉   | 1025/1465 [00:41<00:16, 26.20it/s]\u001b[A\n",
            " 70%|███████   | 1029/1465 [00:41<00:16, 26.52it/s]\u001b[A\n",
            " 71%|███████   | 1033/1465 [00:41<00:16, 26.55it/s]\u001b[A\n",
            " 71%|███████   | 1037/1465 [00:41<00:15, 28.44it/s]\u001b[A\n",
            " 71%|███████   | 1041/1465 [00:42<00:16, 25.25it/s]\u001b[A\n",
            " 71%|███████▏  | 1045/1465 [00:42<00:17, 24.03it/s]\u001b[A\n",
            " 72%|███████▏  | 1049/1465 [00:42<00:15, 26.56it/s]\u001b[A\n",
            " 72%|███████▏  | 1053/1465 [00:42<00:17, 24.22it/s]\u001b[A\n",
            " 72%|███████▏  | 1057/1465 [00:42<00:16, 24.73it/s]\u001b[A\n",
            " 72%|███████▏  | 1061/1465 [00:42<00:14, 27.28it/s]\u001b[A\n",
            " 73%|███████▎  | 1065/1465 [00:42<00:15, 25.14it/s]\u001b[A\n",
            " 73%|███████▎  | 1069/1465 [00:43<00:15, 25.14it/s]\u001b[A\n",
            " 73%|███████▎  | 1073/1465 [00:43<00:16, 23.69it/s]\u001b[A\n",
            " 74%|███████▎  | 1077/1465 [00:43<00:16, 23.33it/s]\u001b[A\n",
            " 74%|███████▎  | 1080/1465 [00:43<00:15, 24.83it/s]\u001b[A\n",
            " 74%|███████▍  | 1084/1465 [00:43<00:13, 27.33it/s]\u001b[A\n",
            " 74%|███████▍  | 1087/1465 [00:43<00:15, 24.32it/s]\u001b[A\n",
            " 74%|███████▍  | 1090/1465 [00:44<00:15, 23.84it/s]\u001b[A\n",
            " 75%|███████▍  | 1093/1465 [00:44<00:15, 23.95it/s]\u001b[A\n",
            " 75%|███████▍  | 1097/1465 [00:44<00:15, 23.62it/s]\u001b[A\n",
            " 75%|███████▌  | 1101/1465 [00:44<00:14, 24.78it/s]\u001b[A\n",
            " 75%|███████▌  | 1105/1465 [00:44<00:14, 25.24it/s]\u001b[A\n",
            " 76%|███████▌  | 1109/1465 [00:44<00:13, 25.49it/s]\u001b[A\n",
            " 76%|███████▌  | 1113/1465 [00:44<00:13, 25.75it/s]\u001b[A\n",
            " 76%|███████▌  | 1116/1465 [00:45<00:13, 26.36it/s]\u001b[A\n",
            " 76%|███████▋  | 1119/1465 [00:45<00:13, 25.76it/s]\u001b[A\n",
            " 77%|███████▋  | 1122/1465 [00:45<00:13, 25.22it/s]\u001b[A\n",
            " 77%|███████▋  | 1125/1465 [00:45<00:15, 21.90it/s]\u001b[A\n",
            " 77%|███████▋  | 1129/1465 [00:45<00:14, 22.68it/s]\u001b[A\n",
            " 77%|███████▋  | 1133/1465 [00:45<00:14, 23.61it/s]\u001b[A\n",
            " 78%|███████▊  | 1137/1465 [00:45<00:13, 24.41it/s]\u001b[A\n",
            " 78%|███████▊  | 1140/1465 [00:46<00:12, 25.72it/s]\u001b[A\n",
            " 78%|███████▊  | 1144/1465 [00:46<00:13, 24.38it/s]\u001b[A\n",
            " 78%|███████▊  | 1148/1465 [00:46<00:13, 23.95it/s]\u001b[A\n",
            " 79%|███████▊  | 1152/1465 [00:46<00:13, 22.88it/s]\u001b[A\n",
            " 79%|███████▉  | 1156/1465 [00:46<00:12, 25.01it/s]\u001b[A\n",
            " 79%|███████▉  | 1160/1465 [00:46<00:12, 24.82it/s]\u001b[A\n",
            " 79%|███████▉  | 1164/1465 [00:47<00:12, 24.90it/s]\u001b[A\n",
            " 80%|███████▉  | 1168/1465 [00:47<00:12, 24.11it/s]\u001b[A\n",
            " 80%|████████  | 1172/1465 [00:47<00:11, 24.89it/s]\u001b[A\n",
            " 80%|████████  | 1176/1465 [00:47<00:11, 25.77it/s]\u001b[A\n",
            " 81%|████████  | 1180/1465 [00:47<00:11, 24.84it/s]\u001b[A\n",
            " 81%|████████  | 1184/1465 [00:47<00:11, 24.44it/s]\u001b[A\n",
            " 81%|████████  | 1188/1465 [00:47<00:10, 25.69it/s]\u001b[A\n",
            " 81%|████████▏ | 1192/1465 [00:48<00:10, 25.05it/s]\u001b[A\n",
            " 82%|████████▏ | 1196/1465 [00:48<00:10, 25.92it/s]\u001b[A\n",
            " 82%|████████▏ | 1199/1465 [00:48<00:10, 25.08it/s]\u001b[A\n",
            " 82%|████████▏ | 1202/1465 [00:48<00:11, 23.53it/s]\u001b[A\n",
            " 82%|████████▏ | 1206/1465 [00:48<00:10, 24.54it/s]\u001b[A\n",
            " 83%|████████▎ | 1210/1465 [00:48<00:10, 25.39it/s]\u001b[A\n",
            " 83%|████████▎ | 1214/1465 [00:49<00:10, 24.93it/s]\u001b[A\n",
            " 83%|████████▎ | 1218/1465 [00:49<00:09, 24.86it/s]\u001b[A\n",
            " 83%|████████▎ | 1222/1465 [00:49<00:09, 25.04it/s]\u001b[A\n",
            " 84%|████████▎ | 1226/1465 [00:49<00:09, 25.86it/s]\u001b[A\n",
            " 84%|████████▍ | 1230/1465 [00:49<00:09, 25.42it/s]\u001b[A\n",
            " 84%|████████▍ | 1234/1465 [00:49<00:09, 25.43it/s]\u001b[A\n",
            " 85%|████████▍ | 1238/1465 [00:49<00:08, 27.57it/s]\u001b[A\n",
            " 85%|████████▍ | 1242/1465 [00:50<00:08, 27.18it/s]\u001b[A\n",
            " 85%|████████▍ | 1245/1465 [00:50<00:07, 27.60it/s]\u001b[A\n",
            " 85%|████████▌ | 1248/1465 [00:50<00:09, 23.97it/s]\u001b[A\n",
            " 85%|████████▌ | 1252/1465 [00:50<00:09, 23.25it/s]\u001b[A\n",
            " 86%|████████▌ | 1256/1465 [00:50<00:08, 23.50it/s]\u001b[A\n",
            " 86%|████████▌ | 1260/1465 [00:50<00:08, 24.72it/s]\u001b[A\n",
            " 86%|████████▋ | 1264/1465 [00:50<00:07, 25.45it/s]\u001b[A\n",
            " 87%|████████▋ | 1268/1465 [00:51<00:08, 24.59it/s]\u001b[A\n",
            " 87%|████████▋ | 1272/1465 [00:51<00:08, 23.83it/s]\u001b[A\n",
            " 87%|████████▋ | 1276/1465 [00:51<00:08, 22.64it/s]\u001b[A\n",
            " 87%|████████▋ | 1280/1465 [00:51<00:07, 25.23it/s]\u001b[A\n",
            " 88%|████████▊ | 1284/1465 [00:51<00:06, 25.88it/s]\u001b[A\n",
            " 88%|████████▊ | 1288/1465 [00:51<00:07, 24.98it/s]\u001b[A\n",
            " 88%|████████▊ | 1292/1465 [00:52<00:07, 24.39it/s]\u001b[A\n",
            " 88%|████████▊ | 1296/1465 [00:52<00:06, 25.50it/s]\u001b[A\n",
            " 89%|████████▊ | 1300/1465 [00:52<00:06, 25.95it/s]\u001b[A\n",
            " 89%|████████▉ | 1304/1465 [00:52<00:06, 26.63it/s]\u001b[A\n",
            " 89%|████████▉ | 1308/1465 [00:52<00:06, 24.99it/s]\u001b[A\n",
            " 90%|████████▉ | 1312/1465 [00:52<00:06, 23.61it/s]\u001b[A\n",
            " 90%|████████▉ | 1316/1465 [00:53<00:05, 25.20it/s]\u001b[A\n",
            " 90%|█████████ | 1320/1465 [00:53<00:05, 25.72it/s]\u001b[A\n",
            " 90%|█████████ | 1324/1465 [00:53<00:05, 25.57it/s]\u001b[A\n",
            " 91%|█████████ | 1328/1465 [00:53<00:05, 26.05it/s]\u001b[A\n",
            " 91%|█████████ | 1332/1465 [00:53<00:04, 26.63it/s]\u001b[A\n",
            " 91%|█████████ | 1336/1465 [00:53<00:05, 25.62it/s]\u001b[A\n",
            " 91%|█████████▏| 1340/1465 [00:54<00:04, 25.34it/s]\u001b[A\n",
            " 92%|█████████▏| 1344/1465 [00:54<00:05, 24.12it/s]\u001b[A\n",
            " 92%|█████████▏| 1348/1465 [00:54<00:04, 24.87it/s]\u001b[A\n",
            " 92%|█████████▏| 1352/1465 [00:54<00:04, 24.52it/s]\u001b[A\n",
            " 93%|█████████▎| 1356/1465 [00:54<00:04, 26.31it/s]\u001b[A\n",
            " 93%|█████████▎| 1360/1465 [00:54<00:03, 26.31it/s]\u001b[A\n",
            " 93%|█████████▎| 1364/1465 [00:54<00:03, 28.65it/s]\u001b[A\n",
            " 93%|█████████▎| 1367/1465 [00:55<00:03, 27.76it/s]\u001b[A\n",
            " 94%|█████████▎| 1370/1465 [00:55<00:03, 26.11it/s]\u001b[A\n",
            " 94%|█████████▎| 1373/1465 [00:55<00:04, 22.52it/s]\u001b[A\n",
            " 94%|█████████▍| 1377/1465 [00:55<00:03, 23.13it/s]\u001b[A\n",
            " 94%|█████████▍| 1381/1465 [00:55<00:03, 25.25it/s]\u001b[A\n",
            " 94%|█████████▍| 1384/1465 [00:55<00:03, 25.83it/s]\u001b[A\n",
            " 95%|█████████▍| 1388/1465 [00:55<00:02, 26.09it/s]\u001b[A\n",
            " 95%|█████████▍| 1391/1465 [00:55<00:02, 24.77it/s]\u001b[A\n",
            " 95%|█████████▌| 1394/1465 [00:56<00:03, 23.28it/s]\u001b[A\n",
            " 95%|█████████▌| 1397/1465 [00:56<00:03, 22.37it/s]\u001b[A\n",
            " 96%|█████████▌| 1401/1465 [00:56<00:02, 22.53it/s]\u001b[A\n",
            " 96%|█████████▌| 1405/1465 [00:56<00:02, 23.07it/s]\u001b[A\n",
            " 96%|█████████▌| 1409/1465 [00:56<00:02, 24.11it/s]\u001b[A\n",
            " 96%|█████████▋| 1413/1465 [00:56<00:02, 24.59it/s]\u001b[A\n",
            " 97%|█████████▋| 1417/1465 [00:57<00:01, 25.16it/s]\u001b[A\n",
            " 97%|█████████▋| 1421/1465 [00:57<00:01, 26.22it/s]\u001b[A\n",
            " 97%|█████████▋| 1425/1465 [00:57<00:01, 24.61it/s]\u001b[A\n",
            " 98%|█████████▊| 1429/1465 [00:57<00:01, 24.93it/s]\u001b[A\n",
            " 98%|█████████▊| 1433/1465 [00:57<00:01, 24.50it/s]\u001b[A\n",
            " 98%|█████████▊| 1437/1465 [00:57<00:01, 25.49it/s]\u001b[A\n",
            " 98%|█████████▊| 1441/1465 [00:58<00:00, 24.58it/s]\u001b[A\n",
            " 99%|█████████▊| 1445/1465 [00:58<00:00, 26.37it/s]\u001b[A\n",
            " 99%|█████████▉| 1449/1465 [00:58<00:00, 26.41it/s]\u001b[A\n",
            " 99%|█████████▉| 1452/1465 [00:58<00:00, 26.67it/s]\u001b[A\n",
            " 99%|█████████▉| 1455/1465 [00:58<00:00, 24.10it/s]\u001b[A\n",
            "100%|█████████▉| 1459/1465 [00:58<00:00, 24.04it/s]\u001b[A\n",
            "100%|██████████| 1465/1465 [00:59<00:00, 24.83it/s]\n"
          ],
          "name": "stderr"
        },
        {
          "output_type": "stream",
          "text": [
            "/content/woodnet_cm.png\n"
          ],
          "name": "stdout"
        },
        {
          "output_type": "display_data",
          "data": {
            "image/png": "[encoded data removed]",
            "text/plain": [
              "<Figure size 432x288 with 2 Axes>"
            ]
          },
          "metadata": {
            "tags": [],
            "needs_background": "light"
          }
        }
      ]
    },
    {
      "cell_type": "code",
      "metadata": {
        "id": "5Bfw2OsnHSPw"
      },
      "source": [
        ""
      ],
      "execution_count": null,
      "outputs": []
    }
  ]
}