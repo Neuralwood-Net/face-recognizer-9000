{
 "cells": [
  {
   "cell_type": "markdown",
   "metadata": {},
   "source": [
    "# Extracting images from video files"
   ]
  },
  {
   "cell_type": "code",
   "execution_count": 1,
   "metadata": {},
   "outputs": [],
   "source": [
    "import os\n",
    "import cv2"
   ]
  },
  {
   "cell_type": "code",
   "execution_count": 2,
   "metadata": {},
   "outputs": [],
   "source": [
    "def preprocess_image(img, img_size=128):\n",
    "    # Convert to grayscale\n",
    "    # Note: we convert from BGR as VideoCapture \n",
    "    # converts the images to BGR color frame by defualt\n",
    "    img = cv2.cvtColor(img, cv2.COLOR_BGR2GRAY)\n",
    "    \n",
    "    # Make image square by filling with black padding\n",
    "    h, w = img.shape\n",
    "    img = cv2.copyMakeBorder(\n",
    "        img,\n",
    "        top=0,\n",
    "        right=max(0, h-w),\n",
    "        bottom=max(0, w-h),\n",
    "        left=0,\n",
    "        borderType=0,\n",
    "    )\n",
    "\n",
    "    # Resize image to specified size\n",
    "    img = cv2.resize(img, (img_size, img_size))\n",
    "    return img"
   ]
  },
  {
   "cell_type": "code",
   "execution_count": 3,
   "metadata": {},
   "outputs": [],
   "source": [
    "def extract_images_from_video(video, target_dir=None, file_prefix=None, img_size=128, silent=False):    \n",
    "    \"\"\"\n",
    "    Function that saves every single frame of a video as images.\n",
    "    Converts to greyscale, pads with black to make square images and resizes.\n",
    "    \"\"\"\n",
    "    \n",
    "    vidcap = cv2.VideoCapture(video)\n",
    "    count = 0\n",
    "\n",
    "    # Where to save images\n",
    "    if not target_dir:\n",
    "        target_dir = os.getcwd() + \"/images_from_video\"\n",
    "        os.makedirs(target_dir, exist_ok=True) \n",
    "\n",
    "    # Use video file name as prefix if not specified\n",
    "    if not file_prefix:\n",
    "        file_prefix = video.rpartition(os.sep)[2].split(\".\")[0]\n",
    "\n",
    "    success = True    \n",
    "    while success:\n",
    "        # Read image from video\n",
    "        success, image = vidcap.read()\n",
    "        \n",
    "        if not success:\n",
    "            continue\n",
    "        \n",
    "        # Convert to greyscale, make square and resize\n",
    "        image = preprocess_image(image, img_size)\n",
    "\n",
    "        # Save to file\n",
    "        count += 1\n",
    "        file_name = file_prefix + \"_\" + str(count) + \".jpg\"\n",
    "        path = os.path.join(target_dir, file_name)\n",
    "        cv2.imwrite(path, image)\n",
    "\n",
    "        # Check that image is not corrupted\n",
    "        if cv2.imread(path) is None:\n",
    "            if not silent:\n",
    "                print(f\"WARNING: image corrupted at path {path}\")\n",
    "            os.remove(path)\n",
    "        else:\n",
    "            if not silent:\n",
    "                print(f'Image successfully written at {path}')\n"
   ]
  },
  {
   "cell_type": "code",
   "execution_count": null,
   "metadata": {},
   "outputs": [],
   "source": []
  }
 ],
 "metadata": {
  "environment": {
   "name": "pytorch-gpu.1-4.m58",
   "type": "gcloud",
   "uri": "gcr.io/deeplearning-platform-release/pytorch-gpu.1-4:m58"
  },
  "kernelspec": {
   "display_name": "Python 3",
   "language": "python",
   "name": "python3"
  },
  "language_info": {
   "codemirror_mode": {
    "name": "ipython",
    "version": 3
   },
   "file_extension": ".py",
   "mimetype": "text/x-python",
   "name": "python",
   "nbconvert_exporter": "python",
   "pygments_lexer": "ipython3",
   "version": "3.7.8"
  }
 },
 "nbformat": 4,
 "nbformat_minor": 4
}
